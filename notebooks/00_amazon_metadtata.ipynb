{
 "cells": [
  {
   "cell_type": "code",
   "execution_count": 2,
   "id": "f1e4772a-08d2-4b07-9ab3-09584b007735",
   "metadata": {},
   "outputs": [],
   "source": [
    "import pandas as pd\n",
    "import requests\n",
    "from pprint import pprint"
   ]
  },
  {
   "cell_type": "code",
   "execution_count": 2,
   "id": "daf78345-81a7-4c7c-a18e-b571df50a158",
   "metadata": {},
   "outputs": [],
   "source": [
    "df_products = pd.read_parquet('esci-data/shopping_queries_dataset/shopping_queries_dataset_products.parquet')\n"
   ]
  },
  {
   "cell_type": "code",
   "execution_count": 4,
   "id": "81bb4aed-f2f7-492e-bdc9-fd093524ee22",
   "metadata": {},
   "outputs": [],
   "source": [
    "df_products_us = df_products[df_products['product_locale']==\"us\"]"
   ]
  },
  {
   "cell_type": "code",
   "execution_count": 5,
   "id": "70a468e0-1f32-412f-b791-993fde294237",
   "metadata": {},
   "outputs": [
    {
     "data": {
      "text/html": [
       "<div>\n",
       "<style scoped>\n",
       "    .dataframe tbody tr th:only-of-type {\n",
       "        vertical-align: middle;\n",
       "    }\n",
       "\n",
       "    .dataframe tbody tr th {\n",
       "        vertical-align: top;\n",
       "    }\n",
       "\n",
       "    .dataframe thead th {\n",
       "        text-align: right;\n",
       "    }\n",
       "</style>\n",
       "<table border=\"1\" class=\"dataframe\">\n",
       "  <thead>\n",
       "    <tr style=\"text-align: right;\">\n",
       "      <th></th>\n",
       "      <th>product_id</th>\n",
       "      <th>product_title</th>\n",
       "      <th>product_description</th>\n",
       "      <th>product_bullet_point</th>\n",
       "      <th>product_brand</th>\n",
       "      <th>product_color</th>\n",
       "      <th>product_locale</th>\n",
       "    </tr>\n",
       "  </thead>\n",
       "  <tbody>\n",
       "    <tr>\n",
       "      <th>167168</th>\n",
       "      <td>B003O0MNGC</td>\n",
       "      <td>Delta BreezSignature VFB25ACH 80 CFM Exhaust B...</td>\n",
       "      <td>None</td>\n",
       "      <td>Virtually silent at less than 0.3 sones\\nPreci...</td>\n",
       "      <td>DELTA ELECTRONICS (AMERICAS) LTD.</td>\n",
       "      <td>White</td>\n",
       "      <td>us</td>\n",
       "    </tr>\n",
       "    <tr>\n",
       "      <th>167169</th>\n",
       "      <td>B00MARNO5Y</td>\n",
       "      <td>Aero Pure AP80RVLW Super Quiet 80 CFM Recessed...</td>\n",
       "      <td>None</td>\n",
       "      <td>Super quiet 80CFM energy efficient fan virtual...</td>\n",
       "      <td>Aero Pure</td>\n",
       "      <td>White</td>\n",
       "      <td>us</td>\n",
       "    </tr>\n",
       "    <tr>\n",
       "      <th>167170</th>\n",
       "      <td>B011RX6PNO</td>\n",
       "      <td>Aero Pure AP120H-SL W Slim Fit 120 CFM Bathroo...</td>\n",
       "      <td>None</td>\n",
       "      <td>Slim Fit Housing Fits Into 2\" X 6\" Ceiling Joi...</td>\n",
       "      <td>Aero Pure</td>\n",
       "      <td>White Finish</td>\n",
       "      <td>us</td>\n",
       "    </tr>\n",
       "    <tr>\n",
       "      <th>167171</th>\n",
       "      <td>B01MZIK0PI</td>\n",
       "      <td>Delta Electronics (Americas) Ltd. RAD80 Delta ...</td>\n",
       "      <td>None</td>\n",
       "      <td>Quiet operation at 1.5 Sones\\nPrecision engine...</td>\n",
       "      <td>DELTA ELECTRONICS (AMERICAS) LTD.</td>\n",
       "      <td>With Heater</td>\n",
       "      <td>us</td>\n",
       "    </tr>\n",
       "    <tr>\n",
       "      <th>167172</th>\n",
       "      <td>B01N5Y6002</td>\n",
       "      <td>Delta Electronics (Americas) Ltd. GBR80HLED De...</td>\n",
       "      <td>None</td>\n",
       "      <td>Ultra energy-efficient LED module (11-watt equ...</td>\n",
       "      <td>DELTA ELECTRONICS (AMERICAS) LTD.</td>\n",
       "      <td>With LED Light, Dual Speed &amp; Humidity Sensor</td>\n",
       "      <td>us</td>\n",
       "    </tr>\n",
       "    <tr>\n",
       "      <th>...</th>\n",
       "      <td>...</td>\n",
       "      <td>...</td>\n",
       "      <td>...</td>\n",
       "      <td>...</td>\n",
       "      <td>...</td>\n",
       "      <td>...</td>\n",
       "      <td>...</td>\n",
       "    </tr>\n",
       "    <tr>\n",
       "      <th>1753347</th>\n",
       "      <td>B08XX3NL14</td>\n",
       "      <td>SAYFINE 5 Pack Plain Atheletic Shirts for Men,...</td>\n",
       "      <td>&lt;b&gt;SAYFINE MENS T SHIRTS &amp; GYM T SHIRTS &amp; WORK...</td>\n",
       "      <td>[VALUE PACK] - Athletic crew neck and flat-loc...</td>\n",
       "      <td>SAYFINE</td>\n",
       "      <td>Black (5 Pack)</td>\n",
       "      <td>us</td>\n",
       "    </tr>\n",
       "    <tr>\n",
       "      <th>1753348</th>\n",
       "      <td>B08Y8M9Z6L</td>\n",
       "      <td>GEEK LIGHTING Mens Polo Shirt Sport Casual Sho...</td>\n",
       "      <td>None</td>\n",
       "      <td>Material: This mens running shirt is made with...</td>\n",
       "      <td>GEEK LIGHTING</td>\n",
       "      <td>012-grey</td>\n",
       "      <td>us</td>\n",
       "    </tr>\n",
       "    <tr>\n",
       "      <th>1753349</th>\n",
       "      <td>B0936FKSS6</td>\n",
       "      <td>Alex Vando Mens Golf Shirt Moisture Wicking Qu...</td>\n",
       "      <td>None</td>\n",
       "      <td>Material: Our Mens Golf Shirts are made from 9...</td>\n",
       "      <td>Alex Vando</td>\n",
       "      <td>Blue</td>\n",
       "      <td>us</td>\n",
       "    </tr>\n",
       "    <tr>\n",
       "      <th>1753350</th>\n",
       "      <td>B096RXY1VT</td>\n",
       "      <td>Casei Womens Polo Shirts Golf Shirts Quick Dry...</td>\n",
       "      <td>black friday deals 2021 gifts for men gifts fo...</td>\n",
       "      <td>【Quick Dry &amp; Moisture Wicking】Womens polo shir...</td>\n",
       "      <td>Casei</td>\n",
       "      <td>White</td>\n",
       "      <td>us</td>\n",
       "    </tr>\n",
       "    <tr>\n",
       "      <th>1753351</th>\n",
       "      <td>B09BW3YVP8</td>\n",
       "      <td>Men Golf Performance Shirt Moisture Wicking Lo...</td>\n",
       "      <td>Golf/Tennis has to be one of the most stylish ...</td>\n",
       "      <td>➤PERFORMANCE FABRIC: Lightweight and Breathabl...</td>\n",
       "      <td>JACK SMITH</td>\n",
       "      <td>Red</td>\n",
       "      <td>us</td>\n",
       "    </tr>\n",
       "  </tbody>\n",
       "</table>\n",
       "<p>1215854 rows × 7 columns</p>\n",
       "</div>"
      ],
      "text/plain": [
       "         product_id                                      product_title  \\\n",
       "167168   B003O0MNGC  Delta BreezSignature VFB25ACH 80 CFM Exhaust B...   \n",
       "167169   B00MARNO5Y  Aero Pure AP80RVLW Super Quiet 80 CFM Recessed...   \n",
       "167170   B011RX6PNO  Aero Pure AP120H-SL W Slim Fit 120 CFM Bathroo...   \n",
       "167171   B01MZIK0PI  Delta Electronics (Americas) Ltd. RAD80 Delta ...   \n",
       "167172   B01N5Y6002  Delta Electronics (Americas) Ltd. GBR80HLED De...   \n",
       "...             ...                                                ...   \n",
       "1753347  B08XX3NL14  SAYFINE 5 Pack Plain Atheletic Shirts for Men,...   \n",
       "1753348  B08Y8M9Z6L  GEEK LIGHTING Mens Polo Shirt Sport Casual Sho...   \n",
       "1753349  B0936FKSS6  Alex Vando Mens Golf Shirt Moisture Wicking Qu...   \n",
       "1753350  B096RXY1VT  Casei Womens Polo Shirts Golf Shirts Quick Dry...   \n",
       "1753351  B09BW3YVP8  Men Golf Performance Shirt Moisture Wicking Lo...   \n",
       "\n",
       "                                       product_description  \\\n",
       "167168                                                None   \n",
       "167169                                                None   \n",
       "167170                                                None   \n",
       "167171                                                None   \n",
       "167172                                                None   \n",
       "...                                                    ...   \n",
       "1753347  <b>SAYFINE MENS T SHIRTS & GYM T SHIRTS & WORK...   \n",
       "1753348                                               None   \n",
       "1753349                                               None   \n",
       "1753350  black friday deals 2021 gifts for men gifts fo...   \n",
       "1753351  Golf/Tennis has to be one of the most stylish ...   \n",
       "\n",
       "                                      product_bullet_point  \\\n",
       "167168   Virtually silent at less than 0.3 sones\\nPreci...   \n",
       "167169   Super quiet 80CFM energy efficient fan virtual...   \n",
       "167170   Slim Fit Housing Fits Into 2\" X 6\" Ceiling Joi...   \n",
       "167171   Quiet operation at 1.5 Sones\\nPrecision engine...   \n",
       "167172   Ultra energy-efficient LED module (11-watt equ...   \n",
       "...                                                    ...   \n",
       "1753347  [VALUE PACK] - Athletic crew neck and flat-loc...   \n",
       "1753348  Material: This mens running shirt is made with...   \n",
       "1753349  Material: Our Mens Golf Shirts are made from 9...   \n",
       "1753350  【Quick Dry & Moisture Wicking】Womens polo shir...   \n",
       "1753351  ➤PERFORMANCE FABRIC: Lightweight and Breathabl...   \n",
       "\n",
       "                             product_brand  \\\n",
       "167168   DELTA ELECTRONICS (AMERICAS) LTD.   \n",
       "167169                           Aero Pure   \n",
       "167170                           Aero Pure   \n",
       "167171   DELTA ELECTRONICS (AMERICAS) LTD.   \n",
       "167172   DELTA ELECTRONICS (AMERICAS) LTD.   \n",
       "...                                    ...   \n",
       "1753347                            SAYFINE   \n",
       "1753348                      GEEK LIGHTING   \n",
       "1753349                         Alex Vando   \n",
       "1753350                              Casei   \n",
       "1753351                         JACK SMITH   \n",
       "\n",
       "                                        product_color product_locale  \n",
       "167168                                          White             us  \n",
       "167169                                          White             us  \n",
       "167170                                   White Finish             us  \n",
       "167171                                    With Heater             us  \n",
       "167172   With LED Light, Dual Speed & Humidity Sensor             us  \n",
       "...                                               ...            ...  \n",
       "1753347                                Black (5 Pack)             us  \n",
       "1753348                                      012-grey             us  \n",
       "1753349                                          Blue             us  \n",
       "1753350                                         White             us  \n",
       "1753351                                           Red             us  \n",
       "\n",
       "[1215854 rows x 7 columns]"
      ]
     },
     "execution_count": 5,
     "metadata": {},
     "output_type": "execute_result"
    }
   ],
   "source": [
    "df_products_us"
   ]
  },
  {
   "cell_type": "code",
   "execution_count": null,
   "id": "867f0862-3ee3-4eab-bb4d-85e37e6f2b57",
   "metadata": {},
   "outputs": [],
   "source": []
  },
  {
   "cell_type": "code",
   "execution_count": null,
   "id": "aaabc8e2-e7d4-41da-8f4a-e4e106434ec7",
   "metadata": {},
   "outputs": [],
   "source": []
  },
  {
   "cell_type": "code",
   "execution_count": null,
   "id": "6ca5caa2-12aa-4f71-8e9f-aa1931bff651",
   "metadata": {},
   "outputs": [],
   "source": []
  },
  {
   "cell_type": "code",
   "execution_count": 9,
   "id": "08827eb3-f4e4-4570-8132-877f09fcb075",
   "metadata": {},
   "outputs": [
    {
     "name": "stdout",
     "output_type": "stream",
     "text": [
      "{'message': 'Unauthorized'}\n"
     ]
    }
   ],
   "source": [
    "\n",
    "\n",
    "\n",
    "# Structure payload.\n",
    "payload = {\n",
    "    'source': 'amazon_product',\n",
    "    'domain': 'us',\n",
    "    'query': 'B003O0MNGC',\n",
    "    'parse': True,\n",
    "    'context': [\n",
    "    {\n",
    "      'key': 'autoselect_variant', 'value': True\n",
    "    }],\n",
    "}\n",
    "\n",
    "\n",
    "# Get response.\n",
    "response = requests.request(\n",
    "    'POST',\n",
    "    'https://realtime.oxylabs.io/v1/queries',\n",
    "    auth=('nproxy', '7SYPQjwZY8vr8'),\n",
    "    json=payload,\n",
    ")\n",
    "\n",
    "# Print prettified response to stdout.\n",
    "pprint(response.json())"
   ]
  },
  {
   "cell_type": "code",
   "execution_count": null,
   "id": "000200d3-7981-4fbd-8f02-6207e5b63916",
   "metadata": {},
   "outputs": [],
   "source": [
    "customer-nproxy-sessid-0226285219-sesstime-10:7SYPQjwZY8vr8@pr.oxylabs.io:7777"
   ]
  },
  {
   "cell_type": "code",
   "execution_count": null,
   "id": "07ad9a38-0590-4d0e-8c33-b6380805d384",
   "metadata": {},
   "outputs": [],
   "source": []
  },
  {
   "cell_type": "code",
   "execution_count": null,
   "id": "65d4af13-1cb5-4ad6-bd90-f35e2fd5a1c6",
   "metadata": {},
   "outputs": [],
   "source": []
  },
  {
   "cell_type": "code",
   "execution_count": 11,
   "id": "b73fff97-7fbd-45aa-abfa-234bacfbbe42",
   "metadata": {},
   "outputs": [
    {
     "name": "stdout",
     "output_type": "stream",
     "text": [
      "{'message': 'Unauthorized'}\n"
     ]
    }
   ],
   "source": [
    "import requests\n",
    "from pprint import pprint\n",
    "\n",
    "\n",
    "# Structure payload.\n",
    "payload = {\n",
    "    'source': 'amazon_product',\n",
    "    'domain': 'nl',\n",
    "    'query': 'B09RX4KS1G',\n",
    "    'parse': True,\n",
    "    'context': [\n",
    "    {\n",
    "      'key': 'autoselect_variant', 'value': True\n",
    "    }],\n",
    "}\n",
    "\n",
    "\n",
    "# Get response.\n",
    "response = requests.request(\n",
    "    'POST',\n",
    "    'https://realtime.oxylabs.io/v1/queries',\n",
    "    auth=('nproxy', '7SYPQjwZY8vr8'),\n",
    "    json=payload,\n",
    ")\n",
    "\n",
    "# Print prettified response to stdout.\n",
    "pprint(response.json())"
   ]
  },
  {
   "cell_type": "code",
   "execution_count": 14,
   "id": "26851d00-d872-4c09-b193-263830ebe9ae",
   "metadata": {},
   "outputs": [
    {
     "ename": "HTTPError",
     "evalue": "HTTP Error 500: Internal Server Error",
     "output_type": "error",
     "traceback": [
      "\u001b[0;31m---------------------------------------------------------------------------\u001b[0m",
      "\u001b[0;31mHTTPError\u001b[0m                                 Traceback (most recent call last)",
      "Cell \u001b[0;32mIn [14], line 12\u001b[0m\n\u001b[1;32m      7\u001b[0m query \u001b[38;5;241m=\u001b[39m urllib\u001b[38;5;241m.\u001b[39mrequest\u001b[38;5;241m.\u001b[39mProxyHandler({\n\u001b[1;32m      8\u001b[0m     \u001b[38;5;124m'\u001b[39m\u001b[38;5;124mhttp\u001b[39m\u001b[38;5;124m'\u001b[39m: entry,\n\u001b[1;32m      9\u001b[0m     \u001b[38;5;124m'\u001b[39m\u001b[38;5;124mhttps\u001b[39m\u001b[38;5;124m'\u001b[39m: entry,\n\u001b[1;32m     10\u001b[0m })\n\u001b[1;32m     11\u001b[0m execute \u001b[38;5;241m=\u001b[39m urllib\u001b[38;5;241m.\u001b[39mrequest\u001b[38;5;241m.\u001b[39mbuild_opener(query)\n\u001b[0;32m---> 12\u001b[0m res \u001b[38;5;241m=\u001b[39m \u001b[43mexecute\u001b[49m\u001b[38;5;241;43m.\u001b[39;49m\u001b[43mopen\u001b[49m\u001b[43m(\u001b[49m\u001b[38;5;124;43m'\u001b[39;49m\u001b[38;5;124;43mhttps://www.amazon.com/dp/0060245867\u001b[39;49m\u001b[38;5;124;43m'\u001b[39;49m\u001b[43m)\u001b[49m\u001b[38;5;241m.\u001b[39mread()\n",
      "File \u001b[0;32m/usr/lib/python3.9/urllib/request.py:523\u001b[0m, in \u001b[0;36mOpenerDirector.open\u001b[0;34m(self, fullurl, data, timeout)\u001b[0m\n\u001b[1;32m    521\u001b[0m \u001b[38;5;28;01mfor\u001b[39;00m processor \u001b[38;5;129;01min\u001b[39;00m \u001b[38;5;28mself\u001b[39m\u001b[38;5;241m.\u001b[39mprocess_response\u001b[38;5;241m.\u001b[39mget(protocol, []):\n\u001b[1;32m    522\u001b[0m     meth \u001b[38;5;241m=\u001b[39m \u001b[38;5;28mgetattr\u001b[39m(processor, meth_name)\n\u001b[0;32m--> 523\u001b[0m     response \u001b[38;5;241m=\u001b[39m \u001b[43mmeth\u001b[49m\u001b[43m(\u001b[49m\u001b[43mreq\u001b[49m\u001b[43m,\u001b[49m\u001b[43m \u001b[49m\u001b[43mresponse\u001b[49m\u001b[43m)\u001b[49m\n\u001b[1;32m    525\u001b[0m \u001b[38;5;28;01mreturn\u001b[39;00m response\n",
      "File \u001b[0;32m/usr/lib/python3.9/urllib/request.py:632\u001b[0m, in \u001b[0;36mHTTPErrorProcessor.http_response\u001b[0;34m(self, request, response)\u001b[0m\n\u001b[1;32m    629\u001b[0m \u001b[38;5;66;03m# According to RFC 2616, \"2xx\" code indicates that the client's\u001b[39;00m\n\u001b[1;32m    630\u001b[0m \u001b[38;5;66;03m# request was successfully received, understood, and accepted.\u001b[39;00m\n\u001b[1;32m    631\u001b[0m \u001b[38;5;28;01mif\u001b[39;00m \u001b[38;5;129;01mnot\u001b[39;00m (\u001b[38;5;241m200\u001b[39m \u001b[38;5;241m<\u001b[39m\u001b[38;5;241m=\u001b[39m code \u001b[38;5;241m<\u001b[39m \u001b[38;5;241m300\u001b[39m):\n\u001b[0;32m--> 632\u001b[0m     response \u001b[38;5;241m=\u001b[39m \u001b[38;5;28;43mself\u001b[39;49m\u001b[38;5;241;43m.\u001b[39;49m\u001b[43mparent\u001b[49m\u001b[38;5;241;43m.\u001b[39;49m\u001b[43merror\u001b[49m\u001b[43m(\u001b[49m\n\u001b[1;32m    633\u001b[0m \u001b[43m        \u001b[49m\u001b[38;5;124;43m'\u001b[39;49m\u001b[38;5;124;43mhttp\u001b[39;49m\u001b[38;5;124;43m'\u001b[39;49m\u001b[43m,\u001b[49m\u001b[43m \u001b[49m\u001b[43mrequest\u001b[49m\u001b[43m,\u001b[49m\u001b[43m \u001b[49m\u001b[43mresponse\u001b[49m\u001b[43m,\u001b[49m\u001b[43m \u001b[49m\u001b[43mcode\u001b[49m\u001b[43m,\u001b[49m\u001b[43m \u001b[49m\u001b[43mmsg\u001b[49m\u001b[43m,\u001b[49m\u001b[43m \u001b[49m\u001b[43mhdrs\u001b[49m\u001b[43m)\u001b[49m\n\u001b[1;32m    635\u001b[0m \u001b[38;5;28;01mreturn\u001b[39;00m response\n",
      "File \u001b[0;32m/usr/lib/python3.9/urllib/request.py:561\u001b[0m, in \u001b[0;36mOpenerDirector.error\u001b[0;34m(self, proto, *args)\u001b[0m\n\u001b[1;32m    559\u001b[0m \u001b[38;5;28;01mif\u001b[39;00m http_err:\n\u001b[1;32m    560\u001b[0m     args \u001b[38;5;241m=\u001b[39m (\u001b[38;5;28mdict\u001b[39m, \u001b[38;5;124m'\u001b[39m\u001b[38;5;124mdefault\u001b[39m\u001b[38;5;124m'\u001b[39m, \u001b[38;5;124m'\u001b[39m\u001b[38;5;124mhttp_error_default\u001b[39m\u001b[38;5;124m'\u001b[39m) \u001b[38;5;241m+\u001b[39m orig_args\n\u001b[0;32m--> 561\u001b[0m     \u001b[38;5;28;01mreturn\u001b[39;00m \u001b[38;5;28;43mself\u001b[39;49m\u001b[38;5;241;43m.\u001b[39;49m\u001b[43m_call_chain\u001b[49m\u001b[43m(\u001b[49m\u001b[38;5;241;43m*\u001b[39;49m\u001b[43margs\u001b[49m\u001b[43m)\u001b[49m\n",
      "File \u001b[0;32m/usr/lib/python3.9/urllib/request.py:494\u001b[0m, in \u001b[0;36mOpenerDirector._call_chain\u001b[0;34m(self, chain, kind, meth_name, *args)\u001b[0m\n\u001b[1;32m    492\u001b[0m \u001b[38;5;28;01mfor\u001b[39;00m handler \u001b[38;5;129;01min\u001b[39;00m handlers:\n\u001b[1;32m    493\u001b[0m     func \u001b[38;5;241m=\u001b[39m \u001b[38;5;28mgetattr\u001b[39m(handler, meth_name)\n\u001b[0;32m--> 494\u001b[0m     result \u001b[38;5;241m=\u001b[39m \u001b[43mfunc\u001b[49m\u001b[43m(\u001b[49m\u001b[38;5;241;43m*\u001b[39;49m\u001b[43margs\u001b[49m\u001b[43m)\u001b[49m\n\u001b[1;32m    495\u001b[0m     \u001b[38;5;28;01mif\u001b[39;00m result \u001b[38;5;129;01mis\u001b[39;00m \u001b[38;5;129;01mnot\u001b[39;00m \u001b[38;5;28;01mNone\u001b[39;00m:\n\u001b[1;32m    496\u001b[0m         \u001b[38;5;28;01mreturn\u001b[39;00m result\n",
      "File \u001b[0;32m/usr/lib/python3.9/urllib/request.py:641\u001b[0m, in \u001b[0;36mHTTPDefaultErrorHandler.http_error_default\u001b[0;34m(self, req, fp, code, msg, hdrs)\u001b[0m\n\u001b[1;32m    640\u001b[0m \u001b[38;5;28;01mdef\u001b[39;00m \u001b[38;5;21mhttp_error_default\u001b[39m(\u001b[38;5;28mself\u001b[39m, req, fp, code, msg, hdrs):\n\u001b[0;32m--> 641\u001b[0m     \u001b[38;5;28;01mraise\u001b[39;00m HTTPError(req\u001b[38;5;241m.\u001b[39mfull_url, code, msg, hdrs, fp)\n",
      "\u001b[0;31mHTTPError\u001b[0m: HTTP Error 500: Internal Server Error"
     ]
    }
   ],
   "source": [
    "import urllib.request\n",
    "import random\n",
    "username = 'nproxy'\n",
    "password = '7SYPQjwZY8vr8'\n",
    "entry = ('http://customer-%s:%s@pr.oxylabs.io:7777' %\n",
    "    (username, password))\n",
    "query = urllib.request.ProxyHandler({\n",
    "    'http': entry,\n",
    "    'https': entry,\n",
    "})\n",
    "execute = urllib.request.build_opener(query)\n",
    "res = execute.open('https://www.amazon.com/dp/0060245867').read()"
   ]
  },
  {
   "cell_type": "code",
   "execution_count": 16,
   "id": "748cda76-327a-434b-86b8-70ffd371315d",
   "metadata": {},
   "outputs": [],
   "source": [
    "import urllib.request\n",
    "import random\n",
    "\n",
    "import requests\n",
    "\n",
    "username = 'nproxy'\n",
    "password = '7SYPQjwZY8vr8'\n",
    "entry = ('http://customer-%s:%s@pr.oxylabs.io:7777' %\n",
    "    (username, password))\n",
    "\n",
    "\n",
    "# query = urllib.request.ProxyHandler({\n",
    "#     'http': entry,\n",
    "#     'https': entry,\n",
    "# })\n",
    "# execute = urllib.request.build_opener(query)\n",
    "# print(execute.open('https://ip.oxylabs.io').read())"
   ]
  },
  {
   "cell_type": "code",
   "execution_count": 17,
   "id": "f17eef0e-f525-4d4d-8cd8-545718c0c735",
   "metadata": {},
   "outputs": [],
   "source": [
    "                 \n",
    "proxies = {\n",
    "   'http': entry,\n",
    "   'https': entry,\n",
    "}\n",
    "\n",
    "url = 'https://www.amazon.com/dp/0060245867'\n",
    "\n",
    "response = requests.get(url, proxies=proxies)\n",
    "                 "
   ]
  },
  {
   "cell_type": "code",
   "execution_count": 20,
   "id": "401332c4-f02e-4c53-9f9a-b4f25f19bf86",
   "metadata": {},
   "outputs": [
    {
     "data": {
      "text/plain": [
       "'<!doctype html>\\n<html>\\n  <head>\\n    <meta charset=\"utf-8\">\\n    <meta http-equiv=\"x-ua-compatible\" content=\"ie=edge\">\\n    <meta name=\"viewport\" content=\"width=device-width, initial-scale=1, shrink-to-fit=no\">\\n    <title>\\n      503 - Service Unavailable Error</title>\\n    <style>\\n      html,body{padding:0;margin:0}img{border:0}#a{background:#232f3e;padding:11px 11px 11px 192px}#b{position:absolute;left:22px;top:12px}#c{position:relative;max-width:800px;padding:0 40px 0 0}#e,#f{height:35px;border:0;font-size:1em}#e{width:100%;margin:0;padding:0 10px;border-radius:4px 0 0 4px}#f{cursor:pointer;background:#febd69;font-weight:bold;border-radius:0 4px 4px 0;-webkit-appearance:none;position:absolute;top:0;right:0;padding:0 12px}@media(max-width:500px){#a{padding:55px 10px 10px}#b{left:6px}}#g{text-align:center;margin:30px 0}#g img{max-width:90%}#d{display:none}#d[src]{display:inline}\\n    </style>\\n  </head>\\n  <body>\\n    <!--\\n        To discuss automated access to Amazon data please contact api-services-support@amazon.com.\\r\\n\\r\\nFor information about migrating to our APIs refer to our Marketplace APIs at https://developer.amazonservices.com/ref=rm_5_sv, or our Product Advertising API at https://affiliate-program.amazon.com/gp/advertising/api/detail/main.html/ref=rm_5_ac for advertising use cases.\\n    -->\\n    <a href=\"/\">\\n      <img id=\"b\" src=\"https://images-na.ssl-images-amazon.com/images/G/01/error/logo._TTD_.png\" alt=\"Amazon\">\\n    </a>\\n    <form id=\"a\" accept-charset=\"utf-8\" action=\"/s\" method=\"GET\" role=\"search\">\\n      <div id=\"c\">\\n        <input id=\"e\" name=\"field-keywords\" placeholder=\"Search\">\\n        <input id=\"f\" type=\"submit\" value=\"Go\">\\n      </div>\\n    </form>\\n    <div id=\"g\">\\n      <div>\\n        <a href=\"/ref=cs_503_link/\">\\n          <img src=\"https://images-na.ssl-images-amazon.com/images/G/01/error/en_US/500_503._TTD_.png\" alt=\"Sorry! Something went wrong. Please go back and try again or go to Amazon\\'s home page.\">\\n        </a>\\n      </div>\\n      <a href=\"/dogsofamazon\" target=\"_blank\" rel=\"noopener noreferrer\">\\n        <img id=\"d\" alt=\"Dogs of Amazon\">\\n      </a>\\n      <script>\\n        document.getElementById(\"d\").src=\"https://images-na.ssl-images-amazon.com/images/G/01/error/en_US/\" + (Math.floor(Math.random() *200) + 1) + \"._TTD_.jpg\";\\n      </script>\\n    </div>\\n  </body>\\n</html>\\n<!-- 801edd59 -->'"
      ]
     },
     "execution_count": 20,
     "metadata": {},
     "output_type": "execute_result"
    }
   ],
   "source": [
    "response.text"
   ]
  },
  {
   "cell_type": "code",
   "execution_count": 21,
   "id": "524b2087-0400-4c51-90eb-8ddc643f25c6",
   "metadata": {},
   "outputs": [
    {
     "data": {
      "text/html": [
       "<div>\n",
       "<style scoped>\n",
       "    .dataframe tbody tr th:only-of-type {\n",
       "        vertical-align: middle;\n",
       "    }\n",
       "\n",
       "    .dataframe tbody tr th {\n",
       "        vertical-align: top;\n",
       "    }\n",
       "\n",
       "    .dataframe thead th {\n",
       "        text-align: right;\n",
       "    }\n",
       "</style>\n",
       "<table border=\"1\" class=\"dataframe\">\n",
       "  <thead>\n",
       "    <tr style=\"text-align: right;\">\n",
       "      <th></th>\n",
       "      <th>product_id</th>\n",
       "      <th>product_title</th>\n",
       "      <th>product_description</th>\n",
       "      <th>product_bullet_point</th>\n",
       "      <th>product_brand</th>\n",
       "      <th>product_color</th>\n",
       "      <th>product_locale</th>\n",
       "    </tr>\n",
       "  </thead>\n",
       "  <tbody>\n",
       "    <tr>\n",
       "      <th>167168</th>\n",
       "      <td>B003O0MNGC</td>\n",
       "      <td>Delta BreezSignature VFB25ACH 80 CFM Exhaust B...</td>\n",
       "      <td>None</td>\n",
       "      <td>Virtually silent at less than 0.3 sones\\nPreci...</td>\n",
       "      <td>DELTA ELECTRONICS (AMERICAS) LTD.</td>\n",
       "      <td>White</td>\n",
       "      <td>us</td>\n",
       "    </tr>\n",
       "    <tr>\n",
       "      <th>167169</th>\n",
       "      <td>B00MARNO5Y</td>\n",
       "      <td>Aero Pure AP80RVLW Super Quiet 80 CFM Recessed...</td>\n",
       "      <td>None</td>\n",
       "      <td>Super quiet 80CFM energy efficient fan virtual...</td>\n",
       "      <td>Aero Pure</td>\n",
       "      <td>White</td>\n",
       "      <td>us</td>\n",
       "    </tr>\n",
       "    <tr>\n",
       "      <th>167170</th>\n",
       "      <td>B011RX6PNO</td>\n",
       "      <td>Aero Pure AP120H-SL W Slim Fit 120 CFM Bathroo...</td>\n",
       "      <td>None</td>\n",
       "      <td>Slim Fit Housing Fits Into 2\" X 6\" Ceiling Joi...</td>\n",
       "      <td>Aero Pure</td>\n",
       "      <td>White Finish</td>\n",
       "      <td>us</td>\n",
       "    </tr>\n",
       "    <tr>\n",
       "      <th>167171</th>\n",
       "      <td>B01MZIK0PI</td>\n",
       "      <td>Delta Electronics (Americas) Ltd. RAD80 Delta ...</td>\n",
       "      <td>None</td>\n",
       "      <td>Quiet operation at 1.5 Sones\\nPrecision engine...</td>\n",
       "      <td>DELTA ELECTRONICS (AMERICAS) LTD.</td>\n",
       "      <td>With Heater</td>\n",
       "      <td>us</td>\n",
       "    </tr>\n",
       "    <tr>\n",
       "      <th>167172</th>\n",
       "      <td>B01N5Y6002</td>\n",
       "      <td>Delta Electronics (Americas) Ltd. GBR80HLED De...</td>\n",
       "      <td>None</td>\n",
       "      <td>Ultra energy-efficient LED module (11-watt equ...</td>\n",
       "      <td>DELTA ELECTRONICS (AMERICAS) LTD.</td>\n",
       "      <td>With LED Light, Dual Speed &amp; Humidity Sensor</td>\n",
       "      <td>us</td>\n",
       "    </tr>\n",
       "    <tr>\n",
       "      <th>...</th>\n",
       "      <td>...</td>\n",
       "      <td>...</td>\n",
       "      <td>...</td>\n",
       "      <td>...</td>\n",
       "      <td>...</td>\n",
       "      <td>...</td>\n",
       "      <td>...</td>\n",
       "    </tr>\n",
       "    <tr>\n",
       "      <th>1753347</th>\n",
       "      <td>B08XX3NL14</td>\n",
       "      <td>SAYFINE 5 Pack Plain Atheletic Shirts for Men,...</td>\n",
       "      <td>&lt;b&gt;SAYFINE MENS T SHIRTS &amp; GYM T SHIRTS &amp; WORK...</td>\n",
       "      <td>[VALUE PACK] - Athletic crew neck and flat-loc...</td>\n",
       "      <td>SAYFINE</td>\n",
       "      <td>Black (5 Pack)</td>\n",
       "      <td>us</td>\n",
       "    </tr>\n",
       "    <tr>\n",
       "      <th>1753348</th>\n",
       "      <td>B08Y8M9Z6L</td>\n",
       "      <td>GEEK LIGHTING Mens Polo Shirt Sport Casual Sho...</td>\n",
       "      <td>None</td>\n",
       "      <td>Material: This mens running shirt is made with...</td>\n",
       "      <td>GEEK LIGHTING</td>\n",
       "      <td>012-grey</td>\n",
       "      <td>us</td>\n",
       "    </tr>\n",
       "    <tr>\n",
       "      <th>1753349</th>\n",
       "      <td>B0936FKSS6</td>\n",
       "      <td>Alex Vando Mens Golf Shirt Moisture Wicking Qu...</td>\n",
       "      <td>None</td>\n",
       "      <td>Material: Our Mens Golf Shirts are made from 9...</td>\n",
       "      <td>Alex Vando</td>\n",
       "      <td>Blue</td>\n",
       "      <td>us</td>\n",
       "    </tr>\n",
       "    <tr>\n",
       "      <th>1753350</th>\n",
       "      <td>B096RXY1VT</td>\n",
       "      <td>Casei Womens Polo Shirts Golf Shirts Quick Dry...</td>\n",
       "      <td>black friday deals 2021 gifts for men gifts fo...</td>\n",
       "      <td>【Quick Dry &amp; Moisture Wicking】Womens polo shir...</td>\n",
       "      <td>Casei</td>\n",
       "      <td>White</td>\n",
       "      <td>us</td>\n",
       "    </tr>\n",
       "    <tr>\n",
       "      <th>1753351</th>\n",
       "      <td>B09BW3YVP8</td>\n",
       "      <td>Men Golf Performance Shirt Moisture Wicking Lo...</td>\n",
       "      <td>Golf/Tennis has to be one of the most stylish ...</td>\n",
       "      <td>➤PERFORMANCE FABRIC: Lightweight and Breathabl...</td>\n",
       "      <td>JACK SMITH</td>\n",
       "      <td>Red</td>\n",
       "      <td>us</td>\n",
       "    </tr>\n",
       "  </tbody>\n",
       "</table>\n",
       "<p>1215854 rows × 7 columns</p>\n",
       "</div>"
      ],
      "text/plain": [
       "         product_id                                      product_title  \\\n",
       "167168   B003O0MNGC  Delta BreezSignature VFB25ACH 80 CFM Exhaust B...   \n",
       "167169   B00MARNO5Y  Aero Pure AP80RVLW Super Quiet 80 CFM Recessed...   \n",
       "167170   B011RX6PNO  Aero Pure AP120H-SL W Slim Fit 120 CFM Bathroo...   \n",
       "167171   B01MZIK0PI  Delta Electronics (Americas) Ltd. RAD80 Delta ...   \n",
       "167172   B01N5Y6002  Delta Electronics (Americas) Ltd. GBR80HLED De...   \n",
       "...             ...                                                ...   \n",
       "1753347  B08XX3NL14  SAYFINE 5 Pack Plain Atheletic Shirts for Men,...   \n",
       "1753348  B08Y8M9Z6L  GEEK LIGHTING Mens Polo Shirt Sport Casual Sho...   \n",
       "1753349  B0936FKSS6  Alex Vando Mens Golf Shirt Moisture Wicking Qu...   \n",
       "1753350  B096RXY1VT  Casei Womens Polo Shirts Golf Shirts Quick Dry...   \n",
       "1753351  B09BW3YVP8  Men Golf Performance Shirt Moisture Wicking Lo...   \n",
       "\n",
       "                                       product_description  \\\n",
       "167168                                                None   \n",
       "167169                                                None   \n",
       "167170                                                None   \n",
       "167171                                                None   \n",
       "167172                                                None   \n",
       "...                                                    ...   \n",
       "1753347  <b>SAYFINE MENS T SHIRTS & GYM T SHIRTS & WORK...   \n",
       "1753348                                               None   \n",
       "1753349                                               None   \n",
       "1753350  black friday deals 2021 gifts for men gifts fo...   \n",
       "1753351  Golf/Tennis has to be one of the most stylish ...   \n",
       "\n",
       "                                      product_bullet_point  \\\n",
       "167168   Virtually silent at less than 0.3 sones\\nPreci...   \n",
       "167169   Super quiet 80CFM energy efficient fan virtual...   \n",
       "167170   Slim Fit Housing Fits Into 2\" X 6\" Ceiling Joi...   \n",
       "167171   Quiet operation at 1.5 Sones\\nPrecision engine...   \n",
       "167172   Ultra energy-efficient LED module (11-watt equ...   \n",
       "...                                                    ...   \n",
       "1753347  [VALUE PACK] - Athletic crew neck and flat-loc...   \n",
       "1753348  Material: This mens running shirt is made with...   \n",
       "1753349  Material: Our Mens Golf Shirts are made from 9...   \n",
       "1753350  【Quick Dry & Moisture Wicking】Womens polo shir...   \n",
       "1753351  ➤PERFORMANCE FABRIC: Lightweight and Breathabl...   \n",
       "\n",
       "                             product_brand  \\\n",
       "167168   DELTA ELECTRONICS (AMERICAS) LTD.   \n",
       "167169                           Aero Pure   \n",
       "167170                           Aero Pure   \n",
       "167171   DELTA ELECTRONICS (AMERICAS) LTD.   \n",
       "167172   DELTA ELECTRONICS (AMERICAS) LTD.   \n",
       "...                                    ...   \n",
       "1753347                            SAYFINE   \n",
       "1753348                      GEEK LIGHTING   \n",
       "1753349                         Alex Vando   \n",
       "1753350                              Casei   \n",
       "1753351                         JACK SMITH   \n",
       "\n",
       "                                        product_color product_locale  \n",
       "167168                                          White             us  \n",
       "167169                                          White             us  \n",
       "167170                                   White Finish             us  \n",
       "167171                                    With Heater             us  \n",
       "167172   With LED Light, Dual Speed & Humidity Sensor             us  \n",
       "...                                               ...            ...  \n",
       "1753347                                Black (5 Pack)             us  \n",
       "1753348                                      012-grey             us  \n",
       "1753349                                          Blue             us  \n",
       "1753350                                         White             us  \n",
       "1753351                                           Red             us  \n",
       "\n",
       "[1215854 rows x 7 columns]"
      ]
     },
     "execution_count": 21,
     "metadata": {},
     "output_type": "execute_result"
    }
   ],
   "source": [
    "df_products_us"
   ]
  },
  {
   "cell_type": "code",
   "execution_count": 3,
   "id": "88c686b0-d15a-4358-bd73-972102ffd8a4",
   "metadata": {},
   "outputs": [],
   "source": [
    "df = pd.read_parquet(\"../data/cleaned_input.parquet\")"
   ]
  },
  {
   "cell_type": "code",
   "execution_count": 4,
   "id": "3d1d1ebf-37c3-4f9f-9d50-7f02ada38af8",
   "metadata": {},
   "outputs": [],
   "source": [
    "df = df.drop_duplicates(['product_id'])"
   ]
  },
  {
   "cell_type": "code",
   "execution_count": 10,
   "id": "d6b1bbf4-6181-4b68-8df1-21f053ec66c8",
   "metadata": {},
   "outputs": [
    {
     "data": {
      "text/plain": [
       "{'query': ' revent 80 cfm',\n",
       " 'product_id': 'B011RX6PNO',\n",
       " 'relevance_label': 'Irrelevant',\n",
       " 'product_title': 'Aero Pure AP120H-SL W Slim Fit 120 CFM Bathroom Fan with LED Light and Humidity Sensor, White Finish',\n",
       " 'product_description': None,\n",
       " 'product_bullet_point': 'Slim Fit Housing Fits Into 2\" X 6\" Ceiling Joists Or Greater\\nCountry of Origin: China\\nBrand name: Aero Pure\\nItem Dimensions: 11. 38\"L x 10. 5\"W x 5. 88\"H',\n",
       " 'product_brand': 'Aero Pure',\n",
       " 'product_color': 'White Finish',\n",
       " 'url_product': 'https://www.amazon.com/dp/B011RX6PNO',\n",
       " 'url_image': 'http://images.amazon.com/images/P/B011RX6PNO.01._SCLZZZZZZZ_.jpg',\n",
       " 'query_type': 'other'}"
      ]
     },
     "execution_count": 10,
     "metadata": {},
     "output_type": "execute_result"
    }
   ],
   "source": [
    "df.iloc[10].to_dict()"
   ]
  },
  {
   "cell_type": "code",
   "execution_count": 11,
   "id": "0d144d14-4b85-4898-a7cb-8e4e45f54fbc",
   "metadata": {},
   "outputs": [],
   "source": [
    "r = requests.get(\"https://images.amazon.com/images/P/B076Q7V5WX.01._SCLZZZZZZZ_.jpg\")"
   ]
  },
  {
   "cell_type": "code",
   "execution_count": 13,
   "id": "4aaca522-0c27-455b-932f-a1920cb017f8",
   "metadata": {},
   "outputs": [
    {
     "data": {
      "text/plain": [
       "<Response [403]>"
      ]
     },
     "execution_count": 13,
     "metadata": {},
     "output_type": "execute_result"
    }
   ],
   "source": [
    "r"
   ]
  },
  {
   "cell_type": "code",
   "execution_count": null,
   "id": "0c6b3085-26ab-4810-909e-e93ec898bfa8",
   "metadata": {},
   "outputs": [],
   "source": []
  },
  {
   "cell_type": "code",
   "execution_count": 16,
   "id": "f6720d31-4766-4673-8186-1c19449726d6",
   "metadata": {},
   "outputs": [],
   "source": [
    "r = requests.get(\"https://images.amazon.com/images/P/B011RX6PNO.01._SCLZZZZZZZ_.jpg\")"
   ]
  },
  {
   "cell_type": "code",
   "execution_count": 17,
   "id": "2bf74bf4-90be-4d6e-915f-71451a8fa333",
   "metadata": {},
   "outputs": [
    {
     "data": {
      "text/plain": [
       "<Response [403]>"
      ]
     },
     "execution_count": 17,
     "metadata": {},
     "output_type": "execute_result"
    }
   ],
   "source": [
    "r"
   ]
  },
  {
   "cell_type": "code",
   "execution_count": 19,
   "id": "a2ea9a47-ed4c-4b51-9268-77e5adcbbf6b",
   "metadata": {},
   "outputs": [
    {
     "data": {
      "text/plain": [
       "'<!DOCTYPE HTML PUBLIC \"-//W3C//DTD HTML 4.01 Transitional//EN\" \"http://www.w3.org/TR/html4/loose.dtd\">\\n<HTML><HEAD><META HTTP-EQUIV=\"Content-Type\" CONTENT=\"text/html; charset=iso-8859-1\">\\n<TITLE>ERROR: The request could not be satisfied</TITLE>\\n</HEAD><BODY>\\n<H1>403 ERROR</H1>\\n<H2>The request could not be satisfied.</H2>\\n<HR noshade size=\"1px\">\\nRequest blocked.\\nWe can\\'t connect to the server for this app or website at this time. There might be too much traffic or a configuration error. Try again later, or contact the app or website owner.\\n<BR clear=\"all\">\\nIf you provide content to customers through CloudFront, you can find steps to troubleshoot and help prevent this error by reviewing the CloudFront documentation.\\n<BR clear=\"all\">\\n<HR noshade size=\"1px\">\\n<PRE>\\nGenerated by cloudfront (CloudFront)\\nRequest ID: vJnMjUC7Pz8o181IW6LNs11KW5R7sJB-h10YQThllJ2JOf1lQSpuEg==\\n</PRE>\\n<ADDRESS>\\n</ADDRESS>\\n</BODY></HTML>'"
      ]
     },
     "execution_count": 19,
     "metadata": {},
     "output_type": "execute_result"
    }
   ],
   "source": [
    "r.text"
   ]
  },
  {
   "cell_type": "code",
   "execution_count": null,
   "id": "596ee862-040a-457b-bacc-a7d603232f07",
   "metadata": {},
   "outputs": [],
   "source": []
  }
 ],
 "metadata": {
  "kernelspec": {
   "display_name": "Python 3 (ipykernel)",
   "language": "python",
   "name": "python3"
  },
  "language_info": {
   "codemirror_mode": {
    "name": "ipython",
    "version": 3
   },
   "file_extension": ".py",
   "mimetype": "text/x-python",
   "name": "python",
   "nbconvert_exporter": "python",
   "pygments_lexer": "ipython3",
   "version": "3.9.16"
  }
 },
 "nbformat": 4,
 "nbformat_minor": 5
}
