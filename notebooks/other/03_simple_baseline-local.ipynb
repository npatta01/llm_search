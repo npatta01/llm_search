{
 "cells": [
  {
   "cell_type": "code",
   "execution_count": null,
   "id": "f9650772-ec87-461a-9308-3513713e5c1f",
   "metadata": {},
   "outputs": [],
   "source": [
    "!pip install -r requirements.txt -q\n"
   ]
  },
  {
   "cell_type": "code",
   "execution_count": 1,
   "id": "0940d32f-23f6-4d5d-9429-2c5ac7036fad",
   "metadata": {},
   "outputs": [],
   "source": [
    "from rank_bm25 import BM25Okapi\n",
    "import pandas as pd\n",
    "import nltk.corpus\n",
    "import nltk\n",
    "import nltk.stem\n",
    "import rich\n",
    "import re\n",
    "import helper\n",
    "import importlib"
   ]
  },
  {
   "cell_type": "code",
   "execution_count": 2,
   "id": "8744c201-447b-41df-bc13-b3d904afad9c",
   "metadata": {},
   "outputs": [
    {
     "data": {
      "text/plain": [
       "<module 'helper' from '/notebooks/llm_search/notebooks/helper.py'>"
      ]
     },
     "execution_count": 2,
     "metadata": {},
     "output_type": "execute_result"
    }
   ],
   "source": [
    "importlib.reload(helper)"
   ]
  },
  {
   "cell_type": "code",
   "execution_count": 3,
   "id": "b6f93b9f-da22-4886-9586-96be6f4fc556",
   "metadata": {},
   "outputs": [
    {
     "name": "stderr",
     "output_type": "stream",
     "text": [
      "[nltk_data] Downloading package stopwords to /root/nltk_data...\n",
      "[nltk_data]   Package stopwords is already up-to-date!\n",
      "[nltk_data] Downloading package punkt to /root/nltk_data...\n",
      "[nltk_data]   Package punkt is already up-to-date!\n",
      "[nltk_data] Downloading package wordnet to /root/nltk_data...\n",
      "[nltk_data]   Package wordnet is already up-to-date!\n",
      "[nltk_data] Downloading package omw-1.4 to /root/nltk_data...\n",
      "[nltk_data]   Package omw-1.4 is already up-to-date!\n"
     ]
    },
    {
     "data": {
      "text/plain": [
       "True"
      ]
     },
     "execution_count": 3,
     "metadata": {},
     "output_type": "execute_result"
    }
   ],
   "source": [
    "nltk.download('stopwords')\n",
    "nltk.download('punkt')\n",
    "nltk.download('wordnet')\n",
    "nltk.download('omw-1.4')\n"
   ]
  },
  {
   "cell_type": "code",
   "execution_count": 4,
   "id": "2df284df-1d22-4dcf-9152-565583b0aa52",
   "metadata": {},
   "outputs": [],
   "source": [
    "def my_awesome_tokenizer(content, min_token_length=2):\n",
    "    content = content.lower()\n",
    "    \n",
    "    # only keep alphanumeric\n",
    "    content = re.sub(r'\\W+', ' ', content)\n",
    "    \n",
    "    \n",
    "    tokens = nltk.word_tokenize(content)\n",
    "    lemmatizer = nltk.stem.WordNetLemmatizer()\n",
    "    \n",
    "    tokens_final = []\n",
    "    \n",
    "    for token in tokens:\n",
    "        if  (   ( len(token) >= min_token_length )  and \n",
    "                ( token not in  nltk.corpus.stopwords.words(\"english\")  )  \n",
    "            ):\n",
    "            \n",
    "            token =lemmatizer.lemmatize(token)\n",
    "            \n",
    "            tokens_final.append(token)\n",
    "            \n",
    "            \n",
    "    return tokens_final"
   ]
  },
  {
   "cell_type": "code",
   "execution_count": 5,
   "id": "31c3fb0e-e52d-4950-a580-d18490d3a4fd",
   "metadata": {},
   "outputs": [],
   "source": [
    "def find_results(query:str ,df_corpus:pd.DataFrame, k =20):\n",
    "    \n",
    "    tokenized_query = my_awesome_tokenizer(query)\n",
    "    doc_scores = bm25.get_scores(tokenized_query)\n",
    "    \n",
    "    tokens_in_vocab = [ token for token in tokenized_query  if token in bm25.idf]\n",
    "    top_items = doc_scores.argsort()[-k:][::-1]\n",
    "    \n",
    "    degug_info = {\n",
    "         \"query_original\":  query \n",
    "         , \"tokenized_query\":  tokenized_query \n",
    "         , \"tokens_in_vocab\" : tokens_in_vocab\n",
    "        , \"doc_scores\":  doc_scores \n",
    "        , \"top_items\":  top_items \n",
    "    }\n",
    "    rich.print (degug_info )\n",
    "    \n",
    "    df_subset = df_corpus.iloc[top_items]\n",
    "    \n",
    "    \n",
    "    \n",
    "    rich.print ( list (df_subset['product_title'] ) )\n",
    "    \n",
    "    helper.display_results(query,df_subset)\n",
    "\n"
   ]
  },
  {
   "cell_type": "code",
   "execution_count": 6,
   "id": "b6f15bf7-f935-490e-8f30-c5be15bd2f66",
   "metadata": {},
   "outputs": [],
   "source": [
    "df = pd.read_parquet(\"../data/cleaned_input.parquet\")"
   ]
  },
  {
   "cell_type": "code",
   "execution_count": 7,
   "id": "55b56b0a-35e9-4f92-a8ae-0cdc0828c7a3",
   "metadata": {},
   "outputs": [
    {
     "data": {
      "text/plain": [
       "{'query': ' revent 80 cfm',\n",
       " 'product_id': 'B000MOO21W',\n",
       " 'relevance_label': 'Irrelevant',\n",
       " 'product_title': 'Panasonic FV-20VQ3 WhisperCeiling 190 CFM Ceiling Mounted Fan',\n",
       " 'product_description': None,\n",
       " 'product_bullet_point': 'WhisperCeiling fans feature a totally enclosed condenser motor and a double-tapered, dolphin-shaped bladed blower wheel to quietly move air\\nDesigned to give you continuous, trouble-free operation for many years thanks in part to its high-quality components and permanently lubricated motors which wear at a slower pace\\nDetachable adaptors, firmly secured duct ends, adjustable mounting brackets (up to 26-in), fan/motor units that detach easily from the housing and uncomplicated wiring all lend themselves to user-friendly installation\\nThis Panasonic fan has a built-in damper to prevent backdraft, which helps to prevent outside air from coming through the fan\\n0.35 amp',\n",
       " 'product_brand': 'Panasonic',\n",
       " 'product_color': 'White',\n",
       " 'url_product': 'https://www.amazon.com/dp/B000MOO21W',\n",
       " 'url_image': 'http://images.amazon.com/images/P/B000MOO21W.01._SCLZZZZZZZ_.jpg',\n",
       " 'query_type': 'other'}"
      ]
     },
     "execution_count": 7,
     "metadata": {},
     "output_type": "execute_result"
    }
   ],
   "source": [
    "df.iloc[0].to_dict()"
   ]
  },
  {
   "cell_type": "code",
   "execution_count": null,
   "id": "ad5a4263-6eaf-4d77-9d98-e2c86b49fdcb",
   "metadata": {
    "tags": []
   },
   "outputs": [],
   "source": [
    "df_product = df[['product_id','product_title','url_product','url_image']].drop_duplicates(['product_id']).reset_index(drop=True)\n",
    "df_product"
   ]
  },
  {
   "cell_type": "code",
   "execution_count": null,
   "id": "a52b0b43-ad47-4caa-bcb8-1934f57ad5c7",
   "metadata": {},
   "outputs": [],
   "source": [
    "corpus = df_product['product_title']"
   ]
  },
  {
   "cell_type": "code",
   "execution_count": null,
   "id": "346a72cb-e337-4037-9acc-e4bf9f771b25",
   "metadata": {},
   "outputs": [],
   "source": [
    "bm25 = BM25Okapi(corpus=corpus, tokenizer=my_awesome_tokenizer)\n"
   ]
  },
  {
   "cell_type": "code",
   "execution_count": null,
   "id": "c684ad30-b9d0-457f-98e3-d173f9334141",
   "metadata": {},
   "outputs": [],
   "source": []
  },
  {
   "cell_type": "code",
   "execution_count": null,
   "id": "e64b5332-69f0-4162-8414-0d4f5a8347ba",
   "metadata": {},
   "outputs": [],
   "source": []
  },
  {
   "cell_type": "code",
   "execution_count": null,
   "id": "d37b2c23-3f09-4b11-914c-5e1fd4a3c592",
   "metadata": {},
   "outputs": [],
   "source": [
    "query = \"adidas shoes men 15\""
   ]
  },
  {
   "cell_type": "code",
   "execution_count": null,
   "id": "c199c748-6162-4bdc-a6b2-7a4967b43e3c",
   "metadata": {},
   "outputs": [],
   "source": [
    "find_results( query, df_product)\n"
   ]
  },
  {
   "cell_type": "code",
   "execution_count": null,
   "id": "2270a0f6-41c4-46cb-9e0b-e2cb510e09b2",
   "metadata": {},
   "outputs": [],
   "source": []
  },
  {
   "cell_type": "code",
   "execution_count": null,
   "id": "bd973daf-1f00-4212-bcf0-1e93009c911d",
   "metadata": {},
   "outputs": [],
   "source": []
  },
  {
   "cell_type": "code",
   "execution_count": null,
   "id": "58416caa-9898-4b9d-945b-9c13032fd31f",
   "metadata": {},
   "outputs": [],
   "source": []
  }
 ],
 "metadata": {
  "kernelspec": {
   "display_name": "Python 3 (ipykernel)",
   "language": "python",
   "name": "python3"
  },
  "language_info": {
   "codemirror_mode": {
    "name": "ipython",
    "version": 3
   },
   "file_extension": ".py",
   "mimetype": "text/x-python",
   "name": "python",
   "nbconvert_exporter": "python",
   "pygments_lexer": "ipython3",
   "version": "3.9.16"
  }
 },
 "nbformat": 4,
 "nbformat_minor": 5
}
