{
 "cells": [
  {
   "cell_type": "code",
   "execution_count": null,
   "metadata": {
    "colab": {
     "base_uri": "https://localhost:8080/"
    },
    "id": "lIYdn1woOS1n",
    "outputId": "914ba7a3-cc1e-49a2-80e7-580a86b4e677"
   },
   "outputs": [],
   "source": [
    "!sudo apt-get install git-lfs -y\n",
    "\n",
    "!git clone https://github.com/amazon-science/esci-data.git"
   ]
  },
  {
   "cell_type": "code",
   "execution_count": null,
   "metadata": {
    "colab": {
     "base_uri": "https://localhost:8080/"
    },
    "id": "cWS06WkdtYkv",
    "outputId": "9bc7971a-79d7-4952-c0c8-25279d0f3a9e"
   },
   "outputs": [],
   "source": [
    "!ls esci-data/shopping_queries_dataset"
   ]
  },
  {
   "cell_type": "code",
   "execution_count": null,
   "metadata": {},
   "outputs": [],
   "source": [
    "!pip install langdetect  pandarallel  chardet\n"
   ]
  },
  {
   "cell_type": "code",
   "execution_count": null,
   "metadata": {},
   "outputs": [],
   "source": [
    "from pandarallel import pandarallel\n",
    "\n",
    "pandarallel.initialize(progress_bar=True)"
   ]
  },
  {
   "cell_type": "code",
   "execution_count": null,
   "metadata": {
    "id": "mFZKhnK6tcLz"
   },
   "outputs": [],
   "source": [
    "import pandas as pd\n",
    "from langdetect import detect, detect_langs\n",
    "from langdetect import detect, LangDetectException\n",
    "\n",
    "import string\n",
    "import unicodedata\n",
    "from unidecode import unidecode\n",
    "import chardet"
   ]
  },
  {
   "cell_type": "code",
   "execution_count": null,
   "metadata": {},
   "outputs": [],
   "source": [
    "!ls -lah esci-data/shopping_queries_dataset/shopping_queries_dataset_examples.parquet"
   ]
  },
  {
   "cell_type": "markdown",
   "metadata": {},
   "source": [
    "Load examples, products and sources\n"
   ]
  },
  {
   "cell_type": "code",
   "execution_count": null,
   "metadata": {
    "colab": {
     "base_uri": "https://localhost:8080/",
     "height": 206
    },
    "id": "dEoIHPmftlc6",
    "outputId": "44c748fe-6697-445e-a4df-13b23cba55e0"
   },
   "outputs": [],
   "source": [
    "df_examples = pd.read_parquet('esci-data/shopping_queries_dataset/shopping_queries_dataset_examples.parquet')\n",
    "df_products = pd.read_parquet('esci-data/shopping_queries_dataset/shopping_queries_dataset_products.parquet')\n",
    "df_sources = pd.read_csv(\"esci-data/shopping_queries_dataset/shopping_queries_dataset_sources.csv\")\n",
    "# df_dataset.head()"
   ]
  },
  {
   "cell_type": "code",
   "execution_count": null,
   "metadata": {},
   "outputs": [],
   "source": [
    "df_examples.head()"
   ]
  },
  {
   "cell_type": "code",
   "execution_count": null,
   "metadata": {},
   "outputs": [],
   "source": [
    "df_sources"
   ]
  },
  {
   "cell_type": "code",
   "execution_count": null,
   "metadata": {},
   "outputs": [],
   "source": [
    "df_sources['source'].value_counts()"
   ]
  },
  {
   "cell_type": "markdown",
   "metadata": {},
   "source": [
    "Merge examples with products\n"
   ]
  },
  {
   "cell_type": "code",
   "execution_count": null,
   "metadata": {
    "colab": {
     "base_uri": "https://localhost:8080/"
    },
    "id": "gVc-mGjgtrPD",
    "outputId": "7b0d7189-1ec2-4bf7-9ccd-df7f2042f372"
   },
   "outputs": [],
   "source": [
    "df_examples_products = pd.merge(\n",
    "    df_examples,\n",
    "    df_products,\n",
    "    how='left',\n",
    "    left_on=['product_locale','product_id'],\n",
    "    right_on=['product_locale', 'product_id']\n",
    ")\n",
    "\n"
   ]
  },
  {
   "cell_type": "markdown",
   "metadata": {},
   "source": [
    "Merge examples with query type\n"
   ]
  },
  {
   "cell_type": "code",
   "execution_count": null,
   "metadata": {},
   "outputs": [],
   "source": [
    "# def isEnglish(s):\n",
    "#     try:\n",
    "#         s.encode(encoding='utf-8').decode('ascii')\n",
    "#     except UnicodeDecodeError:\n",
    "#         return False\n",
    "#     else:\n",
    "#         return True\n",
    "    \n",
    "    \n",
    "# def is_english(s):\n",
    "#     try:\n",
    "#         return detect(s) == 'en'\n",
    "#     except Exception as e:\n",
    "#         print(( s,e) ) \n",
    "#         return False\n",
    "#     return False\n",
    "\n",
    "def is_english(text):\n",
    "    # try:\n",
    "    #     text = text.encode(encoding='utf-8').decode('ascii')\n",
    "    # except UnicodeDecodeError as e:\n",
    "    #     print(e)\n",
    "    #     return False\n",
    "    \n",
    "    if re.search(r\"[\\u3000-\\u303F]\", text):\n",
    "        return False\n",
    "    \n",
    "        \n",
    "\n",
    "    allowed_characters = set([\"$\", \"!\", '\"', \"-\", '#',\",\",\".\", \"%\", \"'\", '’', \"’\", \")\" ,\"(\",\"”\",'’','$', '”'])\n",
    "    \n",
    "    try:\n",
    "        return all(c.isalnum() or c.isspace() or c in allowed_characters or c in string.punctuation for c in text)\n",
    "    except:\n",
    "        return False\n",
    "    \n",
    "def is_english(text):\n",
    "    text = unicodedata.normalize('NFKC', text)\n",
    "    \n",
    "    lang = None\n",
    "    try:\n",
    "        lang = detect(text)\n",
    "    except Exception as e:\n",
    "        print (text, e)\n",
    "\n",
    "    if lang in ['en','ja','es']:\n",
    "        return lang\n",
    "    \n",
    "    text = unidecode(text)\n",
    "    try:\n",
    "        res = text.encode(encoding='utf-8').decode('ascii')\n",
    "        return \"en\"\n",
    "        \n",
    "    except UnicodeDecodeError:\n",
    "        pass\n",
    "    \n",
    "    \n",
    "    \n",
    "\n",
    "    \n",
    "    return \"unknown\"\n",
    "\n",
    "\n",
    "def contains_spanish_accents(text):\n",
    "    spanish_accents = {'á', 'é', 'í', 'ó', 'ú', 'ñ'}\n",
    "    return any(char in spanish_accents for char in text)\n",
    "\n",
    "\n",
    "def contains_japanese(text):\n",
    "    for char in text:\n",
    "        if '\\u3040' <= char <= '\\u309F' or '\\u30A0' <= char <= '\\u30FF' or '\\u4E00' <= char <= '\\u9FAF':\n",
    "            return True\n",
    "    return False\n",
    "\n",
    "# Example usage\n",
    "def is_english(text):\n",
    "    text = unicodedata.normalize('NFC', text)\n",
    "\n",
    "    is_japanese = contains_japanese(text)\n",
    "\n",
    "   \n",
    "    if is_japanese:\n",
    "        return \"jp\"\n",
    "    \n",
    "    is_spanish = contains_spanish_accents(text)\n",
    "    \n",
    "    if is_spanish:\n",
    "        return \"es\"\n",
    "    \n",
    "\n",
    "    \n",
    "    try:\n",
    "        lang = detect(text)\n",
    "\n",
    "        if lang ==\"en\":\n",
    "            return \"en\"\n",
    "\n",
    "        #print(lang)\n",
    "\n",
    "        \n",
    "        allowed_characters = set([\"$\", \"!\", '\"', \"-\", '#',\",\",\".\", \"%\", \"'\", '’', \"’\", \")\" ,\"(\",\"”\",'’','$', '”'])\n",
    "    \n",
    "        if all(c.isalnum() or c.isspace() or c in allowed_characters or c in string.punctuation for c in text):\n",
    "            return \"en\"\n",
    "\n",
    "        \n",
    "        #text = unidecode(text)\n",
    "        lang = detect(text)\n",
    "\n",
    "        #print(text,lang)\n",
    "        return lang\n",
    "    except:\n",
    "        return \"unknown\"\n",
    "\n",
    "    \n",
    "    \n",
    "def clean_text(text):\n",
    "    # Normalize Unicode characters\n",
    "    text = unicodedata.normalize('NFKC', text)\n",
    "    # Convert to lowercase\n",
    "    text = text.lower()\n",
    "    # Remove special characters and punctuation\n",
    "    text = re.sub(r'[^\\w\\s]', '', text)\n",
    "    # Remove extra whitespace\n",
    "    text = re.sub(r'\\s+', ' ', text).strip()\n",
    "    return text\n",
    "\n",
    "def detect_language(text):\n",
    "    \n",
    "    is_japanese = contains_japanese(text)\n",
    "    if is_japanese:\n",
    "        return \"jp\"\n",
    "   \n",
    "    is_spanish = contains_spanish_accents(text)\n",
    "    \n",
    "    if is_spanish:\n",
    "        return \"es\"\n",
    "    \n",
    "    \n",
    "    cleaned_text = clean_text(text)\n",
    "    try:\n",
    "        lang = detect(cleaned_text)\n",
    "        if lang == 'en':\n",
    "            return 'en'\n",
    "        elif lang == 'ja':\n",
    "            return 'ja'\n",
    "        elif lang == 'es':\n",
    "            return 'es'\n",
    "        else:\n",
    "            return 'unknown'\n",
    "    except LangDetectException:\n",
    "        return 'unknown'\n",
    "    \n",
    "    return 'unknown'"
   ]
  },
  {
   "cell_type": "code",
   "execution_count": null,
   "metadata": {},
   "outputs": [],
   "source": [
    "chardet.detect(\"1” sink stopper and strainer\".encode())"
   ]
  },
  {
   "cell_type": "code",
   "execution_count": null,
   "metadata": {},
   "outputs": [],
   "source": [
    "is_english(\"1” sink stopper and strainer\")"
   ]
  },
  {
   "cell_type": "code",
   "execution_count": null,
   "metadata": {},
   "outputs": [],
   "source": [
    "is_english(\"!solid camiseta sin manga\"), detect(\"!solid camiseta sin manga\")"
   ]
  },
  {
   "cell_type": "code",
   "execution_count": null,
   "metadata": {},
   "outputs": [],
   "source": [
    "is_english( 'alpro soja sin azúcar')"
   ]
  },
  {
   "cell_type": "code",
   "execution_count": null,
   "metadata": {},
   "outputs": [],
   "source": [
    "is_english( '32ミリ コテ')"
   ]
  },
  {
   "cell_type": "code",
   "execution_count": null,
   "metadata": {},
   "outputs": [],
   "source": []
  },
  {
   "cell_type": "code",
   "execution_count": null,
   "metadata": {},
   "outputs": [],
   "source": [
    "text = \"1” sink stopper and strainer\"\n",
    "text = unicodedata.normalize('NFKD', text)\n",
    "text =unidecode(text)\n",
    "print(text)\n",
    "text.encode(encoding='utf-8').decode('ascii')"
   ]
  },
  {
   "cell_type": "code",
   "execution_count": null,
   "metadata": {},
   "outputs": [],
   "source": [
    "?unidecode"
   ]
  },
  {
   "cell_type": "code",
   "execution_count": null,
   "metadata": {},
   "outputs": [],
   "source": [
    "detect(\"War doesn't show who's right, just who's left.\")"
   ]
  },
  {
   "cell_type": "code",
   "execution_count": null,
   "metadata": {},
   "outputs": [],
   "source": [
    "detect_langs(\"Sink stopper\")"
   ]
  },
  {
   "cell_type": "code",
   "execution_count": null,
   "metadata": {},
   "outputs": [],
   "source": [
    "df_sources"
   ]
  },
  {
   "cell_type": "code",
   "execution_count": null,
   "metadata": {},
   "outputs": [],
   "source": []
  },
  {
   "cell_type": "code",
   "execution_count": null,
   "metadata": {},
   "outputs": [],
   "source": []
  },
  {
   "cell_type": "code",
   "execution_count": null,
   "metadata": {},
   "outputs": [],
   "source": []
  },
  {
   "cell_type": "code",
   "execution_count": null,
   "metadata": {},
   "outputs": [],
   "source": [
    "#df_examples_products_query['is_english'] =  df_examples_products_query['query'].apply(isEnglish)"
   ]
  },
  {
   "cell_type": "code",
   "execution_count": null,
   "metadata": {},
   "outputs": [],
   "source": [
    "#detect(\"hi"
   ]
  },
  {
   "cell_type": "code",
   "execution_count": null,
   "metadata": {},
   "outputs": [],
   "source": [
    "#df_query_lang = df_examples_products[df_examples_products [\"product_locale\"]==\"us\"]\n",
    "df_query_lang = df_examples_products[['query','query_id']].drop_duplicates()\n",
    "\n"
   ]
  },
  {
   "cell_type": "code",
   "execution_count": null,
   "metadata": {},
   "outputs": [],
   "source": [
    "df_query_lang"
   ]
  },
  {
   "cell_type": "code",
   "execution_count": null,
   "metadata": {},
   "outputs": [],
   "source": [
    "df_query_lang['is_english'] = df_query_lang['query'].parallel_apply(is_english)\n"
   ]
  },
  {
   "cell_type": "code",
   "execution_count": null,
   "metadata": {},
   "outputs": [],
   "source": [
    "df_query_lang['is_english'].value_counts()"
   ]
  },
  {
   "cell_type": "code",
   "execution_count": null,
   "metadata": {},
   "outputs": [],
   "source": [
    "df_query_lang [ df_query_lang['is_english'].isin(['en']) ].head(500)"
   ]
  },
  {
   "cell_type": "code",
   "execution_count": null,
   "metadata": {},
   "outputs": [],
   "source": [
    "df_query_lang [ ~df_query_lang['is_english'].isin(['en','ja','es']) ]"
   ]
  },
  {
   "cell_type": "code",
   "execution_count": null,
   "metadata": {},
   "outputs": [],
   "source": [
    "\"vitamina c\".encode(encoding='utf-8').decode('ascii')"
   ]
  },
  {
   "cell_type": "code",
   "execution_count": null,
   "metadata": {},
   "outputs": [],
   "source": []
  },
  {
   "cell_type": "code",
   "execution_count": null,
   "metadata": {},
   "outputs": [],
   "source": [
    "df_examples_products_query = pd.merge(\n",
    "    df_examples_products,\n",
    "    df_query_lang,\n",
    "    how='inner',\n",
    "    on=['query_id','query']\n",
    ")\n"
   ]
  },
  {
   "cell_type": "code",
   "execution_count": null,
   "metadata": {},
   "outputs": [],
   "source": [
    "‘ . ´ × £ "
   ]
  },
  {
   "cell_type": "code",
   "execution_count": null,
   "metadata": {},
   "outputs": [],
   "source": [
    "list(df_query_lang [ ~df_query_lang['is_english'].isin(['en','jp','es']) ].head(10_000)['query'])"
   ]
  },
  {
   "cell_type": "code",
   "execution_count": null,
   "metadata": {},
   "outputs": [],
   "source": []
  },
  {
   "cell_type": "code",
   "execution_count": null,
   "metadata": {},
   "outputs": [],
   "source": [
    "is_english(\"$60 ps4 that’s not gonna be on amazon\")"
   ]
  },
  {
   "cell_type": "code",
   "execution_count": null,
   "metadata": {},
   "outputs": [],
   "source": [
    "is_english(\"mom life\")"
   ]
  },
  {
   "cell_type": "code",
   "execution_count": null,
   "metadata": {},
   "outputs": [],
   "source": [
    "detect(\"mom life\")"
   ]
  },
  {
   "cell_type": "code",
   "execution_count": null,
   "metadata": {},
   "outputs": [],
   "source": []
  },
  {
   "cell_type": "code",
   "execution_count": null,
   "metadata": {},
   "outputs": [],
   "source": []
  },
  {
   "cell_type": "code",
   "execution_count": null,
   "metadata": {},
   "outputs": [],
   "source": [
    "df_examples_products_query\\\n",
    ".pipe(lambda x: x[x.product_locale ==\"us\"]) \\\n",
    ".replace({\"esci_label\": {'E':'Exact' ,'S':'Substitute', 'C':'Complement', 'I':'Irrelevant' } })\\\n",
    ".rename (columns = {'esci_label':'relevance_label','source':'query_type'} ) \\\n",
    ".drop(columns = ['example_id','query_id','product_locale','small_version','large_version','split'] )"
   ]
  },
  {
   "cell_type": "code",
   "execution_count": null,
   "metadata": {},
   "outputs": [],
   "source": []
  },
  {
   "cell_type": "code",
   "execution_count": null,
   "metadata": {},
   "outputs": [],
   "source": []
  },
  {
   "cell_type": "code",
   "execution_count": null,
   "metadata": {},
   "outputs": [],
   "source": [
    "len(df_examples_products['product_id'].unique())"
   ]
  },
  {
   "cell_type": "code",
   "execution_count": null,
   "metadata": {},
   "outputs": [],
   "source": [
    "df_mask = df_examples_products['product_locale'].isin(['us'])\n",
    "\n",
    "len( df_examples_products[df_mask]['product_id'].unique()) "
   ]
  },
  {
   "cell_type": "code",
   "execution_count": null,
   "metadata": {},
   "outputs": [],
   "source": [
    "df_examples_products[df_mask]['product_id'].unique()"
   ]
  },
  {
   "cell_type": "code",
   "execution_count": null,
   "metadata": {},
   "outputs": [],
   "source": []
  },
  {
   "cell_type": "code",
   "execution_count": null,
   "metadata": {},
   "outputs": [],
   "source": []
  },
  {
   "cell_type": "code",
   "execution_count": null,
   "metadata": {},
   "outputs": [],
   "source": []
  },
  {
   "cell_type": "code",
   "execution_count": null,
   "metadata": {
    "colab": {
     "base_uri": "https://localhost:8080/"
    },
    "id": "hkuwdvtruhXH",
    "outputId": "0abab9e4-5285-4789-e5bf-0145bd066ae1"
   },
   "outputs": [],
   "source": [
    "df_dataset['source'].value_counts()"
   ]
  },
  {
   "cell_type": "code",
   "execution_count": null,
   "metadata": {
    "id": "3fdDeO_DuhM7"
   },
   "outputs": [],
   "source": []
  },
  {
   "cell_type": "code",
   "execution_count": null,
   "metadata": {
    "colab": {
     "base_uri": "https://localhost:8080/",
     "height": 379
    },
    "id": "U0n4wGjktwMj",
    "outputId": "8edc4897-8b95-40dc-e818-09ba7cf60853"
   },
   "outputs": [],
   "source": [
    "df_product = pd.read_parquet(\"esci-data/shopping_queries_dataset/shopping_queries_dataset_products.parquet\")\n",
    "df_product.head()"
   ]
  },
  {
   "cell_type": "code",
   "execution_count": null,
   "metadata": {
    "colab": {
     "base_uri": "https://localhost:8080/"
    },
    "id": "Nn6ydPVct3wO",
    "outputId": "073a26ae-7acb-4bfd-c9ce-2626b41e2eff"
   },
   "outputs": [],
   "source": [
    "len(df_product)"
   ]
  },
  {
   "cell_type": "code",
   "execution_count": null,
   "metadata": {
    "colab": {
     "base_uri": "https://localhost:8080/"
    },
    "id": "nHB-0LNiuxdV",
    "outputId": "77a63657-8b5f-47d1-a6a4-9a3a750764bb"
   },
   "outputs": [],
   "source": [
    "df_product['product_brand'].nunique()"
   ]
  },
  {
   "cell_type": "code",
   "execution_count": null,
   "metadata": {
    "colab": {
     "base_uri": "https://localhost:8080/"
    },
    "id": "iW-yuDFXvX4B",
    "outputId": "5d199016-91b9-4a3f-dacb-a875ae80d014"
   },
   "outputs": [],
   "source": [
    "df_product['product_locale'].value_counts()"
   ]
  },
  {
   "cell_type": "code",
   "execution_count": null,
   "metadata": {
    "id": "PBycoZVnvfcU"
   },
   "outputs": [],
   "source": [
    "df_product_en = df_product[df_product['product_locale']==\"us\"]"
   ]
  },
  {
   "cell_type": "code",
   "execution_count": null,
   "metadata": {
    "colab": {
     "base_uri": "https://localhost:8080/"
    },
    "id": "BiCtn4vmupWr",
    "outputId": "3cd805a0-e559-4e92-97be-7094d10d8728"
   },
   "outputs": [],
   "source": [
    "df_product_en.iloc[500].to_dict()"
   ]
  },
  {
   "cell_type": "code",
   "execution_count": null,
   "metadata": {
    "colab": {
     "base_uri": "https://localhost:8080/"
    },
    "id": "LyjXKgYAupST",
    "outputId": "31fd5cf2-b047-49b5-b6ee-add5624396f9"
   },
   "outputs": [],
   "source": [
    "df_product_en.iloc[600].to_dict()"
   ]
  },
  {
   "cell_type": "code",
   "execution_count": null,
   "metadata": {
    "id": "N6GJ4rZHupLI"
   },
   "outputs": [],
   "source": []
  },
  {
   "cell_type": "code",
   "execution_count": null,
   "metadata": {
    "id": "BT23Vqw_t48R"
   },
   "outputs": [],
   "source": []
  },
  {
   "cell_type": "code",
   "execution_count": null,
   "metadata": {
    "colab": {
     "base_uri": "https://localhost:8080/",
     "height": 206
    },
    "id": "rKfFcdx9t5sI",
    "outputId": "dd7b7b6d-ee07-402c-a96f-3c884cc7b5c1"
   },
   "outputs": [],
   "source": [
    "df_examples = pd.read_parquet(\"esci-data/shopping_queries_dataset/shopping_queries_dataset_examples.parquet\")\n",
    "df_examples.head()"
   ]
  },
  {
   "cell_type": "code",
   "execution_count": null,
   "metadata": {
    "colab": {
     "base_uri": "https://localhost:8080/"
    },
    "id": "t4NCtyd_uBdi",
    "outputId": "91119f0d-15d5-4c17-ff1f-86c640edba45"
   },
   "outputs": [],
   "source": [
    "df_examples['esci_label'].value_counts()"
   ]
  },
  {
   "cell_type": "code",
   "execution_count": null,
   "metadata": {
    "colab": {
     "base_uri": "https://localhost:8080/"
    },
    "id": "7VN_GmWruLTY",
    "outputId": "ed044d13-5cc9-44d6-f140-df21c057d00b"
   },
   "outputs": [],
   "source": [
    "len(df_examples)"
   ]
  },
  {
   "cell_type": "code",
   "execution_count": null,
   "metadata": {
    "colab": {
     "base_uri": "https://localhost:8080/"
    },
    "id": "GvtaR0pNuM2h",
    "outputId": "7b13e7c2-dc74-46df-b134-305a5d4024bf"
   },
   "outputs": [],
   "source": [
    "df_examples['query'].nunique()"
   ]
  },
  {
   "cell_type": "code",
   "execution_count": null,
   "metadata": {
    "id": "YBhG-Asgxagn"
   },
   "outputs": [],
   "source": [
    "df_uniqeu_quereis = df_examples['query'].drop_duplicates()"
   ]
  },
  {
   "cell_type": "code",
   "execution_count": null,
   "metadata": {
    "colab": {
     "base_uri": "https://localhost:8080/"
    },
    "id": "TbLQXuijxii3",
    "outputId": "bcb76906-c9df-4960-83f7-594890a43df1"
   },
   "outputs": [],
   "source": [
    "list ( df_uniqeu_quereis.head(100) )"
   ]
  },
  {
   "cell_type": "code",
   "execution_count": null,
   "metadata": {
    "colab": {
     "base_uri": "https://localhost:8080/"
    },
    "id": "hDGufrmLuTVl",
    "outputId": "071c28d5-5c2a-4087-c824-ec37d18345e9"
   },
   "outputs": [],
   "source": [
    "df_examples['product_id'].nunique()"
   ]
  },
  {
   "cell_type": "code",
   "execution_count": null,
   "metadata": {
    "colab": {
     "base_uri": "https://localhost:8080/",
     "height": 81
    },
    "id": "P_1sncOzuWKG",
    "outputId": "954c19c4-2dca-4da9-d2ab-69ccc2d572c8"
   },
   "outputs": [],
   "source": [
    "df_examples [df_examples['product_id']==\"B000BQWKCY\"]"
   ]
  },
  {
   "cell_type": "code",
   "execution_count": null,
   "metadata": {
    "colab": {
     "base_uri": "https://localhost:8080/"
    },
    "id": "8aHNH9RGwpH0",
    "outputId": "cc541c6c-cb11-4bb4-d97f-5f917bef89d5"
   },
   "outputs": [],
   "source": [
    "df_examples['query'].unique()"
   ]
  },
  {
   "cell_type": "code",
   "execution_count": null,
   "metadata": {
    "colab": {
     "base_uri": "https://localhost:8080/",
     "height": 1000
    },
    "id": "VWB0hjROxsaF",
    "outputId": "3bc61289-1efe-45ca-e7ff-353d1572e747"
   },
   "outputs": [],
   "source": [
    "df_examples [df_examples['query']==\"$25 ceiling fan without lights\"]"
   ]
  },
  {
   "cell_type": "code",
   "execution_count": null,
   "metadata": {
    "id": "l3cMxShQxPbe"
   },
   "outputs": [],
   "source": []
  }
 ],
 "metadata": {
  "colab": {
   "name": "scratchpad",
   "provenance": []
  },
  "kernelspec": {
   "display_name": "Python 3 (ipykernel)",
   "language": "python",
   "name": "python3"
  },
  "language_info": {
   "codemirror_mode": {
    "name": "ipython",
    "version": 3
   },
   "file_extension": ".py",
   "mimetype": "text/x-python",
   "name": "python",
   "nbconvert_exporter": "python",
   "pygments_lexer": "ipython3",
   "version": "3.9.16"
  }
 },
 "nbformat": 4,
 "nbformat_minor": 4
}
