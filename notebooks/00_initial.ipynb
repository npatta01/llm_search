{
 "cells": [
  {
   "cell_type": "markdown",
   "metadata": {},
   "source": [
    "# About"
   ]
  },
  {
   "cell_type": "markdown",
   "metadata": {},
   "source": [
    "## Setup"
   ]
  },
  {
   "cell_type": "code",
   "execution_count": 1,
   "metadata": {
    "colab": {
     "base_uri": "https://localhost:8080/"
    },
    "id": "lIYdn1woOS1n",
    "outputId": "914ba7a3-cc1e-49a2-80e7-580a86b4e677"
   },
   "outputs": [
    {
     "name": "stdout",
     "output_type": "stream",
     "text": [
      "Reading package lists... Done\n",
      "Building dependency tree       \n",
      "Reading state information... Done\n",
      "git-lfs is already the newest version (2.9.2-1).\n",
      "0 upgraded, 0 newly installed, 0 to remove and 3 not upgraded.\n"
     ]
    }
   ],
   "source": [
    "!sudo apt-get install git-lfs -y\n",
    "\n",
    "#!git clone https://github.com/amazon-science/esci-data.git"
   ]
  },
  {
   "cell_type": "code",
   "execution_count": 2,
   "metadata": {
    "colab": {
     "base_uri": "https://localhost:8080/"
    },
    "id": "cWS06WkdtYkv",
    "outputId": "9bc7971a-79d7-4952-c0c8-25279d0f3a9e"
   },
   "outputs": [
    {
     "name": "stdout",
     "output_type": "stream",
     "text": [
      "shopping_queries_dataset_examples.parquet  shopping_queries_dataset_sources.csv\n",
      "shopping_queries_dataset_products.parquet\n"
     ]
    }
   ],
   "source": [
    "!ls esci-data/shopping_queries_dataset"
   ]
  },
  {
   "cell_type": "code",
   "execution_count": 3,
   "metadata": {},
   "outputs": [
    {
     "name": "stdout",
     "output_type": "stream",
     "text": [
      "\u001b[33mWARNING: Running pip as the 'root' user can result in broken permissions and conflicting behaviour with the system package manager. It is recommended to use a virtual environment instead: https://pip.pypa.io/warnings/venv\u001b[0m\u001b[33m\n",
      "\u001b[0m"
     ]
    }
   ],
   "source": [
    "!pip install langdetect  pandarallel  chardet --quiet\n"
   ]
  },
  {
   "cell_type": "markdown",
   "metadata": {},
   "source": [
    "## Imports"
   ]
  },
  {
   "cell_type": "code",
   "execution_count": 4,
   "metadata": {},
   "outputs": [
    {
     "name": "stdout",
     "output_type": "stream",
     "text": [
      "INFO: Pandarallel will run on 8 workers.\n",
      "INFO: Pandarallel will use Memory file system to transfer data between the main process and workers.\n"
     ]
    }
   ],
   "source": [
    "from pandarallel import pandarallel\n",
    "\n",
    "pandarallel.initialize(progress_bar=True)"
   ]
  },
  {
   "cell_type": "code",
   "execution_count": 5,
   "metadata": {
    "id": "mFZKhnK6tcLz"
   },
   "outputs": [],
   "source": [
    "import pandas as pd\n",
    "from langdetect import detect, detect_langs\n",
    "from langdetect import detect, LangDetectException\n",
    "import re\n",
    "import string\n",
    "import unicodedata\n",
    "from unidecode import unidecode\n",
    "import chardet"
   ]
  },
  {
   "cell_type": "code",
   "execution_count": 6,
   "metadata": {},
   "outputs": [
    {
     "name": "stdout",
     "output_type": "stream",
     "text": [
      "-rw-r--r-- 1 root root 49M Nov 19 15:55 esci-data/shopping_queries_dataset/shopping_queries_dataset_examples.parquet\n"
     ]
    }
   ],
   "source": [
    "!ls -lah esci-data/shopping_queries_dataset/shopping_queries_dataset_examples.parquet"
   ]
  },
  {
   "cell_type": "markdown",
   "metadata": {},
   "source": [
    "Load examples, products and sources\n"
   ]
  },
  {
   "cell_type": "markdown",
   "metadata": {},
   "source": [
    "## IO"
   ]
  },
  {
   "cell_type": "code",
   "execution_count": 7,
   "metadata": {
    "colab": {
     "base_uri": "https://localhost:8080/",
     "height": 206
    },
    "id": "dEoIHPmftlc6",
    "outputId": "44c748fe-6697-445e-a4df-13b23cba55e0"
   },
   "outputs": [],
   "source": [
    "df_examples = pd.read_parquet('esci-data/shopping_queries_dataset/shopping_queries_dataset_examples.parquet')\n",
    "df_products = pd.read_parquet('esci-data/shopping_queries_dataset/shopping_queries_dataset_products.parquet')\n",
    "df_sources = pd.read_csv(\"esci-data/shopping_queries_dataset/shopping_queries_dataset_sources.csv\")\n",
    "# df_dataset.head()"
   ]
  },
  {
   "cell_type": "code",
   "execution_count": 8,
   "metadata": {},
   "outputs": [
    {
     "data": {
      "text/html": [
       "<div>\n",
       "<style scoped>\n",
       "    .dataframe tbody tr th:only-of-type {\n",
       "        vertical-align: middle;\n",
       "    }\n",
       "\n",
       "    .dataframe tbody tr th {\n",
       "        vertical-align: top;\n",
       "    }\n",
       "\n",
       "    .dataframe thead th {\n",
       "        text-align: right;\n",
       "    }\n",
       "</style>\n",
       "<table border=\"1\" class=\"dataframe\">\n",
       "  <thead>\n",
       "    <tr style=\"text-align: right;\">\n",
       "      <th></th>\n",
       "      <th>example_id</th>\n",
       "      <th>query</th>\n",
       "      <th>query_id</th>\n",
       "      <th>product_id</th>\n",
       "      <th>product_locale</th>\n",
       "      <th>esci_label</th>\n",
       "      <th>small_version</th>\n",
       "      <th>large_version</th>\n",
       "      <th>split</th>\n",
       "    </tr>\n",
       "  </thead>\n",
       "  <tbody>\n",
       "    <tr>\n",
       "      <th>0</th>\n",
       "      <td>0</td>\n",
       "      <td>revent 80 cfm</td>\n",
       "      <td>0</td>\n",
       "      <td>B000MOO21W</td>\n",
       "      <td>us</td>\n",
       "      <td>I</td>\n",
       "      <td>0</td>\n",
       "      <td>1</td>\n",
       "      <td>train</td>\n",
       "    </tr>\n",
       "    <tr>\n",
       "      <th>1</th>\n",
       "      <td>1</td>\n",
       "      <td>revent 80 cfm</td>\n",
       "      <td>0</td>\n",
       "      <td>B07X3Y6B1V</td>\n",
       "      <td>us</td>\n",
       "      <td>E</td>\n",
       "      <td>0</td>\n",
       "      <td>1</td>\n",
       "      <td>train</td>\n",
       "    </tr>\n",
       "    <tr>\n",
       "      <th>2</th>\n",
       "      <td>2</td>\n",
       "      <td>revent 80 cfm</td>\n",
       "      <td>0</td>\n",
       "      <td>B07WDM7MQQ</td>\n",
       "      <td>us</td>\n",
       "      <td>E</td>\n",
       "      <td>0</td>\n",
       "      <td>1</td>\n",
       "      <td>train</td>\n",
       "    </tr>\n",
       "    <tr>\n",
       "      <th>3</th>\n",
       "      <td>3</td>\n",
       "      <td>revent 80 cfm</td>\n",
       "      <td>0</td>\n",
       "      <td>B07RH6Z8KW</td>\n",
       "      <td>us</td>\n",
       "      <td>E</td>\n",
       "      <td>0</td>\n",
       "      <td>1</td>\n",
       "      <td>train</td>\n",
       "    </tr>\n",
       "    <tr>\n",
       "      <th>4</th>\n",
       "      <td>4</td>\n",
       "      <td>revent 80 cfm</td>\n",
       "      <td>0</td>\n",
       "      <td>B07QJ7WYFQ</td>\n",
       "      <td>us</td>\n",
       "      <td>E</td>\n",
       "      <td>0</td>\n",
       "      <td>1</td>\n",
       "      <td>train</td>\n",
       "    </tr>\n",
       "  </tbody>\n",
       "</table>\n",
       "</div>"
      ],
      "text/plain": [
       "   example_id           query  query_id  product_id product_locale esci_label  \\\n",
       "0           0   revent 80 cfm         0  B000MOO21W             us          I   \n",
       "1           1   revent 80 cfm         0  B07X3Y6B1V             us          E   \n",
       "2           2   revent 80 cfm         0  B07WDM7MQQ             us          E   \n",
       "3           3   revent 80 cfm         0  B07RH6Z8KW             us          E   \n",
       "4           4   revent 80 cfm         0  B07QJ7WYFQ             us          E   \n",
       "\n",
       "   small_version  large_version  split  \n",
       "0              0              1  train  \n",
       "1              0              1  train  \n",
       "2              0              1  train  \n",
       "3              0              1  train  \n",
       "4              0              1  train  "
      ]
     },
     "execution_count": 8,
     "metadata": {},
     "output_type": "execute_result"
    }
   ],
   "source": [
    "df_examples.head()"
   ]
  },
  {
   "cell_type": "code",
   "execution_count": 9,
   "metadata": {},
   "outputs": [
    {
     "data": {
      "text/html": [
       "<div>\n",
       "<style scoped>\n",
       "    .dataframe tbody tr th:only-of-type {\n",
       "        vertical-align: middle;\n",
       "    }\n",
       "\n",
       "    .dataframe tbody tr th {\n",
       "        vertical-align: top;\n",
       "    }\n",
       "\n",
       "    .dataframe thead th {\n",
       "        text-align: right;\n",
       "    }\n",
       "</style>\n",
       "<table border=\"1\" class=\"dataframe\">\n",
       "  <thead>\n",
       "    <tr style=\"text-align: right;\">\n",
       "      <th></th>\n",
       "      <th>query_id</th>\n",
       "      <th>source</th>\n",
       "    </tr>\n",
       "  </thead>\n",
       "  <tbody>\n",
       "    <tr>\n",
       "      <th>0</th>\n",
       "      <td>0</td>\n",
       "      <td>other</td>\n",
       "    </tr>\n",
       "    <tr>\n",
       "      <th>1</th>\n",
       "      <td>1</td>\n",
       "      <td>negations</td>\n",
       "    </tr>\n",
       "    <tr>\n",
       "      <th>2</th>\n",
       "      <td>2</td>\n",
       "      <td>negations</td>\n",
       "    </tr>\n",
       "    <tr>\n",
       "      <th>3</th>\n",
       "      <td>3</td>\n",
       "      <td>negations</td>\n",
       "    </tr>\n",
       "    <tr>\n",
       "      <th>4</th>\n",
       "      <td>4</td>\n",
       "      <td>behavioral</td>\n",
       "    </tr>\n",
       "    <tr>\n",
       "      <th>...</th>\n",
       "      <td>...</td>\n",
       "      <td>...</td>\n",
       "    </tr>\n",
       "    <tr>\n",
       "      <th>130647</th>\n",
       "      <td>130647</td>\n",
       "      <td>other</td>\n",
       "    </tr>\n",
       "    <tr>\n",
       "      <th>130648</th>\n",
       "      <td>130648</td>\n",
       "      <td>other</td>\n",
       "    </tr>\n",
       "    <tr>\n",
       "      <th>130649</th>\n",
       "      <td>130649</td>\n",
       "      <td>other</td>\n",
       "    </tr>\n",
       "    <tr>\n",
       "      <th>130650</th>\n",
       "      <td>130650</td>\n",
       "      <td>other</td>\n",
       "    </tr>\n",
       "    <tr>\n",
       "      <th>130651</th>\n",
       "      <td>130651</td>\n",
       "      <td>other</td>\n",
       "    </tr>\n",
       "  </tbody>\n",
       "</table>\n",
       "<p>130652 rows × 2 columns</p>\n",
       "</div>"
      ],
      "text/plain": [
       "        query_id      source\n",
       "0              0       other\n",
       "1              1   negations\n",
       "2              2   negations\n",
       "3              3   negations\n",
       "4              4  behavioral\n",
       "...          ...         ...\n",
       "130647    130647       other\n",
       "130648    130648       other\n",
       "130649    130649       other\n",
       "130650    130650       other\n",
       "130651    130651       other\n",
       "\n",
       "[130652 rows x 2 columns]"
      ]
     },
     "execution_count": 9,
     "metadata": {},
     "output_type": "execute_result"
    }
   ],
   "source": [
    "df_sources"
   ]
  },
  {
   "cell_type": "code",
   "execution_count": 10,
   "metadata": {},
   "outputs": [
    {
     "data": {
      "text/plain": [
       "other            113656\n",
       "negations          6964\n",
       "parse_pattern      6083\n",
       "behavioral         3780\n",
       "nlqec               169\n",
       "Name: source, dtype: int64"
      ]
     },
     "execution_count": 10,
     "metadata": {},
     "output_type": "execute_result"
    }
   ],
   "source": [
    "df_sources['source'].value_counts()"
   ]
  },
  {
   "cell_type": "code",
   "execution_count": null,
   "metadata": {},
   "outputs": [],
   "source": []
  },
  {
   "cell_type": "markdown",
   "metadata": {},
   "source": [
    "## Amazon Metadata"
   ]
  },
  {
   "cell_type": "code",
   "execution_count": 11,
   "metadata": {},
   "outputs": [],
   "source": [
    "df_products_metadata = df_products.drop_duplicates(['product_id'])\n",
    "# only interested in us items\n",
    "df_products_metadata = df_products_metadata [ df_products_metadata['product_locale']==\"us\" ]\n",
    "df_products_metadata = df_products_metadata[['product_id']]"
   ]
  },
  {
   "cell_type": "code",
   "execution_count": null,
   "metadata": {},
   "outputs": [],
   "source": []
  },
  {
   "cell_type": "code",
   "execution_count": 12,
   "metadata": {},
   "outputs": [],
   "source": [
    "def get_canonical_product_url(product_id):\n",
    "    \n",
    "    url = f\"https://www.amazon.com/dp/{product_id}\"\n",
    "    \n",
    "    return url\n",
    "\n",
    "def get_canonical_product_image_url(product_id):\n",
    "    # ref\n",
    "    # https://www.oreilly.com/library/view/amazon-hacks/0596005423/ch01s07.html\n",
    "    \n",
    "    # medium image\n",
    "    url = f\"https://www.amazon.com/dp/{product_id}.01._SCMZZZZZZZ_.jpg\"\n",
    "    # large image\n",
    "    url = f\"https://www.amazon.com/dp/{product_id}.01._SCLZZZZZZZ_.jpg\"\n",
    "    \n",
    "    \n",
    "    return url"
   ]
  },
  {
   "cell_type": "code",
   "execution_count": null,
   "metadata": {},
   "outputs": [],
   "source": []
  },
  {
   "cell_type": "code",
   "execution_count": 13,
   "metadata": {},
   "outputs": [],
   "source": [
    "df_products_metadata['url_product'] = df_products_metadata['product_id'].apply(get_canonical_product_url)\n",
    "df_products_metadata['url_image'] = df_products_metadata['product_id'].apply(get_canonical_product_image_url)\n",
    "\n"
   ]
  },
  {
   "cell_type": "code",
   "execution_count": null,
   "metadata": {},
   "outputs": [],
   "source": []
  },
  {
   "cell_type": "code",
   "execution_count": null,
   "metadata": {},
   "outputs": [],
   "source": []
  },
  {
   "cell_type": "code",
   "execution_count": null,
   "metadata": {},
   "outputs": [],
   "source": []
  },
  {
   "cell_type": "code",
   "execution_count": null,
   "metadata": {},
   "outputs": [],
   "source": []
  },
  {
   "cell_type": "code",
   "execution_count": null,
   "metadata": {},
   "outputs": [],
   "source": []
  },
  {
   "cell_type": "code",
   "execution_count": null,
   "metadata": {},
   "outputs": [],
   "source": []
  },
  {
   "cell_type": "markdown",
   "metadata": {},
   "source": [
    "Merge examples with products\n"
   ]
  },
  {
   "cell_type": "code",
   "execution_count": 14,
   "metadata": {
    "colab": {
     "base_uri": "https://localhost:8080/"
    },
    "id": "gVc-mGjgtrPD",
    "outputId": "7b0d7189-1ec2-4bf7-9ccd-df7f2042f372"
   },
   "outputs": [],
   "source": [
    "df_examples_products = pd.merge(\n",
    "    df_examples,\n",
    "    df_products,\n",
    "    how='left',\n",
    "    left_on=['product_locale','product_id'],\n",
    "    right_on=['product_locale', 'product_id']\n",
    ")\n",
    "\n"
   ]
  },
  {
   "cell_type": "markdown",
   "metadata": {},
   "source": [
    "merge examples with product metadata"
   ]
  },
  {
   "cell_type": "code",
   "execution_count": 15,
   "metadata": {},
   "outputs": [],
   "source": [
    "df_examples_products = pd.merge(\n",
    "    df_examples_products,\n",
    "    df_products_metadata,\n",
    "    how='inner',\n",
    "    on=['product_id'],\n",
    ")\n"
   ]
  },
  {
   "cell_type": "markdown",
   "metadata": {},
   "source": [
    "Merge examples with query type\n"
   ]
  },
  {
   "cell_type": "code",
   "execution_count": 16,
   "metadata": {},
   "outputs": [],
   "source": [
    "# def isEnglish(s):\n",
    "#     try:\n",
    "#         s.encode(encoding='utf-8').decode('ascii')\n",
    "#     except UnicodeDecodeError:\n",
    "#         return False\n",
    "#     else:\n",
    "#         return True\n",
    "    \n",
    "    \n",
    "# def is_english(s):\n",
    "#     try:\n",
    "#         return detect(s) == 'en'\n",
    "#     except Exception as e:\n",
    "#         print(( s,e) ) \n",
    "#         return False\n",
    "#     return False\n",
    "\n",
    "def is_english(text):\n",
    "    # try:\n",
    "    #     text = text.encode(encoding='utf-8').decode('ascii')\n",
    "    # except UnicodeDecodeError as e:\n",
    "    #     print(e)\n",
    "    #     return False\n",
    "    \n",
    "    if re.search(r\"[\\u3000-\\u303F]\", text):\n",
    "        return False\n",
    "    \n",
    "        \n",
    "\n",
    "    allowed_characters = set([\"$\", \"!\", '\"', \"-\", '#',\",\",\".\", \"%\", \"'\", '’', \"’\", \")\" ,\"(\",\"”\",'’','$', '”'])\n",
    "    \n",
    "    try:\n",
    "        return all(c.isalnum() or c.isspace() or c in allowed_characters or c in string.punctuation for c in text)\n",
    "    except:\n",
    "        return False\n",
    "    \n",
    "def is_english(text):\n",
    "    text = unicodedata.normalize('NFKC', text)\n",
    "    \n",
    "    lang = None\n",
    "    try:\n",
    "        lang = detect(text)\n",
    "    except Exception as e:\n",
    "        print (text, e)\n",
    "\n",
    "    if lang in ['en','ja','es']:\n",
    "        return lang\n",
    "    \n",
    "    text = unidecode(text)\n",
    "    try:\n",
    "        res = text.encode(encoding='utf-8').decode('ascii')\n",
    "        return \"en\"\n",
    "        \n",
    "    except UnicodeDecodeError:\n",
    "        pass\n",
    "    \n",
    "    \n",
    "    \n",
    "\n",
    "    \n",
    "    return \"unknown\"\n",
    "\n",
    "\n",
    "def contains_spanish_accents(text):\n",
    "    spanish_accents = {'á', 'é', 'í', 'ó', 'ú', 'ñ'}\n",
    "    return any(char in spanish_accents for char in text)\n",
    "\n",
    "\n",
    "def contains_japanese(text):\n",
    "    for char in text:\n",
    "        if '\\u3040' <= char <= '\\u309F' or '\\u30A0' <= char <= '\\u30FF' or '\\u4E00' <= char <= '\\u9FAF':\n",
    "            return True\n",
    "    return False\n",
    "\n",
    "# Example usage\n",
    "def is_english(text):\n",
    "    text = unicodedata.normalize('NFC', text)\n",
    "\n",
    "    is_japanese = contains_japanese(text)\n",
    "\n",
    "   \n",
    "    if is_japanese:\n",
    "        return \"jp\"\n",
    "    \n",
    "    is_spanish = contains_spanish_accents(text)\n",
    "    \n",
    "    if is_spanish:\n",
    "        return \"es\"\n",
    "    \n",
    "\n",
    "    \n",
    "    try:\n",
    "        lang = detect(text)\n",
    "\n",
    "        if lang ==\"en\":\n",
    "            return \"en\"\n",
    "\n",
    "        #print(lang)\n",
    "\n",
    "        \n",
    "        allowed_characters = set([\"$\", \"!\", '\"', \"-\", '#',\",\",\".\", \"%\", \"'\", '’', \"’\", \")\" ,\"(\",\"”\",'’','$', '”'])\n",
    "    \n",
    "        if all(c.isalnum() or c.isspace() or c in allowed_characters or c in string.punctuation for c in text):\n",
    "            return \"en\"\n",
    "\n",
    "        \n",
    "        #text = unidecode(text)\n",
    "        lang = detect(text)\n",
    "\n",
    "        #print(text,lang)\n",
    "        return lang\n",
    "    except:\n",
    "        return \"unknown\"\n",
    "\n",
    "    \n",
    "    \n",
    "def clean_text(text):\n",
    "    # Normalize Unicode characters\n",
    "    text = unicodedata.normalize('NFKC', text)\n",
    "    # Convert to lowercase\n",
    "    text = text.lower()\n",
    "    # Remove special characters and punctuation\n",
    "    text = re.sub(r'[^\\w\\s]', '', text)\n",
    "    # Remove extra whitespace\n",
    "    text = re.sub(r'\\s+', ' ', text).strip()\n",
    "    return text\n",
    "\n",
    "def detect_language(text):\n",
    "    \n",
    "    is_japanese = contains_japanese(text)\n",
    "    if is_japanese:\n",
    "        return \"jp\"\n",
    "   \n",
    "    is_spanish = contains_spanish_accents(text)\n",
    "    \n",
    "    if is_spanish:\n",
    "        return \"es\"\n",
    "    \n",
    "    try:\n",
    "        res = text.encode(encoding='utf-8').decode('ascii')\n",
    "        return \"en\"\n",
    "        \n",
    "    except UnicodeDecodeError:\n",
    "        pass\n",
    "    \n",
    "    cleaned_text = clean_text(text)\n",
    "    try:\n",
    "        lang = detect(cleaned_text)\n",
    "        if lang == 'en':\n",
    "            return 'en'\n",
    "        elif lang == 'ja':\n",
    "            return 'ja'\n",
    "        elif lang == 'es':\n",
    "            return 'es'\n",
    "        else:\n",
    "            return 'unknown'\n",
    "    except LangDetectException:\n",
    "        return 'unknown'\n",
    "    \n",
    "    return 'unknown'"
   ]
  },
  {
   "cell_type": "code",
   "execution_count": 17,
   "metadata": {},
   "outputs": [
    {
     "data": {
      "text/plain": [
       "{'encoding': 'Windows-1254',\n",
       " 'confidence': 0.7374656603237749,\n",
       " 'language': 'Turkish'}"
      ]
     },
     "execution_count": 17,
     "metadata": {},
     "output_type": "execute_result"
    }
   ],
   "source": [
    "chardet.detect(\"1” sink stopper and strainer\".encode())"
   ]
  },
  {
   "cell_type": "code",
   "execution_count": 18,
   "metadata": {},
   "outputs": [
    {
     "data": {
      "text/plain": [
       "'en'"
      ]
     },
     "execution_count": 18,
     "metadata": {},
     "output_type": "execute_result"
    }
   ],
   "source": [
    "is_english(\"1” sink stopper and strainer\")"
   ]
  },
  {
   "cell_type": "code",
   "execution_count": 19,
   "metadata": {},
   "outputs": [
    {
     "data": {
      "text/plain": [
       "('en', 'et')"
      ]
     },
     "execution_count": 19,
     "metadata": {},
     "output_type": "execute_result"
    }
   ],
   "source": [
    "is_english(\"!solid camiseta sin manga\"), detect(\"!solid camiseta sin manga\")"
   ]
  },
  {
   "cell_type": "code",
   "execution_count": 20,
   "metadata": {},
   "outputs": [
    {
     "data": {
      "text/plain": [
       "'es'"
      ]
     },
     "execution_count": 20,
     "metadata": {},
     "output_type": "execute_result"
    }
   ],
   "source": [
    "is_english( 'alpro soja sin azúcar')"
   ]
  },
  {
   "cell_type": "code",
   "execution_count": 21,
   "metadata": {},
   "outputs": [
    {
     "data": {
      "text/plain": [
       "'jp'"
      ]
     },
     "execution_count": 21,
     "metadata": {},
     "output_type": "execute_result"
    }
   ],
   "source": [
    "is_english( '32ミリ コテ')"
   ]
  },
  {
   "cell_type": "code",
   "execution_count": null,
   "metadata": {},
   "outputs": [],
   "source": []
  },
  {
   "cell_type": "code",
   "execution_count": 22,
   "metadata": {},
   "outputs": [
    {
     "name": "stdout",
     "output_type": "stream",
     "text": [
      "1\" sink stopper and strainer\n"
     ]
    },
    {
     "data": {
      "text/plain": [
       "'1\" sink stopper and strainer'"
      ]
     },
     "execution_count": 22,
     "metadata": {},
     "output_type": "execute_result"
    }
   ],
   "source": [
    "text = \"1” sink stopper and strainer\"\n",
    "text = unicodedata.normalize('NFKD', text)\n",
    "text =unidecode(text)\n",
    "print(text)\n",
    "text.encode(encoding='utf-8').decode('ascii')"
   ]
  },
  {
   "cell_type": "code",
   "execution_count": 23,
   "metadata": {},
   "outputs": [
    {
     "data": {
      "text/plain": [
       "\u001b[0;31mSignature:\u001b[0m \u001b[0munidecode\u001b[0m\u001b[0;34m(\u001b[0m\u001b[0mstring\u001b[0m\u001b[0;34m)\u001b[0m\u001b[0;34m\u001b[0m\u001b[0;34m\u001b[0m\u001b[0m\n",
       "\u001b[0;31mDocstring:\u001b[0m\n",
       "Transliterate an Unicode object into an ASCII string\n",
       "\n",
       ">>> unidecode(u\"北亰\")\n",
       "\"Bei Jing \"\n",
       "\n",
       "This function first tries to convert the string using ASCII codec.\n",
       "If it fails (because of non-ASCII characters), it falls back to\n",
       "transliteration using the character tables.\n",
       "\n",
       "This is approx. five times faster if the string only contains ASCII\n",
       "characters, but slightly slower than using unidecode directly if non-ASCII\n",
       "chars are present.\n",
       "\u001b[0;31mFile:\u001b[0m      /usr/lib/python3/dist-packages/unidecode/__init__.py\n",
       "\u001b[0;31mType:\u001b[0m      function\n"
      ]
     },
     "metadata": {},
     "output_type": "display_data"
    }
   ],
   "source": [
    "?unidecode"
   ]
  },
  {
   "cell_type": "code",
   "execution_count": 24,
   "metadata": {},
   "outputs": [
    {
     "data": {
      "text/plain": [
       "'en'"
      ]
     },
     "execution_count": 24,
     "metadata": {},
     "output_type": "execute_result"
    }
   ],
   "source": [
    "detect(\"War doesn't show who's right, just who's left.\")"
   ]
  },
  {
   "cell_type": "code",
   "execution_count": 25,
   "metadata": {},
   "outputs": [
    {
     "data": {
      "text/plain": [
       "[no:0.756904732631223, af:0.2430950268800618]"
      ]
     },
     "execution_count": 25,
     "metadata": {},
     "output_type": "execute_result"
    }
   ],
   "source": [
    "detect_langs(\"Sink stopper\")"
   ]
  },
  {
   "cell_type": "code",
   "execution_count": 26,
   "metadata": {},
   "outputs": [
    {
     "data": {
      "text/html": [
       "<div>\n",
       "<style scoped>\n",
       "    .dataframe tbody tr th:only-of-type {\n",
       "        vertical-align: middle;\n",
       "    }\n",
       "\n",
       "    .dataframe tbody tr th {\n",
       "        vertical-align: top;\n",
       "    }\n",
       "\n",
       "    .dataframe thead th {\n",
       "        text-align: right;\n",
       "    }\n",
       "</style>\n",
       "<table border=\"1\" class=\"dataframe\">\n",
       "  <thead>\n",
       "    <tr style=\"text-align: right;\">\n",
       "      <th></th>\n",
       "      <th>query_id</th>\n",
       "      <th>source</th>\n",
       "    </tr>\n",
       "  </thead>\n",
       "  <tbody>\n",
       "    <tr>\n",
       "      <th>0</th>\n",
       "      <td>0</td>\n",
       "      <td>other</td>\n",
       "    </tr>\n",
       "    <tr>\n",
       "      <th>1</th>\n",
       "      <td>1</td>\n",
       "      <td>negations</td>\n",
       "    </tr>\n",
       "    <tr>\n",
       "      <th>2</th>\n",
       "      <td>2</td>\n",
       "      <td>negations</td>\n",
       "    </tr>\n",
       "    <tr>\n",
       "      <th>3</th>\n",
       "      <td>3</td>\n",
       "      <td>negations</td>\n",
       "    </tr>\n",
       "    <tr>\n",
       "      <th>4</th>\n",
       "      <td>4</td>\n",
       "      <td>behavioral</td>\n",
       "    </tr>\n",
       "    <tr>\n",
       "      <th>...</th>\n",
       "      <td>...</td>\n",
       "      <td>...</td>\n",
       "    </tr>\n",
       "    <tr>\n",
       "      <th>130647</th>\n",
       "      <td>130647</td>\n",
       "      <td>other</td>\n",
       "    </tr>\n",
       "    <tr>\n",
       "      <th>130648</th>\n",
       "      <td>130648</td>\n",
       "      <td>other</td>\n",
       "    </tr>\n",
       "    <tr>\n",
       "      <th>130649</th>\n",
       "      <td>130649</td>\n",
       "      <td>other</td>\n",
       "    </tr>\n",
       "    <tr>\n",
       "      <th>130650</th>\n",
       "      <td>130650</td>\n",
       "      <td>other</td>\n",
       "    </tr>\n",
       "    <tr>\n",
       "      <th>130651</th>\n",
       "      <td>130651</td>\n",
       "      <td>other</td>\n",
       "    </tr>\n",
       "  </tbody>\n",
       "</table>\n",
       "<p>130652 rows × 2 columns</p>\n",
       "</div>"
      ],
      "text/plain": [
       "        query_id      source\n",
       "0              0       other\n",
       "1              1   negations\n",
       "2              2   negations\n",
       "3              3   negations\n",
       "4              4  behavioral\n",
       "...          ...         ...\n",
       "130647    130647       other\n",
       "130648    130648       other\n",
       "130649    130649       other\n",
       "130650    130650       other\n",
       "130651    130651       other\n",
       "\n",
       "[130652 rows x 2 columns]"
      ]
     },
     "execution_count": 26,
     "metadata": {},
     "output_type": "execute_result"
    }
   ],
   "source": [
    "df_sources"
   ]
  },
  {
   "cell_type": "code",
   "execution_count": null,
   "metadata": {},
   "outputs": [],
   "source": []
  },
  {
   "cell_type": "code",
   "execution_count": null,
   "metadata": {},
   "outputs": [],
   "source": []
  },
  {
   "cell_type": "code",
   "execution_count": null,
   "metadata": {},
   "outputs": [],
   "source": []
  },
  {
   "cell_type": "code",
   "execution_count": 27,
   "metadata": {},
   "outputs": [],
   "source": [
    "#df_examples_products_query['is_english'] =  df_examples_products_query['query'].apply(isEnglish)"
   ]
  },
  {
   "cell_type": "code",
   "execution_count": 28,
   "metadata": {},
   "outputs": [],
   "source": [
    "#detect(\"hi"
   ]
  },
  {
   "cell_type": "code",
   "execution_count": 29,
   "metadata": {},
   "outputs": [],
   "source": [
    "#df_query_lang = df_examples_products[df_examples_products [\"product_locale\"]==\"us\"]\n",
    "df_query_lang = df_examples_products[['query','query_id']].drop_duplicates()\n",
    "\n"
   ]
  },
  {
   "cell_type": "code",
   "execution_count": 30,
   "metadata": {},
   "outputs": [],
   "source": [
    "df_query_lang = pd.merge(df_query_lang,df_sources, on=['query_id'])"
   ]
  },
  {
   "cell_type": "code",
   "execution_count": 31,
   "metadata": {},
   "outputs": [
    {
     "data": {
      "text/html": [
       "<div>\n",
       "<style scoped>\n",
       "    .dataframe tbody tr th:only-of-type {\n",
       "        vertical-align: middle;\n",
       "    }\n",
       "\n",
       "    .dataframe tbody tr th {\n",
       "        vertical-align: top;\n",
       "    }\n",
       "\n",
       "    .dataframe thead th {\n",
       "        text-align: right;\n",
       "    }\n",
       "</style>\n",
       "<table border=\"1\" class=\"dataframe\">\n",
       "  <thead>\n",
       "    <tr style=\"text-align: right;\">\n",
       "      <th></th>\n",
       "      <th>query</th>\n",
       "      <th>query_id</th>\n",
       "      <th>source</th>\n",
       "    </tr>\n",
       "  </thead>\n",
       "  <tbody>\n",
       "    <tr>\n",
       "      <th>0</th>\n",
       "      <td>revent 80 cfm</td>\n",
       "      <td>0</td>\n",
       "      <td>other</td>\n",
       "    </tr>\n",
       "    <tr>\n",
       "      <th>1</th>\n",
       "      <td>bathroom fan without light</td>\n",
       "      <td>13723</td>\n",
       "      <td>negations</td>\n",
       "    </tr>\n",
       "    <tr>\n",
       "      <th>2</th>\n",
       "      <td>bathroom fan with light</td>\n",
       "      <td>13722</td>\n",
       "      <td>other</td>\n",
       "    </tr>\n",
       "    <tr>\n",
       "      <th>3</th>\n",
       "      <td>110cfm bathroom exhaust fan without light</td>\n",
       "      <td>1750</td>\n",
       "      <td>negations</td>\n",
       "    </tr>\n",
       "    <tr>\n",
       "      <th>4</th>\n",
       "      <td>12 inch bathroomwall mounted fan</td>\n",
       "      <td>1820</td>\n",
       "      <td>other</td>\n",
       "    </tr>\n",
       "    <tr>\n",
       "      <th>...</th>\n",
       "      <td>...</td>\n",
       "      <td>...</td>\n",
       "      <td>...</td>\n",
       "    </tr>\n",
       "    <tr>\n",
       "      <th>101831</th>\n",
       "      <td>земфира</td>\n",
       "      <td>115950</td>\n",
       "      <td>other</td>\n",
       "    </tr>\n",
       "    <tr>\n",
       "      <th>101832</th>\n",
       "      <td>кроссовки</td>\n",
       "      <td>115951</td>\n",
       "      <td>other</td>\n",
       "    </tr>\n",
       "    <tr>\n",
       "      <th>101833</th>\n",
       "      <td>‘master/slave mastery’</td>\n",
       "      <td>115955</td>\n",
       "      <td>other</td>\n",
       "    </tr>\n",
       "    <tr>\n",
       "      <th>101834</th>\n",
       "      <td>• bradley’s neurology in clinical practice</td>\n",
       "      <td>115962</td>\n",
       "      <td>other</td>\n",
       "    </tr>\n",
       "    <tr>\n",
       "      <th>101835</th>\n",
       "      <td>茶叶</td>\n",
       "      <td>129275</td>\n",
       "      <td>other</td>\n",
       "    </tr>\n",
       "  </tbody>\n",
       "</table>\n",
       "<p>101836 rows × 3 columns</p>\n",
       "</div>"
      ],
      "text/plain": [
       "                                             query  query_id     source\n",
       "0                                    revent 80 cfm         0      other\n",
       "1                       bathroom fan without light     13723  negations\n",
       "2                          bathroom fan with light     13722      other\n",
       "3        110cfm bathroom exhaust fan without light      1750  negations\n",
       "4                 12 inch bathroomwall mounted fan      1820      other\n",
       "...                                            ...       ...        ...\n",
       "101831                                     земфира    115950      other\n",
       "101832                                   кроссовки    115951      other\n",
       "101833                      ‘master/slave mastery’    115955      other\n",
       "101834  • bradley’s neurology in clinical practice    115962      other\n",
       "101835                                          茶叶    129275      other\n",
       "\n",
       "[101836 rows x 3 columns]"
      ]
     },
     "execution_count": 31,
     "metadata": {},
     "output_type": "execute_result"
    }
   ],
   "source": [
    "df_query_lang"
   ]
  },
  {
   "cell_type": "code",
   "execution_count": 32,
   "metadata": {},
   "outputs": [
    {
     "data": {
      "text/html": [
       "<div>\n",
       "<style scoped>\n",
       "    .dataframe tbody tr th:only-of-type {\n",
       "        vertical-align: middle;\n",
       "    }\n",
       "\n",
       "    .dataframe tbody tr th {\n",
       "        vertical-align: top;\n",
       "    }\n",
       "\n",
       "    .dataframe thead th {\n",
       "        text-align: right;\n",
       "    }\n",
       "</style>\n",
       "<table border=\"1\" class=\"dataframe\">\n",
       "  <thead>\n",
       "    <tr style=\"text-align: right;\">\n",
       "      <th></th>\n",
       "      <th>query</th>\n",
       "      <th>query_id</th>\n",
       "      <th>source</th>\n",
       "    </tr>\n",
       "  </thead>\n",
       "  <tbody>\n",
       "    <tr>\n",
       "      <th>0</th>\n",
       "      <td>revent 80 cfm</td>\n",
       "      <td>0</td>\n",
       "      <td>other</td>\n",
       "    </tr>\n",
       "    <tr>\n",
       "      <th>1</th>\n",
       "      <td>bathroom fan without light</td>\n",
       "      <td>13723</td>\n",
       "      <td>negations</td>\n",
       "    </tr>\n",
       "    <tr>\n",
       "      <th>2</th>\n",
       "      <td>bathroom fan with light</td>\n",
       "      <td>13722</td>\n",
       "      <td>other</td>\n",
       "    </tr>\n",
       "    <tr>\n",
       "      <th>3</th>\n",
       "      <td>110cfm bathroom exhaust fan without light</td>\n",
       "      <td>1750</td>\n",
       "      <td>negations</td>\n",
       "    </tr>\n",
       "    <tr>\n",
       "      <th>4</th>\n",
       "      <td>12 inch bathroomwall mounted fan</td>\n",
       "      <td>1820</td>\n",
       "      <td>other</td>\n",
       "    </tr>\n",
       "    <tr>\n",
       "      <th>...</th>\n",
       "      <td>...</td>\n",
       "      <td>...</td>\n",
       "      <td>...</td>\n",
       "    </tr>\n",
       "    <tr>\n",
       "      <th>101831</th>\n",
       "      <td>земфира</td>\n",
       "      <td>115950</td>\n",
       "      <td>other</td>\n",
       "    </tr>\n",
       "    <tr>\n",
       "      <th>101832</th>\n",
       "      <td>кроссовки</td>\n",
       "      <td>115951</td>\n",
       "      <td>other</td>\n",
       "    </tr>\n",
       "    <tr>\n",
       "      <th>101833</th>\n",
       "      <td>‘master/slave mastery’</td>\n",
       "      <td>115955</td>\n",
       "      <td>other</td>\n",
       "    </tr>\n",
       "    <tr>\n",
       "      <th>101834</th>\n",
       "      <td>• bradley’s neurology in clinical practice</td>\n",
       "      <td>115962</td>\n",
       "      <td>other</td>\n",
       "    </tr>\n",
       "    <tr>\n",
       "      <th>101835</th>\n",
       "      <td>茶叶</td>\n",
       "      <td>129275</td>\n",
       "      <td>other</td>\n",
       "    </tr>\n",
       "  </tbody>\n",
       "</table>\n",
       "<p>101836 rows × 3 columns</p>\n",
       "</div>"
      ],
      "text/plain": [
       "                                             query  query_id     source\n",
       "0                                    revent 80 cfm         0      other\n",
       "1                       bathroom fan without light     13723  negations\n",
       "2                          bathroom fan with light     13722      other\n",
       "3        110cfm bathroom exhaust fan without light      1750  negations\n",
       "4                 12 inch bathroomwall mounted fan      1820      other\n",
       "...                                            ...       ...        ...\n",
       "101831                                     земфира    115950      other\n",
       "101832                                   кроссовки    115951      other\n",
       "101833                      ‘master/slave mastery’    115955      other\n",
       "101834  • bradley’s neurology in clinical practice    115962      other\n",
       "101835                                          茶叶    129275      other\n",
       "\n",
       "[101836 rows x 3 columns]"
      ]
     },
     "execution_count": 32,
     "metadata": {},
     "output_type": "execute_result"
    }
   ],
   "source": [
    "df_query_lang"
   ]
  },
  {
   "cell_type": "code",
   "execution_count": 33,
   "metadata": {},
   "outputs": [
    {
     "data": {
      "application/vnd.jupyter.widget-view+json": {
       "model_id": "8008de5c19ee46658c7f226abe9946d9",
       "version_major": 2,
       "version_minor": 0
      },
      "text/plain": [
       "VBox(children=(HBox(children=(IntProgress(value=0, description='0.00%', max=12730), Label(value='0 / 12730')))…"
      ]
     },
     "metadata": {},
     "output_type": "display_data"
    }
   ],
   "source": [
    "df_query_lang['lang_code'] = df_query_lang['query'].parallel_apply(detect_language)\n"
   ]
  },
  {
   "cell_type": "code",
   "execution_count": 34,
   "metadata": {
    "tags": []
   },
   "outputs": [
    {
     "data": {
      "text/plain": [
       "en         99604\n",
       "jp          1845\n",
       "es           281\n",
       "unknown      101\n",
       "ja             5\n",
       "Name: lang_code, dtype: int64"
      ]
     },
     "execution_count": 34,
     "metadata": {},
     "output_type": "execute_result"
    }
   ],
   "source": [
    "df_query_lang['lang_code'].value_counts()"
   ]
  },
  {
   "cell_type": "code",
   "execution_count": 35,
   "metadata": {},
   "outputs": [
    {
     "data": {
      "text/html": [
       "<div>\n",
       "<style scoped>\n",
       "    .dataframe tbody tr th:only-of-type {\n",
       "        vertical-align: middle;\n",
       "    }\n",
       "\n",
       "    .dataframe tbody tr th {\n",
       "        vertical-align: top;\n",
       "    }\n",
       "\n",
       "    .dataframe thead th {\n",
       "        text-align: right;\n",
       "    }\n",
       "</style>\n",
       "<table border=\"1\" class=\"dataframe\">\n",
       "  <thead>\n",
       "    <tr style=\"text-align: right;\">\n",
       "      <th></th>\n",
       "      <th>query</th>\n",
       "      <th>query_id</th>\n",
       "      <th>source</th>\n",
       "      <th>lang_code</th>\n",
       "    </tr>\n",
       "  </thead>\n",
       "  <tbody>\n",
       "    <tr>\n",
       "      <th>0</th>\n",
       "      <td>revent 80 cfm</td>\n",
       "      <td>0</td>\n",
       "      <td>other</td>\n",
       "      <td>en</td>\n",
       "    </tr>\n",
       "    <tr>\n",
       "      <th>1</th>\n",
       "      <td>bathroom fan without light</td>\n",
       "      <td>13723</td>\n",
       "      <td>negations</td>\n",
       "      <td>en</td>\n",
       "    </tr>\n",
       "    <tr>\n",
       "      <th>2</th>\n",
       "      <td>bathroom fan with light</td>\n",
       "      <td>13722</td>\n",
       "      <td>other</td>\n",
       "      <td>en</td>\n",
       "    </tr>\n",
       "    <tr>\n",
       "      <th>3</th>\n",
       "      <td>110cfm bathroom exhaust fan without light</td>\n",
       "      <td>1750</td>\n",
       "      <td>negations</td>\n",
       "      <td>en</td>\n",
       "    </tr>\n",
       "    <tr>\n",
       "      <th>4</th>\n",
       "      <td>12 inch bathroomwall mounted fan</td>\n",
       "      <td>1820</td>\n",
       "      <td>other</td>\n",
       "      <td>en</td>\n",
       "    </tr>\n",
       "    <tr>\n",
       "      <th>...</th>\n",
       "      <td>...</td>\n",
       "      <td>...</td>\n",
       "      <td>...</td>\n",
       "      <td>...</td>\n",
       "    </tr>\n",
       "    <tr>\n",
       "      <th>497</th>\n",
       "      <td>My new laptop would be silver, have the best s...</td>\n",
       "      <td>5742</td>\n",
       "      <td>nlqec</td>\n",
       "      <td>en</td>\n",
       "    </tr>\n",
       "    <tr>\n",
       "      <th>498</th>\n",
       "      <td>eat veggies not friends</td>\n",
       "      <td>36529</td>\n",
       "      <td>negations</td>\n",
       "      <td>en</td>\n",
       "    </tr>\n",
       "    <tr>\n",
       "      <th>499</th>\n",
       "      <td>eating for 2 i'm not pregnant shirt</td>\n",
       "      <td>36532</td>\n",
       "      <td>negations</td>\n",
       "      <td>en</td>\n",
       "    </tr>\n",
       "    <tr>\n",
       "      <th>500</th>\n",
       "      <td>emos not dead</td>\n",
       "      <td>37558</td>\n",
       "      <td>negations</td>\n",
       "      <td>en</td>\n",
       "    </tr>\n",
       "    <tr>\n",
       "      <th>501</th>\n",
       "      <td>grateful im not dead</td>\n",
       "      <td>47144</td>\n",
       "      <td>other</td>\n",
       "      <td>en</td>\n",
       "    </tr>\n",
       "  </tbody>\n",
       "</table>\n",
       "<p>500 rows × 4 columns</p>\n",
       "</div>"
      ],
      "text/plain": [
       "                                                 query  query_id     source  \\\n",
       "0                                        revent 80 cfm         0      other   \n",
       "1                           bathroom fan without light     13723  negations   \n",
       "2                              bathroom fan with light     13722      other   \n",
       "3            110cfm bathroom exhaust fan without light      1750  negations   \n",
       "4                     12 inch bathroomwall mounted fan      1820      other   \n",
       "..                                                 ...       ...        ...   \n",
       "497  My new laptop would be silver, have the best s...      5742      nlqec   \n",
       "498                            eat veggies not friends     36529  negations   \n",
       "499                eating for 2 i'm not pregnant shirt     36532  negations   \n",
       "500                                      emos not dead     37558  negations   \n",
       "501                               grateful im not dead     47144      other   \n",
       "\n",
       "    lang_code  \n",
       "0          en  \n",
       "1          en  \n",
       "2          en  \n",
       "3          en  \n",
       "4          en  \n",
       "..        ...  \n",
       "497        en  \n",
       "498        en  \n",
       "499        en  \n",
       "500        en  \n",
       "501        en  \n",
       "\n",
       "[500 rows x 4 columns]"
      ]
     },
     "execution_count": 35,
     "metadata": {},
     "output_type": "execute_result"
    }
   ],
   "source": [
    "df_query_lang [ df_query_lang['lang_code'].isin(['en']) ].head(500)"
   ]
  },
  {
   "cell_type": "code",
   "execution_count": 36,
   "metadata": {},
   "outputs": [
    {
     "data": {
      "text/html": [
       "<div>\n",
       "<style scoped>\n",
       "    .dataframe tbody tr th:only-of-type {\n",
       "        vertical-align: middle;\n",
       "    }\n",
       "\n",
       "    .dataframe tbody tr th {\n",
       "        vertical-align: top;\n",
       "    }\n",
       "\n",
       "    .dataframe thead th {\n",
       "        text-align: right;\n",
       "    }\n",
       "</style>\n",
       "<table border=\"1\" class=\"dataframe\">\n",
       "  <thead>\n",
       "    <tr style=\"text-align: right;\">\n",
       "      <th></th>\n",
       "      <th>query</th>\n",
       "      <th>query_id</th>\n",
       "      <th>source</th>\n",
       "      <th>lang_code</th>\n",
       "    </tr>\n",
       "  </thead>\n",
       "  <tbody>\n",
       "    <tr>\n",
       "      <th>142</th>\n",
       "      <td>bench dog® 3-piece safety kit</td>\n",
       "      <td>14901</td>\n",
       "      <td>other</td>\n",
       "      <td>unknown</td>\n",
       "    </tr>\n",
       "    <tr>\n",
       "      <th>238</th>\n",
       "      <td>9 x 6 1⁄2 x 2 3⁄4\" box</td>\n",
       "      <td>5468</td>\n",
       "      <td>other</td>\n",
       "      <td>unknown</td>\n",
       "    </tr>\n",
       "    <tr>\n",
       "      <th>834</th>\n",
       "      <td>wide women’s shoes</td>\n",
       "      <td>111540</td>\n",
       "      <td>other</td>\n",
       "      <td>unknown</td>\n",
       "    </tr>\n",
       "    <tr>\n",
       "      <th>1324</th>\n",
       "      <td>bronze 1” screw</td>\n",
       "      <td>19920</td>\n",
       "      <td>other</td>\n",
       "      <td>unknown</td>\n",
       "    </tr>\n",
       "    <tr>\n",
       "      <th>5307</th>\n",
       "      <td>men’s deodorant</td>\n",
       "      <td>68087</td>\n",
       "      <td>other</td>\n",
       "      <td>unknown</td>\n",
       "    </tr>\n",
       "    <tr>\n",
       "      <th>...</th>\n",
       "      <td>...</td>\n",
       "      <td>...</td>\n",
       "      <td>...</td>\n",
       "      <td>...</td>\n",
       "    </tr>\n",
       "    <tr>\n",
       "      <th>99798</th>\n",
       "      <td>skate men’s</td>\n",
       "      <td>93929</td>\n",
       "      <td>other</td>\n",
       "      <td>unknown</td>\n",
       "    </tr>\n",
       "    <tr>\n",
       "      <th>101800</th>\n",
       "      <td>zerøgrand hiker boot</td>\n",
       "      <td>115669</td>\n",
       "      <td>other</td>\n",
       "      <td>unknown</td>\n",
       "    </tr>\n",
       "    <tr>\n",
       "      <th>101831</th>\n",
       "      <td>земфира</td>\n",
       "      <td>115950</td>\n",
       "      <td>other</td>\n",
       "      <td>unknown</td>\n",
       "    </tr>\n",
       "    <tr>\n",
       "      <th>101832</th>\n",
       "      <td>кроссовки</td>\n",
       "      <td>115951</td>\n",
       "      <td>other</td>\n",
       "      <td>unknown</td>\n",
       "    </tr>\n",
       "    <tr>\n",
       "      <th>101833</th>\n",
       "      <td>‘master/slave mastery’</td>\n",
       "      <td>115955</td>\n",
       "      <td>other</td>\n",
       "      <td>unknown</td>\n",
       "    </tr>\n",
       "  </tbody>\n",
       "</table>\n",
       "<p>106 rows × 4 columns</p>\n",
       "</div>"
      ],
      "text/plain": [
       "                                query  query_id source lang_code\n",
       "142     bench dog® 3-piece safety kit     14901  other   unknown\n",
       "238            9 x 6 1⁄2 x 2 3⁄4\" box      5468  other   unknown\n",
       "834                wide women’s shoes    111540  other   unknown\n",
       "1324                  bronze 1” screw     19920  other   unknown\n",
       "5307                  men’s deodorant     68087  other   unknown\n",
       "...                               ...       ...    ...       ...\n",
       "99798                     skate men’s     93929  other   unknown\n",
       "101800           zerøgrand hiker boot    115669  other   unknown\n",
       "101831                        земфира    115950  other   unknown\n",
       "101832                      кроссовки    115951  other   unknown\n",
       "101833         ‘master/slave mastery’    115955  other   unknown\n",
       "\n",
       "[106 rows x 4 columns]"
      ]
     },
     "execution_count": 36,
     "metadata": {},
     "output_type": "execute_result"
    }
   ],
   "source": [
    "df_query_lang [ ~df_query_lang['lang_code'].isin(['en','jp','es','jp']) ]"
   ]
  },
  {
   "cell_type": "code",
   "execution_count": 37,
   "metadata": {},
   "outputs": [],
   "source": [
    "df_query_lang_en = df_query_lang[ df_query_lang['lang_code'] ==\"en\" ]"
   ]
  },
  {
   "cell_type": "code",
   "execution_count": null,
   "metadata": {},
   "outputs": [],
   "source": []
  },
  {
   "cell_type": "code",
   "execution_count": null,
   "metadata": {},
   "outputs": [],
   "source": []
  },
  {
   "cell_type": "code",
   "execution_count": 38,
   "metadata": {},
   "outputs": [],
   "source": [
    "df_examples_products_query = pd.merge(\n",
    "    df_examples_products,\n",
    "    df_query_lang_en,\n",
    "    how='inner',\n",
    "    on=['query_id','query']\n",
    ")\n"
   ]
  },
  {
   "cell_type": "code",
   "execution_count": null,
   "metadata": {},
   "outputs": [],
   "source": [
    "\n",
    "\n"
   ]
  },
  {
   "cell_type": "code",
   "execution_count": null,
   "metadata": {},
   "outputs": [],
   "source": []
  },
  {
   "cell_type": "code",
   "execution_count": null,
   "metadata": {},
   "outputs": [],
   "source": []
  },
  {
   "cell_type": "code",
   "execution_count": 39,
   "metadata": {},
   "outputs": [
    {
     "data": {
      "text/html": [
       "<div>\n",
       "<style scoped>\n",
       "    .dataframe tbody tr th:only-of-type {\n",
       "        vertical-align: middle;\n",
       "    }\n",
       "\n",
       "    .dataframe tbody tr th {\n",
       "        vertical-align: top;\n",
       "    }\n",
       "\n",
       "    .dataframe thead th {\n",
       "        text-align: right;\n",
       "    }\n",
       "</style>\n",
       "<table border=\"1\" class=\"dataframe\">\n",
       "  <thead>\n",
       "    <tr style=\"text-align: right;\">\n",
       "      <th></th>\n",
       "      <th>query</th>\n",
       "      <th>product_id</th>\n",
       "      <th>relevance_label</th>\n",
       "      <th>product_title</th>\n",
       "      <th>product_description</th>\n",
       "      <th>product_bullet_point</th>\n",
       "      <th>product_brand</th>\n",
       "      <th>product_color</th>\n",
       "      <th>url_product</th>\n",
       "      <th>url_image</th>\n",
       "      <th>query_type</th>\n",
       "    </tr>\n",
       "  </thead>\n",
       "  <tbody>\n",
       "    <tr>\n",
       "      <th>0</th>\n",
       "      <td>revent 80 cfm</td>\n",
       "      <td>B000MOO21W</td>\n",
       "      <td>Irrelevant</td>\n",
       "      <td>Panasonic FV-20VQ3 WhisperCeiling 190 CFM Ceil...</td>\n",
       "      <td>None</td>\n",
       "      <td>WhisperCeiling fans feature a totally enclosed...</td>\n",
       "      <td>Panasonic</td>\n",
       "      <td>White</td>\n",
       "      <td>https://www.amazon.com/dp/B000MOO21W</td>\n",
       "      <td>https://www.amazon.com/dp/B000MOO21W.01._SCLZZ...</td>\n",
       "      <td>other</td>\n",
       "    </tr>\n",
       "    <tr>\n",
       "      <th>1</th>\n",
       "      <td>revent 80 cfm</td>\n",
       "      <td>B07X3Y6B1V</td>\n",
       "      <td>Exact</td>\n",
       "      <td>Homewerks 7141-80 Bathroom Fan Integrated LED ...</td>\n",
       "      <td>None</td>\n",
       "      <td>OUTSTANDING PERFORMANCE: This Homewerk's bath ...</td>\n",
       "      <td>Homewerks</td>\n",
       "      <td>80 CFM</td>\n",
       "      <td>https://www.amazon.com/dp/B07X3Y6B1V</td>\n",
       "      <td>https://www.amazon.com/dp/B07X3Y6B1V.01._SCLZZ...</td>\n",
       "      <td>other</td>\n",
       "    </tr>\n",
       "    <tr>\n",
       "      <th>2</th>\n",
       "      <td>revent 80 cfm</td>\n",
       "      <td>B07WDM7MQQ</td>\n",
       "      <td>Exact</td>\n",
       "      <td>Homewerks 7140-80 Bathroom Fan Ceiling Mount E...</td>\n",
       "      <td>None</td>\n",
       "      <td>OUTSTANDING PERFORMANCE: This Homewerk's bath ...</td>\n",
       "      <td>Homewerks</td>\n",
       "      <td>White</td>\n",
       "      <td>https://www.amazon.com/dp/B07WDM7MQQ</td>\n",
       "      <td>https://www.amazon.com/dp/B07WDM7MQQ.01._SCLZZ...</td>\n",
       "      <td>other</td>\n",
       "    </tr>\n",
       "    <tr>\n",
       "      <th>3</th>\n",
       "      <td>revent 80 cfm</td>\n",
       "      <td>B07RH6Z8KW</td>\n",
       "      <td>Exact</td>\n",
       "      <td>Delta Electronics RAD80L BreezRadiance 80 CFM ...</td>\n",
       "      <td>This pre-owned or refurbished product has been...</td>\n",
       "      <td>Quiet operation at 1.5 sones\\nBuilt-in thermos...</td>\n",
       "      <td>DELTA ELECTRONICS (AMERICAS) LTD.</td>\n",
       "      <td>White</td>\n",
       "      <td>https://www.amazon.com/dp/B07RH6Z8KW</td>\n",
       "      <td>https://www.amazon.com/dp/B07RH6Z8KW.01._SCLZZ...</td>\n",
       "      <td>other</td>\n",
       "    </tr>\n",
       "    <tr>\n",
       "      <th>4</th>\n",
       "      <td>revent 80 cfm</td>\n",
       "      <td>B07QJ7WYFQ</td>\n",
       "      <td>Exact</td>\n",
       "      <td>Panasonic FV-08VRE2 Ventilation Fan with Reces...</td>\n",
       "      <td>None</td>\n",
       "      <td>The design solution for Fan/light combinations...</td>\n",
       "      <td>Panasonic</td>\n",
       "      <td>White</td>\n",
       "      <td>https://www.amazon.com/dp/B07QJ7WYFQ</td>\n",
       "      <td>https://www.amazon.com/dp/B07QJ7WYFQ.01._SCLZZ...</td>\n",
       "      <td>other</td>\n",
       "    </tr>\n",
       "    <tr>\n",
       "      <th>...</th>\n",
       "      <td>...</td>\n",
       "      <td>...</td>\n",
       "      <td>...</td>\n",
       "      <td>...</td>\n",
       "      <td>...</td>\n",
       "      <td>...</td>\n",
       "      <td>...</td>\n",
       "      <td>...</td>\n",
       "      <td>...</td>\n",
       "      <td>...</td>\n",
       "      <td>...</td>\n",
       "    </tr>\n",
       "    <tr>\n",
       "      <th>1795033</th>\n",
       "      <td>• bradley’s neurology in clinical practice</td>\n",
       "      <td>0323377092</td>\n",
       "      <td>Exact</td>\n",
       "      <td>Neurology Self-Assessment: A Companion to Brad...</td>\n",
       "      <td>None</td>\n",
       "      <td>Elsevier</td>\n",
       "      <td>Elsevier</td>\n",
       "      <td>None</td>\n",
       "      <td>https://www.amazon.com/dp/0323377092</td>\n",
       "      <td>https://www.amazon.com/dp/0323377092.01._SCLZZ...</td>\n",
       "      <td>other</td>\n",
       "    </tr>\n",
       "    <tr>\n",
       "      <th>1795034</th>\n",
       "      <td>• bradley’s neurology in clinical practice</td>\n",
       "      <td>0323287832</td>\n",
       "      <td>Exact</td>\n",
       "      <td>Bradley's Neurology in Clinical Practice, 2-Vo...</td>\n",
       "      <td>None</td>\n",
       "      <td>Elsevier</td>\n",
       "      <td>Elsevier</td>\n",
       "      <td>None</td>\n",
       "      <td>https://www.amazon.com/dp/0323287832</td>\n",
       "      <td>https://www.amazon.com/dp/0323287832.01._SCLZZ...</td>\n",
       "      <td>other</td>\n",
       "    </tr>\n",
       "    <tr>\n",
       "      <th>1795035</th>\n",
       "      <td>• bradley’s neurology in clinical practice</td>\n",
       "      <td>0198566344</td>\n",
       "      <td>Exact</td>\n",
       "      <td>Autonomic Failure: A Textbook of Clinical Diso...</td>\n",
       "      <td>None</td>\n",
       "      <td>None</td>\n",
       "      <td>Oxford University Press</td>\n",
       "      <td>None</td>\n",
       "      <td>https://www.amazon.com/dp/0198566344</td>\n",
       "      <td>https://www.amazon.com/dp/0198566344.01._SCLZZ...</td>\n",
       "      <td>other</td>\n",
       "    </tr>\n",
       "    <tr>\n",
       "      <th>1795036</th>\n",
       "      <td>• bradley’s neurology in clinical practice</td>\n",
       "      <td>0071845836</td>\n",
       "      <td>Exact</td>\n",
       "      <td>The Hospital Neurology Book</td>\n",
       "      <td>None</td>\n",
       "      <td>None</td>\n",
       "      <td>McGraw-Hill Education / Medical</td>\n",
       "      <td>None</td>\n",
       "      <td>https://www.amazon.com/dp/0071845836</td>\n",
       "      <td>https://www.amazon.com/dp/0071845836.01._SCLZZ...</td>\n",
       "      <td>other</td>\n",
       "    </tr>\n",
       "    <tr>\n",
       "      <th>1795037</th>\n",
       "      <td>• bradley’s neurology in clinical practice</td>\n",
       "      <td>0750674687</td>\n",
       "      <td>Exact</td>\n",
       "      <td>Pocket Companion to Neurology in Clinical Prac...</td>\n",
       "      <td>None</td>\n",
       "      <td>Used Book in Good Condition</td>\n",
       "      <td>Butterworth-Heinemann</td>\n",
       "      <td>None</td>\n",
       "      <td>https://www.amazon.com/dp/0750674687</td>\n",
       "      <td>https://www.amazon.com/dp/0750674687.01._SCLZZ...</td>\n",
       "      <td>other</td>\n",
       "    </tr>\n",
       "  </tbody>\n",
       "</table>\n",
       "<p>1791033 rows × 11 columns</p>\n",
       "</div>"
      ],
      "text/plain": [
       "                                              query  product_id  \\\n",
       "0                                     revent 80 cfm  B000MOO21W   \n",
       "1                                     revent 80 cfm  B07X3Y6B1V   \n",
       "2                                     revent 80 cfm  B07WDM7MQQ   \n",
       "3                                     revent 80 cfm  B07RH6Z8KW   \n",
       "4                                     revent 80 cfm  B07QJ7WYFQ   \n",
       "...                                             ...         ...   \n",
       "1795033  • bradley’s neurology in clinical practice  0323377092   \n",
       "1795034  • bradley’s neurology in clinical practice  0323287832   \n",
       "1795035  • bradley’s neurology in clinical practice  0198566344   \n",
       "1795036  • bradley’s neurology in clinical practice  0071845836   \n",
       "1795037  • bradley’s neurology in clinical practice  0750674687   \n",
       "\n",
       "        relevance_label                                      product_title  \\\n",
       "0            Irrelevant  Panasonic FV-20VQ3 WhisperCeiling 190 CFM Ceil...   \n",
       "1                 Exact  Homewerks 7141-80 Bathroom Fan Integrated LED ...   \n",
       "2                 Exact  Homewerks 7140-80 Bathroom Fan Ceiling Mount E...   \n",
       "3                 Exact  Delta Electronics RAD80L BreezRadiance 80 CFM ...   \n",
       "4                 Exact  Panasonic FV-08VRE2 Ventilation Fan with Reces...   \n",
       "...                 ...                                                ...   \n",
       "1795033           Exact  Neurology Self-Assessment: A Companion to Brad...   \n",
       "1795034           Exact  Bradley's Neurology in Clinical Practice, 2-Vo...   \n",
       "1795035           Exact  Autonomic Failure: A Textbook of Clinical Diso...   \n",
       "1795036           Exact                        The Hospital Neurology Book   \n",
       "1795037           Exact  Pocket Companion to Neurology in Clinical Prac...   \n",
       "\n",
       "                                       product_description  \\\n",
       "0                                                     None   \n",
       "1                                                     None   \n",
       "2                                                     None   \n",
       "3        This pre-owned or refurbished product has been...   \n",
       "4                                                     None   \n",
       "...                                                    ...   \n",
       "1795033                                               None   \n",
       "1795034                                               None   \n",
       "1795035                                               None   \n",
       "1795036                                               None   \n",
       "1795037                                               None   \n",
       "\n",
       "                                      product_bullet_point  \\\n",
       "0        WhisperCeiling fans feature a totally enclosed...   \n",
       "1        OUTSTANDING PERFORMANCE: This Homewerk's bath ...   \n",
       "2        OUTSTANDING PERFORMANCE: This Homewerk's bath ...   \n",
       "3        Quiet operation at 1.5 sones\\nBuilt-in thermos...   \n",
       "4        The design solution for Fan/light combinations...   \n",
       "...                                                    ...   \n",
       "1795033                                           Elsevier   \n",
       "1795034                                           Elsevier   \n",
       "1795035                                               None   \n",
       "1795036                                               None   \n",
       "1795037                        Used Book in Good Condition   \n",
       "\n",
       "                             product_brand product_color  \\\n",
       "0                                Panasonic         White   \n",
       "1                                Homewerks        80 CFM   \n",
       "2                                Homewerks         White   \n",
       "3        DELTA ELECTRONICS (AMERICAS) LTD.         White   \n",
       "4                                Panasonic         White   \n",
       "...                                    ...           ...   \n",
       "1795033                           Elsevier          None   \n",
       "1795034                           Elsevier          None   \n",
       "1795035            Oxford University Press          None   \n",
       "1795036    McGraw-Hill Education / Medical          None   \n",
       "1795037              Butterworth-Heinemann          None   \n",
       "\n",
       "                                  url_product  \\\n",
       "0        https://www.amazon.com/dp/B000MOO21W   \n",
       "1        https://www.amazon.com/dp/B07X3Y6B1V   \n",
       "2        https://www.amazon.com/dp/B07WDM7MQQ   \n",
       "3        https://www.amazon.com/dp/B07RH6Z8KW   \n",
       "4        https://www.amazon.com/dp/B07QJ7WYFQ   \n",
       "...                                       ...   \n",
       "1795033  https://www.amazon.com/dp/0323377092   \n",
       "1795034  https://www.amazon.com/dp/0323287832   \n",
       "1795035  https://www.amazon.com/dp/0198566344   \n",
       "1795036  https://www.amazon.com/dp/0071845836   \n",
       "1795037  https://www.amazon.com/dp/0750674687   \n",
       "\n",
       "                                                 url_image query_type  \n",
       "0        https://www.amazon.com/dp/B000MOO21W.01._SCLZZ...      other  \n",
       "1        https://www.amazon.com/dp/B07X3Y6B1V.01._SCLZZ...      other  \n",
       "2        https://www.amazon.com/dp/B07WDM7MQQ.01._SCLZZ...      other  \n",
       "3        https://www.amazon.com/dp/B07RH6Z8KW.01._SCLZZ...      other  \n",
       "4        https://www.amazon.com/dp/B07QJ7WYFQ.01._SCLZZ...      other  \n",
       "...                                                    ...        ...  \n",
       "1795033  https://www.amazon.com/dp/0323377092.01._SCLZZ...      other  \n",
       "1795034  https://www.amazon.com/dp/0323287832.01._SCLZZ...      other  \n",
       "1795035  https://www.amazon.com/dp/0198566344.01._SCLZZ...      other  \n",
       "1795036  https://www.amazon.com/dp/0071845836.01._SCLZZ...      other  \n",
       "1795037  https://www.amazon.com/dp/0750674687.01._SCLZZ...      other  \n",
       "\n",
       "[1791033 rows x 11 columns]"
      ]
     },
     "execution_count": 39,
     "metadata": {},
     "output_type": "execute_result"
    }
   ],
   "source": [
    "df_final = df_examples_products_query\\\n",
    ".pipe(lambda x: x[x.product_locale ==\"us\"]) \\\n",
    ".replace({\"esci_label\": {'E':'Exact' ,'S':'Substitute', 'C':'Complement', 'I':'Irrelevant' } })\\\n",
    ".rename (columns = {'esci_label':'relevance_label','source':'query_type'} ) \\\n",
    ".drop(columns = ['example_id','query_id','product_locale','small_version','large_version','split','lang_code'] )\n",
    "\n",
    "df_final"
   ]
  },
  {
   "cell_type": "code",
   "execution_count": 40,
   "metadata": {},
   "outputs": [],
   "source": [
    "df_final.to_parquet(\"../data/cleaned_input.parquet\")"
   ]
  },
  {
   "cell_type": "code",
   "execution_count": 41,
   "metadata": {},
   "outputs": [],
   "source": [
    "df_final = pd.read_parquet(\"../data/cleaned_input.parquet\")"
   ]
  },
  {
   "cell_type": "code",
   "execution_count": null,
   "metadata": {},
   "outputs": [],
   "source": []
  },
  {
   "cell_type": "code",
   "execution_count": 42,
   "metadata": {},
   "outputs": [],
   "source": [
    "df_final[['query','query_type']].drop_duplicates().to_csv(\"../data/only_queries.csv\", index=False )"
   ]
  },
  {
   "cell_type": "code",
   "execution_count": null,
   "metadata": {},
   "outputs": [],
   "source": []
  },
  {
   "cell_type": "code",
   "execution_count": 43,
   "metadata": {},
   "outputs": [
    {
     "data": {
      "text/plain": [
       "other            1504918\n",
       "parse_pattern     150453\n",
       "negations          87817\n",
       "behavioral         43606\n",
       "nlqec               4239\n",
       "Name: query_type, dtype: int64"
      ]
     },
     "execution_count": 43,
     "metadata": {},
     "output_type": "execute_result"
    }
   ],
   "source": [
    "df_final['query_type'].value_counts()"
   ]
  },
  {
   "cell_type": "code",
   "execution_count": null,
   "metadata": {},
   "outputs": [],
   "source": []
  },
  {
   "cell_type": "markdown",
   "metadata": {},
   "source": [
    "## Query types"
   ]
  },
  {
   "cell_type": "markdown",
   "metadata": {},
   "source": [
    "**Behavioral**:  We use several statistics to sample queries leading to\n",
    "results or purchases with non-representative click distributions.\n",
    "\n",
    "**Negations** We use several regular expressions to sample queries\n",
    "with negations. (for e.g., ‘energy bar without nuts’.)\n",
    "\n",
    "**Parse Pattern** We use several regular expressions on the parsed\n",
    "query to sample queries with some linguistic complexity,\n",
    "such as queries containing quantities, a product type with\n",
    "an adjective, etc. (for e.g., ’gluten free english biscuits’.)\n",
    "\n",
    "**Price Pattern** We use several statistics to sample queries leading\n",
    "to results or purchases with non-representative price distributions.\n",
    "\n",
    "**Other** We sample queries from a number of random query sampling processes, removing those that result in perfect or near\n",
    "perfect results.\n",
    "\n",
    "**NLQEC** Queries from the NLQEC dataset [13] with 30 tokens or\n",
    "less."
   ]
  },
  {
   "cell_type": "code",
   "execution_count": null,
   "metadata": {},
   "outputs": [],
   "source": []
  },
  {
   "cell_type": "code",
   "execution_count": 44,
   "metadata": {},
   "outputs": [
    {
     "data": {
      "text/plain": [
       "[' revent 80 cfm',\n",
       " 'bathroom fan with light',\n",
       " '12 inch bathroomwall mounted fan',\n",
       " 'bathroom fan',\n",
       " 'bathroom fan quiet',\n",
       " 'fv relay',\n",
       " 'heat recovery ventilator',\n",
       " 'quiet bathroom exhaust fan drop ceiling',\n",
       " '4 wheel go kart',\n",
       " 'lawn mower tires',\n",
       " 'dirt bike tools',\n",
       " '23x10.5 tractor intertubes',\n",
       " 'lawn mower trailer tires and wheels 5/8 bearings',\n",
       " 'riding mowers clearance',\n",
       " 'honda versattach',\n",
       " 'tires 6in',\n",
       " 'char broil grill wheel',\n",
       " 'havana lawn mower',\n",
       " 'honda lawn mower',\n",
       " 'honda lawnmower',\n",
       " 'landmowers',\n",
       " 'lawn mower',\n",
       " 'no engine pish mower',\n",
       " 'reel mower with grass catcher',\n",
       " 'hoop house garden',\n",
       " 'plants shade cover',\n",
       " 'half fence wood',\n",
       " 'metal gates fencing',\n",
       " 'out door dog fence',\n",
       " 'wooden fencing material for yards privacy',\n",
       " 'wrought iron fence panels',\n",
       " 'black screen covering',\n",
       " 'privacy mesh fence',\n",
       " 'greenhouse dome',\n",
       " 'propogator',\n",
       " 'reduce reuse starter kit',\n",
       " 'starter trey',\n",
       " 'bamboo fencing',\n",
       " 'chicken coop tarp',\n",
       " 'fences',\n",
       " 'outdoor wall covering',\n",
       " 'privacy fence',\n",
       " 'privacy screen',\n",
       " 'baby door gate',\n",
       " 'banister guard',\n",
       " 'black hinged pet gates for doorways',\n",
       " 'child gates',\n",
       " 'fence end spacer',\n",
       " 'retractable dog screen',\n",
       " 'retractable mesh gate',\n",
       " 'stair gates for kids',\n",
       " 'dark privacy screen',\n",
       " 'kennel shade',\n",
       " 'metal fence roll',\n",
       " 'sun shades for fences',\n",
       " 'garden screens for privacy',\n",
       " 'blink xt2 mount',\n",
       " 'vinyl siding',\n",
       " 'garden trays without holes',\n",
       " 'plant trays without holes',\n",
       " 'asurion 4 year home improvement protection plan',\n",
       " 'bicyle seat light',\n",
       " 'birch bay stickers',\n",
       " 'dimmer knobs chrome',\n",
       " 'gold slave for 15 years',\n",
       " 'neon grinder',\n",
       " 'fence panels',\n",
       " 'patio enclosure',\n",
       " '12\" chains',\n",
       " '24 inch dillo',\n",
       " '24 inch monitor',\n",
       " '25 inch monitor',\n",
       " 'apple i mac touch screen computer',\n",
       " 'computer monitor',\n",
       " 'computer monitors',\n",
       " 'curve led monitor',\n",
       " 'curved computer monitor',\n",
       " 'dell monitor',\n",
       " 'dell monitors',\n",
       " 'dragon pc tablet',\n",
       " 'ecran pc',\n",
       " 'hp memory ram',\n",
       " 'hp monitor',\n",
       " 'hpcomputer screen',\n",
       " 'ips',\n",
       " 'laptop. that looks real',\n",
       " 'large pc monitor',\n",
       " 'moniter pivo',\n",
       " 'monitor',\n",
       " 'monitor arms',\n",
       " 'monitor screen',\n",
       " 'monitor setup',\n",
       " 'monitors',\n",
       " 'monitors computer',\n",
       " 'pc monitor',\n",
       " 'power ranger lightning c',\n",
       " 'refurbished av input monitor',\n",
       " 'second+screen+macbook+pro',\n",
       " 'single board computer microphone',\n",
       " 'solid black headlhones']"
      ]
     },
     "execution_count": 44,
     "metadata": {},
     "output_type": "execute_result"
    }
   ],
   "source": [
    "list ( df_final [ df_final['query_type']==\"other\"].drop_duplicates(['query'])['query'].head(100) )"
   ]
  },
  {
   "cell_type": "code",
   "execution_count": 45,
   "metadata": {},
   "outputs": [
    {
     "data": {
      "text/plain": [
       "['household ventilation fans',\n",
       " 'outside screen for patio',\n",
       " '19 inch monitor hdmi',\n",
       " '8 panel play yard',\n",
       " 'free standing gates for kids or pets',\n",
       " 'ware small animal playpen',\n",
       " 'manilla envelopes 10x13',\n",
       " 'classroom friendly supplies pencil sharpener',\n",
       " 'parting crowd black friday shirt',\n",
       " 'the all american rejects shirt',\n",
       " 'golden doodles merchandise funny',\n",
       " 'i got my fauci ouchi shirt',\n",
       " 'morbid podcast merch',\n",
       " 'taylor ham pork roll',\n",
       " 'tony ferguson shirt',\n",
       " 'wkrp in cincinnati t shirt',\n",
       " 'work hard stay humble shirt',\n",
       " 'zootopia tee shirt',\n",
       " 'dinosaur shirt adult',\n",
       " 'alkaline trio is this thing cursed',\n",
       " 'dadorlian shirt',\n",
       " 'ming clan',\n",
       " 'seven oceans food',\n",
       " 'dead foot skin',\n",
       " 'shaving powder magic shave',\n",
       " 'zen dry brush',\n",
       " 'bath aids for disabled and elderly',\n",
       " 'base border cleaner tool',\n",
       " 'dremel cleaning tool',\n",
       " 'esponjas para pulir',\n",
       " 'beauty products for women',\n",
       " 'wet skin sunscreen',\n",
       " 'season blue medicated shampoo',\n",
       " 'brazilian crush perfume',\n",
       " 'jergens medium to tan',\n",
       " 'oxiclean white revive',\n",
       " 'bee magic wand lip and face',\n",
       " 'mani pedi kit for women',\n",
       " 'panties with vibrant remote',\n",
       " 'dark brown permanent hair color',\n",
       " 'caramel hair color',\n",
       " 'appitight suppressant for weight loss',\n",
       " 'ayurvedic cleanse product',\n",
       " 'hidradenitis suppurativa',\n",
       " 'nsaids pain reliever anti inflammatory',\n",
       " 'tumeric with black pepper capsules',\n",
       " 'turmeric complex with bioperine',\n",
       " 'raad shop shoes',\n",
       " 'mens yellow under armour shoes',\n",
       " 'cap toe brown shoes',\n",
       " 'waterproof nursing shoes for women',\n",
       " 'cialis male enhancing pills erection',\n",
       " 'ctt hydration',\n",
       " 'empowerplus advanced formula',\n",
       " 'hangover prevention',\n",
       " 'iv bags medical with saline',\n",
       " 'iv liquid hydration',\n",
       " 'morning complete prebiotic',\n",
       " 'open nature protein powder',\n",
       " 'abortion pills for pregnancy',\n",
       " 'appollon supplements',\n",
       " 'bifidobacterium longum',\n",
       " 'biomemd probiotic and prebiotic for women',\n",
       " 'dr tobias deep immune probiotic & prebiotic',\n",
       " 'dynamic biotics probiotics stonehenge',\n",
       " 'ensimas dijestibas organica',\n",
       " 'heres the skinny probiotic',\n",
       " 'liquid probiotic for women',\n",
       " 'pb8 probiotics',\n",
       " 'prenatal with probiotic',\n",
       " 'probio slim plus weight loss',\n",
       " 'razza lean diet pill',\n",
       " 'sleeping pills for adults extra strong',\n",
       " 'virginal cleaning for women',\n",
       " '11 iphone pro screen protector',\n",
       " 'fsa fat pig',\n",
       " 'vida slim tejocote',\n",
       " 'huge erasers',\n",
       " 'bulk large garbage bags',\n",
       " 'reusable camping trash bag',\n",
       " 'simple human g bags',\n",
       " 'simple human k trash bags',\n",
       " 'warehouse clearance open box',\n",
       " 'always ultra thin with wings',\n",
       " 'pads with wings extra heavy',\n",
       " 'stayfree pads ultra thin with wings',\n",
       " 'stayfree ultra thin with wings',\n",
       " '2.5 mm set screw',\n",
       " '6an 90 degree fitting male to male',\n",
       " '2 velcro',\n",
       " 'zinc micronutrients',\n",
       " '3/0 live bait hooks',\n",
       " 'price tags stickers',\n",
       " 'mkeke compatible with iphone xr screen protector',\n",
       " 'extended shower curtain',\n",
       " 'adj bed frame queen',\n",
       " '20v max black and decker',\n",
       " 'drill black and decker',\n",
       " 'multiherramienta black and decker',\n",
       " 'power drill cordless black and decker']"
      ]
     },
     "execution_count": 45,
     "metadata": {},
     "output_type": "execute_result"
    }
   ],
   "source": [
    "list ( df_final [ df_final['query_type']==\"parse_pattern\"].drop_duplicates(['query'])['query'].head(100) )"
   ]
  },
  {
   "cell_type": "code",
   "execution_count": 46,
   "metadata": {},
   "outputs": [
    {
     "data": {
      "text/plain": [
       "['bathroom fan without light',\n",
       " '110cfm bathroom exhaust fan without light',\n",
       " '!awnmower tires without rims',\n",
       " 'lawn mower without motor',\n",
       " '!qscreen fence without holes',\n",
       " '10 plastic pot without drain',\n",
       " '11 x 21 plant trays for seedlings without holes',\n",
       " '$12 label maker that’s not a cheap one',\n",
       " \"1 20 volt extension cord no it's not what i\",\n",
       " 'do not water plants sign',\n",
       " 'laughing without an accent by firoozeh dumas',\n",
       " '00m vesa mounting pattern mounting bracket not included',\n",
       " '100 days without sunlight book',\n",
       " '2 be or not 2b',\n",
       " 'monitor mount without holes',\n",
       " '100 inchfoot baby gate without attached',\n",
       " '100” foot baby gate without attached',\n",
       " '.when you walk thru the fire you will not be burned',\n",
       " '(8 pck, one without packaging ) umbra single',\n",
       " 'outdoor solar lights without motion sensor',\n",
       " 'solar light without motion sensor',\n",
       " 'solar lights outdoor without motion sensor',\n",
       " '# 10 self-seal envelopes without window',\n",
       " '#10 envelopes without security tint',\n",
       " '#10 window envelopes without plastic',\n",
       " '10 open window envelopes without plastic window',\n",
       " '10 stickers for cash envelopes without book',\n",
       " '#10 window envelopes not self seal',\n",
       " '#10 standard no tint no window not self seal',\n",
       " '# 2 pencils not sharpened',\n",
       " '#2 pencils with erasers sharpened not soft',\n",
       " '#2 dixon oriole pencils not sharpened',\n",
       " '#2 pencils without erasers',\n",
       " '1 inch/cm ruler not bendable',\n",
       " '2b or not 2b',\n",
       " 'scholar without magic',\n",
       " '# cellist thats not a hashtag',\n",
       " '*cancer free thyroid not included*shirt',\n",
       " '000 days without dad jokes shirt',\n",
       " '0o days without sarcasm shirt',\n",
       " 'dad because real superheroes do not wear capes',\n",
       " 'if youre not first youre last shirt',\n",
       " 'imagine not as much',\n",
       " 'listen without prejudice shirt',\n",
       " 'make love not war shirt',\n",
       " 'no, pepsi is not ok',\n",
       " 'people not a fan shirt',\n",
       " 'survivor without a tattoo',\n",
       " 'yeah no not happening',\n",
       " 'you can adopt without debt',\n",
       " 'you cannot start without me',\n",
       " \"'cause not everyone can get into lehigh\",\n",
       " \"*i'm not skilled but my dog thinks so*\",\n",
       " 'a day without wine is like just kidding shirt',\n",
       " 'athletic trainer thou shalt not try me mood shirt',\n",
       " 'ban idiots not guns',\n",
       " 'ban idiots not guns t-shirt',\n",
       " 'biden not my president',\n",
       " 'crusader without violence',\n",
       " 'do not let your dragon spread germs',\n",
       " 'do you not realize i have had diarrhea since easters',\n",
       " \"engineer i'm not arguing funny engineering t-shirt\",\n",
       " 'fish are friends not food',\n",
       " 'girls invented punk rock not england shirt',\n",
       " 'i enjoy not having polio',\n",
       " 'i like you just fine when youre not around',\n",
       " 'i said im a mermaid not your maid',\n",
       " 'i was not the blossom',\n",
       " \"i'm not a player i'm a gamer shirt\",\n",
       " 'no beer not going shirt',\n",
       " 'one for whom food is not enough',\n",
       " 'pepsi is not ok',\n",
       " 'someday is not a day of the week shirt',\n",
       " 'store this not that',\n",
       " 'straight not narrow shirt',\n",
       " 'the north is not enough t',\n",
       " 'thou shall not try me tshirt for men',\n",
       " 'um is not an answer',\n",
       " 'watch the game not your phone tshirt',\n",
       " 'you may not know me but i got your 6 shirt',\n",
       " '(travel size) juillet has a gun perfume not a perfume',\n",
       " 'juliette has a gun not a perfume',\n",
       " 'juliette has a gun not a perfume eau de parfum spray',\n",
       " 'juliette has a gun not a perfume travel spray',\n",
       " '#try not to suck tshirt',\n",
       " \"''surfring not teaching'' tshirt\",\n",
       " '(...or, when the revolution could not be televised)',\n",
       " '(if you’re not in it for love) i’m outta here!',\n",
       " '**used is always not only okay but encouraged**',\n",
       " ', funny cat suits are not repeated a week',\n",
       " ',people should not fear their government.',\n",
       " '- [ ] i’m not myself these days josh kilmer-purcell',\n",
       " \"-it's not love i'm drunk tshirt\",\n",
       " '.baby girl tshirt with they did not social distance',\n",
       " '1 nation design t shirts we are not descended',\n",
       " 'absolutely not woke shirt',\n",
       " 'chase the dream not the fame nike shirt',\n",
       " 'dark humor is like food not everyone gets it',\n",
       " 'do not give into the war within shirt',\n",
       " 'drink water not coke shirt']"
      ]
     },
     "execution_count": 46,
     "metadata": {},
     "output_type": "execute_result"
    }
   ],
   "source": [
    "list ( df_final [ df_final['query_type']==\"negations\"].drop_duplicates(['query'])['query'].head(100) )"
   ]
  },
  {
   "cell_type": "code",
   "execution_count": 47,
   "metadata": {},
   "outputs": [
    {
     "data": {
      "text/plain": [
       "['broan replacement parts',\n",
       " 'small wheel barrel type tires',\n",
       " 'ztr mower lift',\n",
       " 'zk g1',\n",
       " 'fear factor games',\n",
       " 'solar led emergency lights',\n",
       " 'flower text shirt',\n",
       " 'as strong as the woman next to me t-shirt',\n",
       " 'dont sit on my lunch',\n",
       " 'i choose freedom',\n",
       " 'turbuhaler',\n",
       " 'drink your water right meow',\n",
       " 'oh my my hael',\n",
       " \"this is marketing you can't be seen until you learn to see\",\n",
       " 'your mothers story',\n",
       " 'kamea exfoliating foot cream',\n",
       " 'back exfoliator brush',\n",
       " 'tecnu wipes',\n",
       " 'kingslover, barbara',\n",
       " 'tub stopper and hair catcher',\n",
       " 'beach must haves for family',\n",
       " 'me! bath',\n",
       " 'circ02 oxygen booster and circulation support',\n",
       " 'supplements to reduce inflammation in the body',\n",
       " 'slip on walking shoes for men',\n",
       " 'trending mens fashion',\n",
       " 'turning shoe',\n",
       " 'karundul',\n",
       " 'electolyte drops',\n",
       " 'frescolita',\n",
       " 'kalm assure',\n",
       " 'uti over the counter',\n",
       " 'flora q probiotic',\n",
       " 'kyo-dophilus',\n",
       " 'mccoy pills',\n",
       " 'megaflora probiotic',\n",
       " 'phresh probiotics for women',\n",
       " 'prohormones stack',\n",
       " 'saccharomyces boulardii vegan',\n",
       " 'trim you spray weight loss',\n",
       " 'yosposs',\n",
       " 'prek school supplies',\n",
       " 'zkittles bags',\n",
       " 'writing lines stamp',\n",
       " 'yay rubber stamp',\n",
       " 'single mattress and bed frame',\n",
       " 'buzzed card game',\n",
       " 'gag gifts stocking stuffers',\n",
       " '110v led strip lights',\n",
       " 'rgb lights for room',\n",
       " 'mezcal and tequila infusion set',\n",
       " 'minglife led strip lights 5m',\n",
       " 'face sunscreen tinted',\n",
       " 'oil absorbing wash',\n",
       " 'loreal lash paradise mascara',\n",
       " 'yo glow enzyme scrub wishful',\n",
       " 'the message bible for women',\n",
       " 'dior addict lip tattoo',\n",
       " 'hnbun',\n",
       " 'flonase nasal spray generic',\n",
       " 'gixtri',\n",
       " 'memory and nerve support',\n",
       " 'self propelled vacuum cleaners',\n",
       " 'snacks healthy organic',\n",
       " 'time locking container',\n",
       " 'ed219rbk',\n",
       " 'rwffr viking water filter',\n",
       " '90fun',\n",
       " \"roy's gift card\",\n",
       " 'send gift card by mail',\n",
       " 'things that help pregnancy',\n",
       " 'globels fidget toys',\n",
       " 'old pokemon cards',\n",
       " 'ex pokemon cards pack',\n",
       " '$5 items',\n",
       " 'no u card game',\n",
       " 'fake 20 dollar bills',\n",
       " 'taysers',\n",
       " 'ls10x wired gaming headset',\n",
       " 'sipsnap',\n",
       " 'the last of us statue',\n",
       " 'leapfrog learning friends 100 words book',\n",
       " 'numbers learning toys',\n",
       " 'storybook stuffed animals',\n",
       " 'pink teddy bear for baby girl',\n",
       " 'elmo stuffed animal for toddlers',\n",
       " 'men pants clearance sale',\n",
       " 'dog printed leggings',\n",
       " 'remington fuzz away fabric shaver',\n",
       " 'scheduled delivery items',\n",
       " 'l.o.l. surprise! winter disco cottage playhouse',\n",
       " 'lol dance dance dance doll omg',\n",
       " 'pixies crystal flyers',\n",
       " 'the flight diary of love',\n",
       " 'youre my person gifts',\n",
       " 'cat notebook set',\n",
       " 'flip art kit',\n",
       " 'jnh chromotherapy light for sauna',\n",
       " 'pout pout fish toy',\n",
       " 'mice proofing']"
      ]
     },
     "execution_count": 47,
     "metadata": {},
     "output_type": "execute_result"
    }
   ],
   "source": [
    "list ( df_final [ df_final['query_type']==\"behavioral\"].drop_duplicates(['query'])['query'].head(100) )"
   ]
  },
  {
   "cell_type": "code",
   "execution_count": null,
   "metadata": {},
   "outputs": [],
   "source": []
  },
  {
   "cell_type": "code",
   "execution_count": 48,
   "metadata": {},
   "outputs": [
    {
     "data": {
      "text/plain": [
       "['i would be buying an asus laptop or another brand of similar quality.',\n",
       " 'I would buy a vintage jean jacket, with a shearling lined interior. ',\n",
       " 'I would like a long black asymmetrical hoodie jacket. Totally goth looking and awesome enough to wear over a dress or a pair of jeans ',\n",
       " \"I'd go with a leather jacket with good protection for use on a motorcycle. Elbow/Shoulder armor is not necessary, but having back protection would be great.\",\n",
       " 'Not sure. Maybe a a standard size (15 or 17??) screen middle of the range laptop that is either black or purple. It might be a Dell or Acer ',\n",
       " 'i am looking for an olive green fur coat that has a cheetah print on it. it is a long jacket with buttons. ',\n",
       " 'I would choose a laptop with a good screen, large RAM, great processor, and a good video card.',\n",
       " 'A laptop that is light weight and with high specifications which I could use for working when at home or when travelling.',\n",
       " 'I want a black leather jacket with gold zips and pocket buttons',\n",
       " 'High spec gaming laptop so that I can do 3D modelling.',\n",
       " 'I want to buy a powerful laptop to put linux on, so maybe a lenovo or dell with a clear screen and lightweight.',\n",
       " 'I want a warm, waterproof coat with a hood. One that zips up. Preferably black or khaki green in colour. ',\n",
       " 'Solid state drive, fast, with copious memory. Two USB ports minimum. High resolution display. Prefer 12” monitor or larger, and prefer number pad. ',\n",
       " 'Compact,  15 inch screen minimum, thin, fast operating system and chip, reliable provenance. Windows based with latest software installed ',\n",
       " 'no need for a cd drive but a high speed ssd with lots of ram and a 15 inch display',\n",
       " 'A second-hand or vintage mid-weight jacket, or one from a sustainable brand. ',\n",
       " 'Large screen with keyboard attachment and must be capable of using design programmes',\n",
       " 'A laptop that had good gaming capabilities while being budget friendly ',\n",
       " \"I really want one with a unique print, not floral or tartan but something different and colourful, really needs to be comfortable and hasn't got a hood\",\n",
       " 'I like to buy a low-mid range laptop. One that looks good, is light to carry and have a LCD screen. ',\n",
       " 'need a small neat affordable netbook or small laptop to do emails and internet ,nothing fancy.',\n",
       " \"A Lenovo like mine its a little notebook it's fab. It would be black in colour \",\n",
       " 'I want to buy a laptop that is touchscreen and has a long battery time. I also want it to be sleek and lightweight.',\n",
       " 'A lightweight, cheap laptop, Windows based, with office installed',\n",
       " 'A standard new laptop that is budget friendly and which has internet access, a windows operating system, large clean screen and user friendly ',\n",
       " 'I need a laptop that has 16 GB of RAM. A backlit keyboard is also essential. SSD preferred. Physical blemishes that create a discount are great.',\n",
       " 'I need to buy a thin, lightweat laptop, with good storage and battery life, it needs to have a webcam and charge using USBC.',\n",
       " 'I would choose a laptop that has a lot of memory storage, a long battery life, a decent screen size and in a nice colour. ',\n",
       " 'I would choose a low cost entry price point basic laptop ',\n",
       " 'The laptop I would like would be a sleek, silver Apple Macbook Pro.',\n",
       " '15 inch light weight laptop that has lots of memory storage and RAM.  It should include a HDMI port as well as a USB drive.  ',\n",
       " 'A standard laptop running on windows. It has good sound and graphics',\n",
       " 'A windows laptop which has a webcam, access to microsoft office and a decent graphics card. A laptop which runs very quickly and efficiently',\n",
       " 'I would choose an ASUS laptop with a solid state hard drive and 15.6 screen.',\n",
       " 'I would get a Windows laptop that could support online gaming. Full keyboard with num pad and a large monitor.',\n",
       " 'One with an SSD drive, good RAM, fast processor, and a 15 screen, lightweight but ideally with a built in DVD/CD drive',\n",
       " 'The laptop should be a windows laptop. Light with powerful processor and good memory ',\n",
       " 'a laptop in pink, with a high processor, plenty of memory, ram and usb ports.top of the range model',\n",
       " 'An everyday laptop for surfing the net and emails and not too expensive.',\n",
       " 'A lightweight one with long battery life and quick processor with adequate storage. One that can be transported easily with at least a 13 inch screen and backlit keyboard.',\n",
       " 'Anything with high power capabilities/a gaming laptop.',\n",
       " \"I want a fast and powerful laptop , a macbook or a windows I don't mind but something fast and lightweight to carry.\",\n",
       " 'I want a lightweight, portable laptop that fits in with my other electrical products.',\n",
       " 'Since I have a desktop any laptop for work with decent specifications would do',\n",
       " 'I would choose a laptop with a solid state hard drive and that is slim and light. ',\n",
       " 'For a replacement laptop, I would choose an Apple macbook',\n",
       " 'I WANT A NEW APPLE MAC BOOK AIR TO REPLACE MINE AS IT IS THE BEST LAPTOP THAT I HAVE USED ',\n",
       " 'Apple MacBook Pro with as high a spec as I could afford',\n",
       " 'A Windows laptop that I can use to play and stream games. It should have at least a 15 screen.',\n",
       " 'A laptop with enough power to play 4K videos and run photoshop easily.',\n",
       " 'A mid-range spec laptop with a nice screen but lightweight and easy for travelling with.',\n",
       " 'A multi functional convertible laptop running on a Windows operating system',\n",
       " 'A powerful yet slim laptop which allows me to do all my normal note-taking plus a bit of light gaming on the side ',\n",
       " 'Big screen, lightweight, high memory, fast start up, most recent processor',\n",
       " 'I am looking for a mid-priced laptop (max budget £400) with at least two USB ports, low weight and a slim profile.',\n",
       " 'I would like a laptop with a big screen, touch screen if possible but not too expensive. ',\n",
       " 'I would want a light weight protable laptop with a graphics card and alot of memory',\n",
       " \"ideally something with 8gb of ram, probably a windows laptop around £400 as in my experience that's what you can rely on and macs are too expensive.\",\n",
       " 'Portable, touch-screen, with a pen, high resolution display, good speakers. ',\n",
       " 'A laptop which runs faster and has more capacity to run downloaded software ',\n",
       " 'I would probably spend the heavy coin and get a gaming pc',\n",
       " 'A new jacket which is green in colour and lightweight ',\n",
       " 'need a nice warm but cheap and washable new jacket,hoping for a nice colour blue purple or red ',\n",
       " 'Hooded jacket that is heavy but has material that can be worn is cool weather or cold weather. Had pockets inside and out. ',\n",
       " 'Macbook or any apple product because I have an iPhone and iPad and all my work syncs',\n",
       " 'Always go for function over fashion, look for a warm multi purpose jacket with plenty of pockets and is water proof',\n",
       " 'The replacement jacket would be waxed brown cotton, a brass zip, very waterproof and comfortable. It would be three quarter length with a detachable hood.',\n",
       " 'I would purchase the newest macbook pro with high storage capacity',\n",
       " 'I want a Kenneth Cole peacoat that is double padded on the inside and has minimal buttons',\n",
       " 'Its a Dell laptop with15 inch touch screen with 32g ram',\n",
       " \"I'd buy a Dell or HP running Windows, I need a big hard drive and lostsa memory\",\n",
       " 'MacBook in all white with a lot of memory and a wireless mouse',\n",
       " 'either a Nike, Adidas jacket with dark colours like black with minimal extra designs on it. ',\n",
       " 'I am looking for a simple plain jacket that is comfortable to wear.',\n",
       " 'A short length light blue denim jacket which looks faded or worn',\n",
       " 'a deep, blue soft denim jacket with pockets and buttons',\n",
       " 'A bomber jacket with inner warming lining, preferrably black',\n",
       " 'Long black parka jacket Insulated with warm artificial  filling and waterproofed for all weather with hood and  multiple pockets ',\n",
       " 'A warm jacket that feels comfy. Also probably one with plaid.',\n",
       " 'A basic, denim jacket that has a slightly oversized fit.',\n",
       " 'blue bomber jacket, most likely h and m or similar',\n",
       " 'A long (mid calf length), lightweight beige/brown single breasted trench jacket ',\n",
       " 'A new black jacket for the spring/summer season. Tailored like a trench coat or a duster jacket.',\n",
       " 'I would buy a long coat, like a fitted trench coat? ',\n",
       " 'Black, padded jacket with a hood. Warm and waterproof, not too expensive.',\n",
       " 'I choose a navy wool pea coat that is long and warm',\n",
       " 'A plain black, warm puffer jacket with a hood and decently sized pockets',\n",
       " 'I want a single breasted corduroy hip length jacket with 2 side pockets',\n",
       " \"I'm looking for a fully waterproof and windproof jacket with a padded lining a hood and ideally in dark green.  \",\n",
       " 'Dark blue denim jackets with a fluffy inside and collar similar to aviator jacket',\n",
       " 'A three quarter length jacket in navy with a zip and two large pockets on the front',\n",
       " 'I would choose a medium weight waterproof  fabric, hip length jacket or longer, long sleeves, zip front, with a hood and deep pockets with zips',\n",
       " 'Black leather jacket with a removable hood insert. Similar to a biker jacket.',\n",
       " 'Black leather jacket with dark leopard print and black patent leather detailing. ',\n",
       " 'Good size keyboard, large screen, detachable keyboard so it can be used as a tablet.  Decent camera and webcam.  Good connectivity.',\n",
       " \"I'd like to get a warm jacket, maybe a hooded parka with soft nice lining (sherpa), navy, purple, burgundy or black.\",\n",
       " 'I would choose a medium weight fleece jacket with a hood.  I would choose a black colored jacket.',\n",
       " 'I want the burgundy hoodie jacket with the two big center pockets',\n",
       " 'id choose a softshell jacket that i can ear a hoodie underneith',\n",
       " 'Macbook Pro, silver, simple, with long charger lead. ']"
      ]
     },
     "execution_count": 48,
     "metadata": {},
     "output_type": "execute_result"
    }
   ],
   "source": [
    "list ( df_final [ df_final['query_type']==\"nlqec\"].drop_duplicates(['query'])['query'].tail(100) )"
   ]
  },
  {
   "cell_type": "code",
   "execution_count": null,
   "metadata": {},
   "outputs": [],
   "source": []
  },
  {
   "cell_type": "code",
   "execution_count": null,
   "metadata": {},
   "outputs": [],
   "source": []
  },
  {
   "cell_type": "code",
   "execution_count": null,
   "metadata": {},
   "outputs": [],
   "source": []
  },
  {
   "cell_type": "code",
   "execution_count": null,
   "metadata": {},
   "outputs": [],
   "source": []
  },
  {
   "cell_type": "code",
   "execution_count": null,
   "metadata": {},
   "outputs": [],
   "source": []
  },
  {
   "cell_type": "code",
   "execution_count": null,
   "metadata": {},
   "outputs": [],
   "source": []
  },
  {
   "cell_type": "code",
   "execution_count": null,
   "metadata": {},
   "outputs": [],
   "source": []
  },
  {
   "cell_type": "code",
   "execution_count": null,
   "metadata": {},
   "outputs": [],
   "source": []
  },
  {
   "cell_type": "code",
   "execution_count": null,
   "metadata": {},
   "outputs": [],
   "source": []
  },
  {
   "cell_type": "code",
   "execution_count": null,
   "metadata": {
    "id": "l3cMxShQxPbe"
   },
   "outputs": [],
   "source": []
  }
 ],
 "metadata": {
  "colab": {
   "name": "scratchpad",
   "provenance": []
  },
  "kernelspec": {
   "display_name": "Python 3 (ipykernel)",
   "language": "python",
   "name": "python3"
  },
  "language_info": {
   "codemirror_mode": {
    "name": "ipython",
    "version": 3
   },
   "file_extension": ".py",
   "mimetype": "text/x-python",
   "name": "python",
   "nbconvert_exporter": "python",
   "pygments_lexer": "ipython3",
   "version": "3.9.16"
  }
 },
 "nbformat": 4,
 "nbformat_minor": 4
}
