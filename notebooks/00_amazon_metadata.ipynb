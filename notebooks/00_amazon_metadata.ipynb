{
 "cells": [
  {
   "cell_type": "markdown",
   "id": "c7ff4a68-f94a-419f-b743-31613c76f98f",
   "metadata": {},
   "source": [
    "# Amazon Metadata"
   ]
  },
  {
   "cell_type": "code",
   "execution_count": null,
   "id": "72a731fe-994f-4a8f-b363-efb3ac58672e",
   "metadata": {},
   "outputs": [],
   "source": []
  }
 ],
 "metadata": {
  "kernelspec": {
   "display_name": "Python 3 (ipykernel)",
   "language": "python",
   "name": "python3"
  },
  "language_info": {
   "codemirror_mode": {
    "name": "ipython",
    "version": 3
   },
   "file_extension": ".py",
   "mimetype": "text/x-python",
   "name": "python",
   "nbconvert_exporter": "python",
   "pygments_lexer": "ipython3",
   "version": "3.9.16"
  }
 },
 "nbformat": 4,
 "nbformat_minor": 5
}
