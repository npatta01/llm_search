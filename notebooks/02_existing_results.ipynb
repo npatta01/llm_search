{
 "cells": [
  {
   "cell_type": "code",
   "execution_count": 7,
   "id": "0a1bcc9e-8d9e-482c-b84b-72a1c07fbec4",
   "metadata": {},
   "outputs": [],
   "source": [
    "import pandas as pd\n",
    "import helper\n",
    "import json\n",
    "from ipywidgets import interact\n",
    "import ipyplot"
   ]
  },
  {
   "cell_type": "code",
   "execution_count": 2,
   "id": "3b5148ac-50dc-445a-ba29-fb5f069c8daf",
   "metadata": {},
   "outputs": [],
   "source": [
    "pd.set_option('display.max_rows', 10_000)\n",
    "pd.set_option('display.max_colwidth', None)"
   ]
  },
  {
   "cell_type": "code",
   "execution_count": null,
   "id": "72ffa132-e944-4719-9a4f-8f74f9a11679",
   "metadata": {},
   "outputs": [],
   "source": []
  },
  {
   "cell_type": "code",
   "execution_count": null,
   "id": "04bb9792-20f1-4fa4-b2b5-88d0521d9991",
   "metadata": {},
   "outputs": [],
   "source": []
  },
  {
   "cell_type": "code",
   "execution_count": 3,
   "id": "6ec418d9-ff67-49e2-be5f-dbadbc836bbc",
   "metadata": {},
   "outputs": [],
   "source": [
    "df = pd.read_parquet(\"../data/cleaned_input.parquet\")"
   ]
  },
  {
   "cell_type": "code",
   "execution_count": null,
   "id": "13dc6d69-563b-4a4e-8ce0-212512fa0b93",
   "metadata": {},
   "outputs": [],
   "source": []
  },
  {
   "cell_type": "code",
   "execution_count": 4,
   "id": "f8c9d728-4083-49c4-8fda-a88b3a8ff01e",
   "metadata": {},
   "outputs": [],
   "source": [
    "interesting_queries = json.load(open(\"../data/possible_queries.txt\"))"
   ]
  },
  {
   "cell_type": "code",
   "execution_count": null,
   "id": "5ba75e0a-e4d1-46aa-8441-e7e7b391badf",
   "metadata": {},
   "outputs": [],
   "source": []
  },
  {
   "cell_type": "code",
   "execution_count": null,
   "id": "beba8498-f50a-4a61-9355-a0d109cf03be",
   "metadata": {},
   "outputs": [],
   "source": []
  },
  {
   "cell_type": "code",
   "execution_count": 5,
   "id": "2b79de64-1300-4732-9394-7765d0379b61",
   "metadata": {},
   "outputs": [
    {
     "data": {
      "application/vnd.jupyter.widget-view+json": {
       "model_id": "4e0257250620434596f136fb5e310d3f",
       "version_major": 2,
       "version_minor": 0
      },
      "text/plain": [
       "interactive(children=(Dropdown(description='query', options=('ps4 for under 100', 'seroma treatment', 'strepto…"
      ]
     },
     "metadata": {},
     "output_type": "display_data"
    }
   ],
   "source": [
    "@interact\n",
    "def interact_find_results(query=interesting_queries):\n",
    "    helper.find_results(query ,df )"
   ]
  },
  {
   "cell_type": "code",
   "execution_count": 8,
   "id": "a2455147-0521-48d9-8b62-0fe88d263191",
   "metadata": {},
   "outputs": [
    {
     "data": {
      "text/plain": [
       "\u001b[0;31mSignature:\u001b[0m\n",
       "\u001b[0mipyplot\u001b[0m\u001b[0;34m.\u001b[0m\u001b[0mplot_images\u001b[0m\u001b[0;34m(\u001b[0m\u001b[0;34m\u001b[0m\n",
       "\u001b[0;34m\u001b[0m    \u001b[0mimages\u001b[0m\u001b[0;34m:\u001b[0m \u001b[0mSequence\u001b[0m\u001b[0;34m[\u001b[0m\u001b[0mobject\u001b[0m\u001b[0;34m]\u001b[0m\u001b[0;34m,\u001b[0m\u001b[0;34m\u001b[0m\n",
       "\u001b[0;34m\u001b[0m    \u001b[0mlabels\u001b[0m\u001b[0;34m:\u001b[0m \u001b[0mSequence\u001b[0m\u001b[0;34m[\u001b[0m\u001b[0mstr\u001b[0m\u001b[0;34m]\u001b[0m \u001b[0;34m=\u001b[0m \u001b[0;32mNone\u001b[0m\u001b[0;34m,\u001b[0m\u001b[0;34m\u001b[0m\n",
       "\u001b[0;34m\u001b[0m    \u001b[0mcustom_texts\u001b[0m\u001b[0;34m:\u001b[0m \u001b[0mSequence\u001b[0m\u001b[0;34m[\u001b[0m\u001b[0mstr\u001b[0m\u001b[0;34m]\u001b[0m \u001b[0;34m=\u001b[0m \u001b[0;32mNone\u001b[0m\u001b[0;34m,\u001b[0m\u001b[0;34m\u001b[0m\n",
       "\u001b[0;34m\u001b[0m    \u001b[0mmax_images\u001b[0m\u001b[0;34m:\u001b[0m \u001b[0mint\u001b[0m \u001b[0;34m=\u001b[0m \u001b[0;36m30\u001b[0m\u001b[0;34m,\u001b[0m\u001b[0;34m\u001b[0m\n",
       "\u001b[0;34m\u001b[0m    \u001b[0mimg_width\u001b[0m\u001b[0;34m:\u001b[0m \u001b[0mint\u001b[0m \u001b[0;34m=\u001b[0m \u001b[0;36m150\u001b[0m\u001b[0;34m,\u001b[0m\u001b[0;34m\u001b[0m\n",
       "\u001b[0;34m\u001b[0m    \u001b[0mzoom_scale\u001b[0m\u001b[0;34m:\u001b[0m \u001b[0mfloat\u001b[0m \u001b[0;34m=\u001b[0m \u001b[0;36m2.5\u001b[0m\u001b[0;34m,\u001b[0m\u001b[0;34m\u001b[0m\n",
       "\u001b[0;34m\u001b[0m    \u001b[0mshow_url\u001b[0m\u001b[0;34m:\u001b[0m \u001b[0mbool\u001b[0m \u001b[0;34m=\u001b[0m \u001b[0;32mTrue\u001b[0m\u001b[0;34m,\u001b[0m\u001b[0;34m\u001b[0m\n",
       "\u001b[0;34m\u001b[0m    \u001b[0mforce_b64\u001b[0m\u001b[0;34m:\u001b[0m \u001b[0mbool\u001b[0m \u001b[0;34m=\u001b[0m \u001b[0;32mFalse\u001b[0m\u001b[0;34m,\u001b[0m\u001b[0;34m\u001b[0m\n",
       "\u001b[0;34m\u001b[0m\u001b[0;34m)\u001b[0m\u001b[0;34m\u001b[0m\u001b[0;34m\u001b[0m\u001b[0m\n",
       "\u001b[0;31mDocstring:\u001b[0m\n",
       "Simply displays images provided in `images` param in grid-like layout.\n",
       "Check optional params for max number of images to plot, labels and custom texts to add to each image, image width and other options.\n",
       "This function (same as the whole IPyPlot package) is using IPython and HTML under the hood.\n",
       "\n",
       "Parameters\n",
       "----------\n",
       "images : Sequence[object]\n",
       "    List of images to be displayed in tabs layout.\n",
       "    Currently supports images in the following formats:\n",
       "    - str (local/remote URL)\n",
       "    - PIL.Image\n",
       "    - numpy.ndarray\n",
       "labels : Sequence[str or int], optional\n",
       "    List of classes/labels for images to be grouped by.\n",
       "    Must be same length as `images`.\n",
       "    Defaults to None.\n",
       "custom_texts : Sequence[str], optional\n",
       "    List of custom strings to be drawn above each image.\n",
       "    Must be same length as `images`, by default `None`.\n",
       "max_images : int, optional\n",
       "    How many images to display (takes first N images).\n",
       "    Defaults to 30.\n",
       "img_width : int, optional\n",
       "    Image width in px, by default 150\n",
       "zoom_scale : float, optional\n",
       "    Scale for zoom-in-on-click feature.\n",
       "    Best to keep between 1.0~5.0.\n",
       "    Defaults to 2.5.\n",
       "show_url : bool, optional\n",
       "    Defines if the urls are displayed as text above the images. \n",
       "force_b64 : bool, optional\n",
       "    You can force conversion of images to base64 instead of reading them directly from filepaths with HTML.  \n",
       "    Do mind that using b64 conversion vs reading directly from filepath will be slower.\n",
       "    You might need to set this to `True` in environments like Google colab.\n",
       "    Defaults to False.\n",
       "\u001b[0;31mFile:\u001b[0m      /usr/local/lib/python3.9/dist-packages/ipyplot/_plotting.py\n",
       "\u001b[0;31mType:\u001b[0m      function\n"
      ]
     },
     "metadata": {},
     "output_type": "display_data"
    }
   ],
   "source": [
    "?ipyplot.plot_images"
   ]
  },
  {
   "cell_type": "code",
   "execution_count": null,
   "id": "70bd82f7-9310-4bb2-85e2-399ea0e5c2c2",
   "metadata": {},
   "outputs": [],
   "source": []
  }
 ],
 "metadata": {
  "kernelspec": {
   "display_name": "Python 3 (ipykernel)",
   "language": "python",
   "name": "python3"
  },
  "language_info": {
   "codemirror_mode": {
    "name": "ipython",
    "version": 3
   },
   "file_extension": ".py",
   "mimetype": "text/x-python",
   "name": "python",
   "nbconvert_exporter": "python",
   "pygments_lexer": "ipython3",
   "version": "3.9.16"
  }
 },
 "nbformat": 4,
 "nbformat_minor": 5
}
