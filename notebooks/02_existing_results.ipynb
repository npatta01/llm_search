{
 "cells": [
  {
   "cell_type": "code",
   "execution_count": 2,
   "id": "009ebea9-a9aa-4c72-8ed3-4b7464ab8aad",
   "metadata": {},
   "outputs": [
    {
     "name": "stdout",
     "output_type": "stream",
     "text": [
      "Collecting ipyplot\n",
      "  Downloading ipyplot-1.1.1-py3-none-any.whl (13 kB)\n",
      "Requirement already satisfied: pillow in /usr/local/lib/python3.9/dist-packages (from ipyplot) (9.2.0)\n",
      "Requirement already satisfied: shortuuid in /usr/local/lib/python3.9/dist-packages (from ipyplot) (1.0.11)\n",
      "Requirement already satisfied: IPython in /usr/local/lib/python3.9/dist-packages (from ipyplot) (8.5.0)\n",
      "Requirement already satisfied: numpy in /usr/local/lib/python3.9/dist-packages (from ipyplot) (1.23.4)\n",
      "Requirement already satisfied: matplotlib-inline in /usr/local/lib/python3.9/dist-packages (from IPython->ipyplot) (0.1.6)\n",
      "Requirement already satisfied: traitlets>=5 in /usr/local/lib/python3.9/dist-packages (from IPython->ipyplot) (5.8.1)\n",
      "Requirement already satisfied: decorator in /usr/local/lib/python3.9/dist-packages (from IPython->ipyplot) (5.1.1)\n",
      "Requirement already satisfied: pexpect>4.3 in /usr/local/lib/python3.9/dist-packages (from IPython->ipyplot) (4.8.0)\n",
      "Requirement already satisfied: stack-data in /usr/local/lib/python3.9/dist-packages (from IPython->ipyplot) (0.6.2)\n",
      "Requirement already satisfied: pickleshare in /usr/local/lib/python3.9/dist-packages (from IPython->ipyplot) (0.7.5)\n",
      "Requirement already satisfied: backcall in /usr/local/lib/python3.9/dist-packages (from IPython->ipyplot) (0.2.0)\n",
      "Requirement already satisfied: jedi>=0.16 in /usr/local/lib/python3.9/dist-packages (from IPython->ipyplot) (0.18.2)\n",
      "Requirement already satisfied: prompt-toolkit<3.1.0,>3.0.1 in /usr/local/lib/python3.9/dist-packages (from IPython->ipyplot) (3.0.36)\n",
      "Requirement already satisfied: pygments>=2.4.0 in /usr/local/lib/python3.9/dist-packages (from IPython->ipyplot) (2.14.0)\n",
      "Requirement already satisfied: parso<0.9.0,>=0.8.0 in /usr/local/lib/python3.9/dist-packages (from jedi>=0.16->IPython->ipyplot) (0.8.3)\n",
      "Requirement already satisfied: ptyprocess>=0.5 in /usr/local/lib/python3.9/dist-packages (from pexpect>4.3->IPython->ipyplot) (0.7.0)\n",
      "Requirement already satisfied: wcwidth in /usr/local/lib/python3.9/dist-packages (from prompt-toolkit<3.1.0,>3.0.1->IPython->ipyplot) (0.2.6)\n",
      "Requirement already satisfied: executing>=1.2.0 in /usr/local/lib/python3.9/dist-packages (from stack-data->IPython->ipyplot) (1.2.0)\n",
      "Requirement already satisfied: pure-eval in /usr/local/lib/python3.9/dist-packages (from stack-data->IPython->ipyplot) (0.2.2)\n",
      "Requirement already satisfied: asttokens>=2.1.0 in /usr/local/lib/python3.9/dist-packages (from stack-data->IPython->ipyplot) (2.2.1)\n",
      "Requirement already satisfied: six in /usr/lib/python3/dist-packages (from asttokens>=2.1.0->stack-data->IPython->ipyplot) (1.14.0)\n",
      "Installing collected packages: ipyplot\n",
      "Successfully installed ipyplot-1.1.1\n",
      "\u001b[33mWARNING: Running pip as the 'root' user can result in broken permissions and conflicting behaviour with the system package manager. It is recommended to use a virtual environment instead: https://pip.pypa.io/warnings/venv\u001b[0m\u001b[33m\n",
      "\u001b[0m"
     ]
    }
   ],
   "source": [
    "!pip install ipyplot"
   ]
  },
  {
   "cell_type": "code",
   "execution_count": 3,
   "id": "0a1bcc9e-8d9e-482c-b84b-72a1c07fbec4",
   "metadata": {},
   "outputs": [],
   "source": [
    "import pandas as pd\n",
    "import helper\n",
    "import json\n",
    "from ipywidgets import interact\n",
    "import ipyplot"
   ]
  },
  {
   "cell_type": "code",
   "execution_count": 4,
   "id": "3b5148ac-50dc-445a-ba29-fb5f069c8daf",
   "metadata": {},
   "outputs": [],
   "source": [
    "pd.set_option('display.max_rows', 10_000)\n",
    "pd.set_option('display.max_colwidth', None)"
   ]
  },
  {
   "cell_type": "code",
   "execution_count": null,
   "id": "72ffa132-e944-4719-9a4f-8f74f9a11679",
   "metadata": {},
   "outputs": [],
   "source": []
  },
  {
   "cell_type": "code",
   "execution_count": null,
   "id": "04bb9792-20f1-4fa4-b2b5-88d0521d9991",
   "metadata": {},
   "outputs": [],
   "source": []
  },
  {
   "cell_type": "code",
   "execution_count": 5,
   "id": "6ec418d9-ff67-49e2-be5f-dbadbc836bbc",
   "metadata": {},
   "outputs": [],
   "source": [
    "df = pd.read_parquet(\"../data/cleaned_input.parquet\")"
   ]
  },
  {
   "cell_type": "code",
   "execution_count": null,
   "id": "13dc6d69-563b-4a4e-8ce0-212512fa0b93",
   "metadata": {},
   "outputs": [],
   "source": []
  },
  {
   "cell_type": "code",
   "execution_count": 6,
   "id": "f8c9d728-4083-49c4-8fda-a88b3a8ff01e",
   "metadata": {},
   "outputs": [],
   "source": [
    "interesting_queries = json.load(open(\"../data/possible_queries.txt\"))"
   ]
  },
  {
   "cell_type": "code",
   "execution_count": null,
   "id": "5ba75e0a-e4d1-46aa-8441-e7e7b391badf",
   "metadata": {},
   "outputs": [],
   "source": []
  },
  {
   "cell_type": "code",
   "execution_count": null,
   "id": "beba8498-f50a-4a61-9355-a0d109cf03be",
   "metadata": {},
   "outputs": [],
   "source": []
  },
  {
   "cell_type": "code",
   "execution_count": 7,
   "id": "2b79de64-1300-4732-9394-7765d0379b61",
   "metadata": {},
   "outputs": [
    {
     "data": {
      "application/vnd.jupyter.widget-view+json": {
       "model_id": "03ac276ec9174e29961069ccd71c6602",
       "version_major": 2,
       "version_minor": 0
      },
      "text/plain": [
       "interactive(children=(Dropdown(description='query', options=('ps4 for under 100', 'seroma treatment', 'strepto…"
      ]
     },
     "metadata": {},
     "output_type": "display_data"
    }
   ],
   "source": [
    "@interact\n",
    "def interact_find_results(query=interesting_queries):\n",
    "    helper.find_results(query ,df )"
   ]
  },
  {
   "cell_type": "code",
   "execution_count": null,
   "id": "a2455147-0521-48d9-8b62-0fe88d263191",
   "metadata": {},
   "outputs": [],
   "source": [
    "?ipyplot.plot_images"
   ]
  },
  {
   "cell_type": "code",
   "execution_count": null,
   "id": "70bd82f7-9310-4bb2-85e2-399ea0e5c2c2",
   "metadata": {},
   "outputs": [],
   "source": []
  }
 ],
 "metadata": {
  "kernelspec": {
   "display_name": "Python 3 (ipykernel)",
   "language": "python",
   "name": "python3"
  },
  "language_info": {
   "codemirror_mode": {
    "name": "ipython",
    "version": 3
   },
   "file_extension": ".py",
   "mimetype": "text/x-python",
   "name": "python",
   "nbconvert_exporter": "python",
   "pygments_lexer": "ipython3",
   "version": "3.9.16"
  }
 },
 "nbformat": 4,
 "nbformat_minor": 5
}
