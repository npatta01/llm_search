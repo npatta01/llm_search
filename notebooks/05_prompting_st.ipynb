{
 "cells": [
  {
   "cell_type": "markdown",
   "id": "04caf66a-ccc1-492b-9432-a05ee7fafc9f",
   "metadata": {},
   "source": [
    "## About\n",
    "This notebook contains examples of named entity recognition (NER) for products and queries with few-shot learning"
   ]
  },
  {
   "cell_type": "code",
   "execution_count": 75,
   "id": "07b87073-de66-461c-9412-0c691d80797d",
   "metadata": {},
   "outputs": [],
   "source": [
    "import os\n",
    "from langchain.chat_models import ChatOpenAI, ChatGooglePalm\n",
    "from langchain.prompts import ChatPromptTemplate\n",
    "from langchain.llms import OpenAI\n",
    "from langchain import PromptTemplate\n",
    "from langchain import LLMChain\n",
    "from langchain.llms import Replicate\n",
    "\n",
    "from langchain.schema import StrOutputParser\n",
    "from langchain.cache import SQLiteCache\n",
    "from langchain.globals import set_llm_cache\n",
    "from langchain.callbacks import get_openai_callback\n",
    "\n",
    "from langchain.prompts import (\n",
    "    ChatPromptTemplate,\n",
    "    FewShotChatMessagePromptTemplate,\n",
    ")\n",
    "from langchain.output_parsers import CommaSeparatedListOutputParser\n",
    "from dotenv import load_dotenv\n"
   ]
  },
  {
   "cell_type": "code",
   "execution_count": 76,
   "id": "03753895-5762-4d2b-9c6b-5859a696f5f0",
   "metadata": {},
   "outputs": [],
   "source": [
    "set_llm_cache(SQLiteCache(database_path=\".langchain.db\"))\n"
   ]
  },
  {
   "cell_type": "code",
   "execution_count": 77,
   "id": "034a5666-7b88-40d0-ab37-608531d647b0",
   "metadata": {},
   "outputs": [
    {
     "data": {
      "text/plain": [
       "True"
      ]
     },
     "execution_count": 77,
     "metadata": {},
     "output_type": "execute_result"
    }
   ],
   "source": [
    "load_dotenv(\"../.env\") \n"
   ]
  },
  {
   "cell_type": "code",
   "execution_count": 78,
   "id": "04d574d7-64e2-4240-98ec-a613f1181a2d",
   "metadata": {},
   "outputs": [],
   "source": [
    "llm_openai = ChatOpenAI(model=\"gpt-4\")\n"
   ]
  },
  {
   "cell_type": "code",
   "execution_count": 79,
   "id": "391957cf-4b7e-45b7-921a-30f4c2cabb68",
   "metadata": {},
   "outputs": [],
   "source": [
    "from pydantic import BaseModel, Field\n",
    "from langchain.output_parsers import PydanticOutputParser\n",
    "from typing import Optional\n",
    "from typing_extensions import Annotated\n",
    "from enum import Enum\n",
    "from typing import Union\n",
    "import pandas as pd"
   ]
  },
  {
   "cell_type": "markdown",
   "id": "75f60bbe-d6a2-4000-a816-9cade5d07cd8",
   "metadata": {},
   "source": [
    "## Output Formatting\n",
    "- Defining possible values for entities to LLM (gender)\n",
    "- Providing output schema"
   ]
  },
  {
   "cell_type": "code",
   "execution_count": 80,
   "id": "710cb387-75a7-4cf4-a1b4-d3ffa4a0c6b2",
   "metadata": {},
   "outputs": [],
   "source": [
    "class Gender(str, Enum):\n",
    "    male = 'male'\n",
    "    female = 'female'\n",
    "    unisex = 'unisex'\n",
    "    other = 'other'\n",
    "    not_given = 'not_given'\n",
    "\n",
    "\n",
    "class ProductUnderstanding(BaseModel):\n",
    "    brand: Optional[str] = Field(description=\"brand\", )\n",
    "    gender: Annotated[Union[Gender, None], Field(alias='Gender')] = None\n",
    "\n",
    "    #gender: Optional[str] = Field(description=\"gender\")\n",
    "    product_type: Optional[str] = Field(description=\"product_type\")\n",
    "    color: Optional[str] = Field(description=\"color\")\n",
    "    size: Optional[str] = Field(description=\"size\")"
   ]
  },
  {
   "cell_type": "code",
   "execution_count": 81,
   "id": "50d3318d-0d96-4f14-93cf-5ea59b4369c5",
   "metadata": {},
   "outputs": [],
   "source": [
    "parser = PydanticOutputParser(pydantic_object=ProductUnderstanding)\n"
   ]
  },
  {
   "cell_type": "markdown",
   "id": "946fb99b-5666-4dcc-86bd-7727af8ee95c",
   "metadata": {},
   "source": [
    "## Prompt\n",
    "A few shot prompt for extracting entities"
   ]
  },
  {
   "cell_type": "code",
   "execution_count": 82,
   "id": "bfad0213-4b1a-476f-860a-49b5e11f3efd",
   "metadata": {},
   "outputs": [],
   "source": [
    "template = \"\"\"\n",
    "You are e-commerce expert. Your task is to extract the attributes from customer query. \n",
    "Possible attributes are \"product type\", \"brand\", \"gender\", \"color\", \"size\".\n",
    "\n",
    "Few shot Examples:\n",
    "\n",
    "Input:\n",
    "Query: yellow 35 inch baseball bat\n",
    "Output: \n",
    "brand: None\n",
    "gender: None\n",
    "product_type: baseball bats\n",
    "color: black\n",
    "size: 35 inch\n",
    "\n",
    "Input:   \n",
    "Query: MOERDENG Men's Waterproof Ski Jacket Warm Winter Snow Coat Mountain Windbreaker Hooded Raincoat\n",
    "Output: \n",
    "brand: MOERDENG\n",
    "gender: Men\n",
    "product_type: Ski Jacket\n",
    "color: None\n",
    "size: None\n",
    "\n",
    "Input:   \n",
    "Query: {query}\n",
    "Output: \n",
    "\n",
    "\n",
    "\n",
    "Format instructions:\n",
    "{format_instructions}\n",
    "Answer: \"\"\""
   ]
  },
  {
   "cell_type": "code",
   "execution_count": 83,
   "id": "7417ee58-b138-458b-94c1-dfad25944148",
   "metadata": {},
   "outputs": [],
   "source": [
    "prompt = PromptTemplate(template=template, input_variables=[\"query\"],\n",
    "                                 partial_variables={\"format_instructions\":  parser.get_format_instructions()}\n",
    "                                 )\n"
   ]
  },
  {
   "cell_type": "code",
   "execution_count": 84,
   "id": "064e2d02-225f-4cbc-aa95-13fb648a7dac",
   "metadata": {},
   "outputs": [
    {
     "name": "stdout",
     "output_type": "stream",
     "text": [
      "\n",
      "You are e-commerce expert. Your task is to extract the attributes from customer query. \n",
      "Possible attributes are \"product type\", \"brand\", \"gender\", \"color\", \"size\".\n",
      "\n",
      "Few shot Examples:\n",
      "\n",
      "Input:\n",
      "Query: yellow 35 inch baseball bat\n",
      "Output: \n",
      "brand: None\n",
      "gender: None\n",
      "product_type: baseball bats\n",
      "color: black\n",
      "size: 35 inch\n",
      "\n",
      "Input:   \n",
      "Query: MOERDENG Men's Waterproof Ski Jacket Warm Winter Snow Coat Mountain Windbreaker Hooded Raincoat\n",
      "Output: \n",
      "brand: MOERDENG\n",
      "gender: Men\n",
      "product_type: Ski Jacket\n",
      "color: None\n",
      "size: None\n",
      "\n",
      "Input:   \n",
      "Query: nike men shoes\n",
      "Output: \n",
      "\n",
      "\n",
      "\n",
      "Format instructions:\n",
      "The output should be formatted as a JSON instance that conforms to the JSON schema below.\n",
      "\n",
      "As an example, for the schema {\"properties\": {\"foo\": {\"title\": \"Foo\", \"description\": \"a list of strings\", \"type\": \"array\", \"items\": {\"type\": \"string\"}}}, \"required\": [\"foo\"]}\n",
      "the object {\"foo\": [\"bar\", \"baz\"]} is a well-formatted instance of the schema. The object {\"properties\": {\"foo\": [\"bar\", \"baz\"]}} is not well-formatted.\n",
      "\n",
      "Here is the output schema:\n",
      "```\n",
      "{\"$defs\": {\"Gender\": {\"enum\": [\"male\", \"female\", \"unisex\", \"other\", \"not_given\"], \"title\": \"Gender\", \"type\": \"string\"}}, \"properties\": {\"brand\": {\"anyOf\": [{\"type\": \"string\"}, {\"type\": \"null\"}], \"description\": \"brand\", \"title\": \"Brand\"}, \"Gender\": {\"anyOf\": [{\"$ref\": \"#/$defs/Gender\"}, {\"type\": \"null\"}], \"default\": null}, \"product_type\": {\"anyOf\": [{\"type\": \"string\"}, {\"type\": \"null\"}], \"description\": \"product_type\", \"title\": \"Product Type\"}, \"color\": {\"anyOf\": [{\"type\": \"string\"}, {\"type\": \"null\"}], \"description\": \"color\", \"title\": \"Color\"}, \"size\": {\"anyOf\": [{\"type\": \"string\"}, {\"type\": \"null\"}], \"description\": \"size\", \"title\": \"Size\"}}, \"required\": [\"brand\", \"product_type\", \"color\", \"size\"]}\n",
      "```\n",
      "Answer: \n"
     ]
    }
   ],
   "source": [
    "print ( prompt.format(query = \"nike men shoes\" ) )\n"
   ]
  },
  {
   "cell_type": "markdown",
   "id": "555668fa-2383-4865-b684-a25797e5a8be",
   "metadata": {},
   "source": [
    "## Example"
   ]
  },
  {
   "cell_type": "code",
   "execution_count": 85,
   "id": "410b15f8-35bd-484d-b515-3e612f561c93",
   "metadata": {},
   "outputs": [],
   "source": [
    "#sample_product_title = \"nike men shoes in green\"\n",
    "sample_product_title = \"MOERDENG Men's Waterproof Ski Jacket Warm Winter Snow Coat Mountain Windbreaker Hooded Raincoat\"\n",
    "\n",
    "chain = prompt | llm_openai \n",
    "\n",
    "output= chain.invoke({\"query\": sample_product_title})"
   ]
  },
  {
   "cell_type": "code",
   "execution_count": 86,
   "id": "5f9caedb-8291-42d2-9935-6df476661e27",
   "metadata": {},
   "outputs": [
    {
     "data": {
      "text/plain": [
       "AIMessage(content='{\"brand\": \"MOERDENG\", \"Gender\": \"male\", \"product_type\": \"Ski Jacket\", \"color\": null, \"size\": null}')"
      ]
     },
     "execution_count": 86,
     "metadata": {},
     "output_type": "execute_result"
    }
   ],
   "source": [
    "output"
   ]
  },
  {
   "cell_type": "code",
   "execution_count": 87,
   "id": "60552c1e-c4f1-401d-9b13-996c3b0edbf3",
   "metadata": {},
   "outputs": [
    {
     "data": {
      "text/plain": [
       "ProductUnderstanding(brand='MOERDENG', gender=<Gender.male: 'male'>, product_type='Ski Jacket', color=None, size=None)"
      ]
     },
     "execution_count": 87,
     "metadata": {},
     "output_type": "execute_result"
    }
   ],
   "source": [
    "product_info = parser.parse(output.content)\n",
    "product_info"
   ]
  },
  {
   "cell_type": "code",
   "execution_count": 88,
   "id": "034f75e0-205a-4221-8b15-7835a2e95062",
   "metadata": {},
   "outputs": [
    {
     "data": {
      "text/plain": [
       "<Gender.male: 'male'>"
      ]
     },
     "execution_count": 88,
     "metadata": {},
     "output_type": "execute_result"
    }
   ],
   "source": [
    "product_info.gender"
   ]
  }
 ],
 "metadata": {
  "kernelspec": {
   "display_name": "Python 3 (ipykernel)",
   "language": "python",
   "name": "python3"
  },
  "language_info": {
   "codemirror_mode": {
    "name": "ipython",
    "version": 3
   },
   "file_extension": ".py",
   "mimetype": "text/x-python",
   "name": "python",
   "nbconvert_exporter": "python",
   "pygments_lexer": "ipython3",
   "version": "3.9.16"
  }
 },
 "nbformat": 4,
 "nbformat_minor": 5
}
