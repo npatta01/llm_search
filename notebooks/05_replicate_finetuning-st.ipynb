{
 "cells": [
  {
   "cell_type": "code",
   "execution_count": null,
   "id": "c8f04c47-abf5-42c6-8543-c9da7d5a399d",
   "metadata": {},
   "outputs": [],
   "source": [
    "!pip install datasets py7zr"
   ]
  },
  {
   "cell_type": "code",
   "execution_count": 4,
   "id": "79e154f9-4e49-42cf-943a-e75f7fa707db",
   "metadata": {},
   "outputs": [],
   "source": [
    "# Important: install these dependencies first:\n",
    "# pip install datasets py7zr\n",
    "from datasets import load_dataset\n",
    "import os\n",
    "import pandas as pd"
   ]
  },
  {
   "cell_type": "code",
   "execution_count": 5,
   "id": "ac2a19a1-246d-45f8-b954-9e1a206926f0",
   "metadata": {},
   "outputs": [],
   "source": [
    "os.environ[\"REPLICATE_API_TOKEN\"] = \"r8_XxUNPsB5I1iEJXo72xT2bhxqasc8oaQ3t1sOd\"\n"
   ]
  },
  {
   "cell_type": "code",
   "execution_count": 6,
   "id": "6284f38a-5563-441a-a58f-fdbddb39d98e",
   "metadata": {},
   "outputs": [],
   "source": [
    "df = pd.read_parquet(\"data/st_trainining_input.parquet\")"
   ]
  },
  {
   "cell_type": "code",
   "execution_count": null,
   "id": "07db15a1-613a-47a2-b73a-d828e6fac64c",
   "metadata": {},
   "outputs": [],
   "source": []
  },
  {
   "cell_type": "code",
   "execution_count": null,
   "id": "fd7943ee-4205-42fc-a645-17b7301940bb",
   "metadata": {},
   "outputs": [],
   "source": []
  },
  {
   "cell_type": "code",
   "execution_count": 37,
   "id": "d9727ec0-4890-4bd1-a79c-eb2565ca9d1f",
   "metadata": {},
   "outputs": [],
   "source": [
    "PROMPT_TEMPLATE = \"[INST] <<SYS>>\\nExtract attributes from the given e-commerce customer query.\\nPossible attributes are 'product type', 'brand', 'gender', 'color', 'size'.<</SYS>>\\n\\nInput:\\n{query} [/INST]\\n\\nOutput: {output}\"\n"
   ]
  },
  {
   "cell_type": "code",
   "execution_count": 38,
   "id": "9a200021-271f-4f95-b348-b152fdec5512",
   "metadata": {},
   "outputs": [
    {
     "name": "stdout",
     "output_type": "stream",
     "text": [
      "[INST] <<SYS>>\n",
      "Extract attributes from the given e-commerce customer query.\n",
      "Possible attributes are 'product type', 'brand', 'gender', 'color', 'size'.<</SYS>>\n",
      "\n",
      "Input:\n",
      "{query} [/INST]\n",
      "\n",
      "Output: {output}\n"
     ]
    }
   ],
   "source": [
    "print(PROMPT_TEMPLATE)"
   ]
  },
  {
   "cell_type": "code",
   "execution_count": null,
   "id": "5e97a75c-7fc7-4ee1-9b67-9cf09c1a9fb2",
   "metadata": {},
   "outputs": [],
   "source": []
  },
  {
   "cell_type": "code",
   "execution_count": 39,
   "id": "1c65a11a-376f-4840-b011-f31035ba39a2",
   "metadata": {},
   "outputs": [
    {
     "name": "stdout",
     "output_type": "stream",
     "text": [
      "[INST] <<SYS>>\n",
      "Extract attributes from the given e-commerce customer query.\n",
      "Possible attributes are 'product type', 'brand', 'gender', 'color', 'size'.<</SYS>>\n",
      "\n",
      "Input:\n",
      "{query} [/INST]\n",
      "\n",
      "Output: {output}\n"
     ]
    }
   ],
   "source": [
    "print(PROMPT_TEMPLATE)"
   ]
  },
  {
   "cell_type": "code",
   "execution_count": 40,
   "id": "5ba98a4c-9391-49cc-9a17-132985a7698f",
   "metadata": {},
   "outputs": [],
   "source": [
    "def format_instruction(sample):\n",
    "    return PROMPT_TEMPLATE.format(query=sample[\"query\"], output=sample[\"output\"])\n"
   ]
  },
  {
   "cell_type": "code",
   "execution_count": 41,
   "id": "b3365579-dd31-4ca6-a70a-05019baad952",
   "metadata": {},
   "outputs": [],
   "source": [
    "df['text'] = df.apply(format_instruction , axis=1)"
   ]
  },
  {
   "cell_type": "code",
   "execution_count": 42,
   "id": "8364cffc-9275-4d0d-a327-605052ec4632",
   "metadata": {},
   "outputs": [
    {
     "data": {
      "text/plain": [
       "{'query': ' revent 80 cfm',\n",
       " 'output': '{\"brand\":null,\"gender\":\"not_given\",\"product_type\":null,\"color\":null,\"size\":\"80 cfm\"}',\n",
       " 'text': '[INST] <<SYS>>\\nExtract attributes from the given e-commerce customer query.\\nPossible attributes are \\'product type\\', \\'brand\\', \\'gender\\', \\'color\\', \\'size\\'.<</SYS>>\\n\\nInput:\\n revent 80 cfm [/INST]\\n\\nOutput: {\"brand\":null,\"gender\":\"not_given\",\"product_type\":null,\"color\":null,\"size\":\"80 cfm\"}'}"
      ]
     },
     "execution_count": 42,
     "metadata": {},
     "output_type": "execute_result"
    }
   ],
   "source": [
    "df.iloc[0].to_dict()"
   ]
  },
  {
   "cell_type": "code",
   "execution_count": 50,
   "id": "f7be1225-7210-4b0a-81cb-fe94ac0a2b22",
   "metadata": {},
   "outputs": [
    {
     "name": "stdout",
     "output_type": "stream",
     "text": [
      "[INST] <<SYS>>\n",
      "Extract attributes from the given e-commerce customer query.\n",
      "Possible attributes are 'product type', 'brand', 'gender', 'color', 'size'.<</SYS>>\n",
      "\n",
      "Input:\n",
      " revent 80 cfm [/INST]\n",
      "\n",
      "Output: {\"brand\":null,\"gender\":\"not_given\",\"product_type\":null,\"color\":null,\"size\":\"80 cfm\"}\n"
     ]
    }
   ],
   "source": [
    "print(df.iloc[0].to_dict()['text'])"
   ]
  },
  {
   "cell_type": "code",
   "execution_count": 43,
   "id": "5913e985-de2e-447e-a6b4-834ca20df47e",
   "metadata": {},
   "outputs": [],
   "source": [
    "df[['text']].to_json(\"data/st_train.jsonl\",lines=True, orient=\"records\")"
   ]
  },
  {
   "cell_type": "code",
   "execution_count": null,
   "id": "66443bc6-4c82-42d2-8981-7f971ce8349e",
   "metadata": {},
   "outputs": [],
   "source": []
  },
  {
   "cell_type": "code",
   "execution_count": 44,
   "id": "ad7bf5fa-6812-4f2c-b347-8b5c49be5730",
   "metadata": {},
   "outputs": [
    {
     "name": "stdout",
     "output_type": "stream",
     "text": [
      "{\"text\":\"[INST] <<SYS>>\\nExtract attributes from the given e-commerce customer query.\\nPossible attributes are 'product type', 'brand', 'gender', 'color', 'size'.<<\\/SYS>>\\n\\nInput:\\n revent 80 cfm [\\/INST]\\n\\nOutput: {\\\"brand\\\":null,\\\"gender\\\":\\\"not_given\\\",\\\"product_type\\\":null,\\\"color\\\":null,\\\"size\\\":\\\"80 cfm\\\"}\"}\n",
      "{\"text\":\"[INST] <<SYS>>\\nExtract attributes from the given e-commerce customer query.\\nPossible attributes are 'product type', 'brand', 'gender', 'color', 'size'.<<\\/SYS>>\\n\\nInput:\\nbathroom fan without light [\\/INST]\\n\\nOutput: {\\\"brand\\\":null,\\\"gender\\\":\\\"not_given\\\",\\\"product_type\\\":\\\"bathroom fan\\\",\\\"color\\\":null,\\\"size\\\":null}\"}\n",
      "{\"text\":\"[INST] <<SYS>>\\nExtract attributes from the given e-commerce customer query.\\nPossible attributes are 'product type', 'brand', 'gender', 'color', 'size'.<<\\/SYS>>\\n\\nInput:\\nbathroom fan with light [\\/INST]\\n\\nOutput: {\\\"brand\\\":null,\\\"gender\\\":\\\"not_given\\\",\\\"product_type\\\":\\\"bathroom fan\\\",\\\"color\\\":null,\\\"size\\\":null}\"}\n",
      "{\"text\":\"[INST] <<SYS>>\\nExtract attributes from the given e-commerce customer query.\\nPossible attributes are 'product type', 'brand', 'gender', 'color', 'size'.<<\\/SYS>>\\n\\nInput:\\n110cfm bathroom exhaust fan without light [\\/INST]\\n\\nOutput: {\\\"brand\\\":null,\\\"gender\\\":null,\\\"product_type\\\":\\\"bathroom exhaust fan\\\",\\\"color\\\":null,\\\"size\\\":\\\"110cfm\\\"}\"}\n",
      "{\"text\":\"[INST] <<SYS>>\\nExtract attributes from the given e-commerce customer query.\\nPossible attributes are 'product type', 'brand', 'gender', 'color', 'size'.<<\\/SYS>>\\n\\nInput:\\n12 inch bathroomwall mounted fan [\\/INST]\\n\\nOutput: {\\\"brand\\\":null,\\\"gender\\\":\\\"not_given\\\",\\\"product_type\\\":\\\"wall mounted fan\\\",\\\"color\\\":null,\\\"size\\\":\\\"12 inch\\\"}\"}\n"
     ]
    }
   ],
   "source": [
    "!head data/st_train.jsonl -n 5"
   ]
  },
  {
   "cell_type": "code",
   "execution_count": null,
   "id": "e4a14176-8600-47af-9be8-aa3cb906b07f",
   "metadata": {},
   "outputs": [],
   "source": []
  },
  {
   "cell_type": "code",
   "execution_count": null,
   "id": "55ff4ad4-8b24-4b38-89da-b3237f884e93",
   "metadata": {},
   "outputs": [],
   "source": []
  },
  {
   "cell_type": "code",
   "execution_count": 45,
   "id": "21685d96-52cc-4f35-be56-1aff06262a16",
   "metadata": {},
   "outputs": [
    {
     "name": "stderr",
     "output_type": "stream",
     "text": [
      "  % Total    % Received % Xferd  Average Speed   Time    Time     Time  Current\n",
      "                                 Dload  Upload   Total   Spent    Left  Speed\n",
      "100 78367    0     0  100 78367      0  15064  0:00:05  0:00:05 --:--:-- 19212\n"
     ]
    },
    {
     "name": "stdout",
     "output_type": "stream",
     "text": [
      "https://replicate.delivery/pbxt/JyrgXaadFpOt1V3J6CGRW1Jdoe6t2DObqdYjm9aFG6MIcESm/data.jsonl\n"
     ]
    }
   ],
   "source": [
    "%%bash\n",
    "\n",
    "export REPLICATE_API_TOKEN=\"r8_QpQZBY0Jc4rJDxfNt3CRqaJgAQIzfOP2frFLj\"\n",
    "\n",
    "RESPONSE=$(curl -s -X POST -H \"Authorization: Token $REPLICATE_API_TOKEN\" https://dreambooth-api-experimental.replicate.com/v1/upload/data.jsonl)\n",
    "\n",
    "curl -X PUT -H \"Content-Type: application/jsonl\" --upload-file data/st_train.jsonl \"$(jq -r \".upload_url\" <<< \"$RESPONSE\")\"\n",
    "\n",
    "SERVING_URL=$(jq -r \".serving_url\" <<< $RESPONSE)\n",
    "echo $SERVING_URL"
   ]
  },
  {
   "cell_type": "code",
   "execution_count": null,
   "id": "dd918f7f-0db2-4d44-b61f-8c366cf169fc",
   "metadata": {},
   "outputs": [],
   "source": [
    "!ls"
   ]
  },
  {
   "cell_type": "code",
   "execution_count": null,
   "id": "7c5734e8-f465-40d3-b7a8-20a75e4ebaa2",
   "metadata": {},
   "outputs": [],
   "source": []
  },
  {
   "cell_type": "code",
   "execution_count": 33,
   "id": "0c995d2b-d8e6-4806-83d4-b963f2d251d4",
   "metadata": {},
   "outputs": [],
   "source": [
    "import replicate"
   ]
  },
  {
   "cell_type": "code",
   "execution_count": null,
   "id": "7bdd05e7-3f89-4c5a-8ec7-35ac225b86b2",
   "metadata": {},
   "outputs": [],
   "source": [
    "??replicate.trainings.create"
   ]
  },
  {
   "cell_type": "code",
   "execution_count": 53,
   "id": "ffd33c45-4389-4b08-a7f7-bad2e09818bf",
   "metadata": {},
   "outputs": [],
   "source": [
    "\n",
    "model_version = \"meta/llama-2-7b:73001d654114dad81ec65da3b834e2f691af1e1526453189b7bf36fb3f32d0f9\"\n",
    "model_version=\"meta/llama-2-7b-chat:13c3cdee13ee059ab779f0291d29054dab00a47dad8261375654de5540165fb0\""
   ]
  },
  {
   "cell_type": "code",
   "execution_count": 54,
   "id": "19ae52ca-ed1f-4815-95cd-a848183c8d48",
   "metadata": {},
   "outputs": [
    {
     "name": "stdout",
     "output_type": "stream",
     "text": [
      "id='y4czartb25qvhmjuqt3cw5elyi' model='meta/llama-2-7b-chat' version='13c3cdee13ee059ab779f0291d29054dab00a47dad8261375654de5540165fb0' destination=None status='starting' input={'num_train_epochs': 3, 'train_data': 'https://replicate.delivery/pbxt/JyrgXaadFpOt1V3J6CGRW1Jdoe6t2DObqdYjm9aFG6MIcESm/data.jsonl'} output=None logs='' error=None created_at='2023-12-02T21:52:22.374751149Z' started_at=None completed_at=None urls={'cancel': 'https://api.replicate.com/v1/predictions/y4czartb25qvhmjuqt3cw5elyi/cancel', 'get': 'https://api.replicate.com/v1/predictions/y4czartb25qvhmjuqt3cw5elyi'}\n"
     ]
    }
   ],
   "source": [
    "\n",
    "\n",
    "training = replicate.trainings.create(\n",
    "  version=model_version,\n",
    "  input={\n",
    "    \"train_data\": \"https://replicate.delivery/pbxt/JyrgXaadFpOt1V3J6CGRW1Jdoe6t2DObqdYjm9aFG6MIcESm/data.jsonl\",\n",
    "    \"num_train_epochs\": 3\n",
    "  },\n",
    "  destination=\"npatta01/llama2-ecommerce-st\"\n",
    ")\n",
    "\n",
    "print(training)"
   ]
  },
  {
   "cell_type": "code",
   "execution_count": null,
   "id": "a7fa6699-038e-4928-ba9a-a9efafc9ab72",
   "metadata": {},
   "outputs": [],
   "source": []
  },
  {
   "cell_type": "code",
   "execution_count": null,
   "id": "b935821e-a2de-462e-96e6-4a4f39cb22ad",
   "metadata": {},
   "outputs": [],
   "source": []
  },
  {
   "cell_type": "code",
   "execution_count": null,
   "id": "7c8c5b45-3007-4d53-bbff-2910a16728a4",
   "metadata": {},
   "outputs": [],
   "source": []
  },
  {
   "cell_type": "code",
   "execution_count": 56,
   "id": "d22e0a79-93b4-4cba-a493-6b6dd6e2c130",
   "metadata": {},
   "outputs": [],
   "source": [
    "# If you've got a handle to the object returned by create()\n",
    "training.reload()\n",
    "\n",
    "# If you've got the training ID\n",
    "training = replicate.trainings.get(\"y4czartb25qvhmjuqt3cw5elyi\")\n",
    "\n",
    "if training.status == \"succeeded\":\n",
    "    print(training.output)\n",
    "    # {\"weights\": \"...\", \"version\": \"...\""
   ]
  },
  {
   "cell_type": "code",
   "execution_count": null,
   "id": "6caebad5-bb79-4dcc-8050-1c058e3864cc",
   "metadata": {},
   "outputs": [],
   "source": []
  }
 ],
 "metadata": {
  "kernelspec": {
   "display_name": "Python 3 (ipykernel)",
   "language": "python",
   "name": "python3"
  },
  "language_info": {
   "codemirror_mode": {
    "name": "ipython",
    "version": 3
   },
   "file_extension": ".py",
   "mimetype": "text/x-python",
   "name": "python",
   "nbconvert_exporter": "python",
   "pygments_lexer": "ipython3",
   "version": "3.9.16"
  }
 },
 "nbformat": 4,
 "nbformat_minor": 5
}
