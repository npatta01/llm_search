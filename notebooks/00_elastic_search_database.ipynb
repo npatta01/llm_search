{
 "cells": [
  {
   "cell_type": "code",
   "execution_count": null,
   "metadata": {
    "id": "dVqlBmV5bBb6"
   },
   "outputs": [],
   "source": [
    "import time"
   ]
  },
  {
   "cell_type": "code",
   "execution_count": 17,
   "metadata": {
    "colab": {
     "base_uri": "https://localhost:8080/"
    },
    "id": "jxziKPfVahhj",
    "outputId": "252d4236-2e74-4ac7-8570-dabe2b7a82b0"
   },
   "outputs": [
    {
     "name": "stdout",
     "output_type": "stream",
     "text": [
      "elasticsearch-8.11.1-linux-x86_64.tar.gz: OK\n"
     ]
    }
   ],
   "source": [
    "%%bash\n",
    "\n",
    "wget -q https://artifacts.elastic.co/downloads/elasticsearch/elasticsearch-8.11.1-linux-x86_64.tar.gz\n",
    "wget -q https://artifacts.elastic.co/downloads/elasticsearch/elasticsearch-8.11.1-linux-x86_64.tar.gz.sha512\n",
    "tar -xzf elasticsearch-8.11.1-linux-x86_64.tar.gz\n",
    "sudo chown -R daemon:daemon elasticsearch-8.11.1/\n",
    "shasum -a 512 -c elasticsearch-8.11.1-linux-x86_64.tar.gz.sha512"
   ]
  },
  {
   "cell_type": "code",
   "execution_count": 19,
   "metadata": {
    "id": "rxl0sf3xZvzW"
   },
   "outputs": [],
   "source": [
    "%%bash --bg\n",
    "\n",
    "sudo -H -u daemon elasticsearch-8.11.1/bin/elasticsearch\n"
   ]
  },
  {
   "cell_type": "code",
   "execution_count": 20,
   "metadata": {
    "id": "qHesUMxoa895"
   },
   "outputs": [],
   "source": [
    "# Sleep for few seconds to let the instance start.\n",
    "time.sleep(20)"
   ]
  },
  {
   "cell_type": "code",
   "execution_count": 21,
   "metadata": {
    "colab": {
     "base_uri": "https://localhost:8080/"
    },
    "id": "S3n9HIhLbA4r",
    "outputId": "19db787a-aa1d-4d44-f295-f7b82b888846"
   },
   "outputs": [
    {
     "name": "stdout",
     "output_type": "stream",
     "text": [
      "root       11332   11330  0 20:19 ?        00:00:00 sudo -H -u daemon elasticsearch-7.9.2/bin/elasti\n",
      "daemon     11333   11332  1 20:19 ?        00:00:37 /content/elasticsearch-7.9.2/jdk/bin/java -Xshar\n",
      "root       20864   20862  0 20:57 ?        00:00:00 sudo -H -u daemon elasticsearch-8.11.1/bin/elast\n",
      "daemon     20865   20864 66 20:57 ?        00:00:21 /content/elasticsearch-8.11.1/jdk/bin/java -Xms4\n",
      "root       20908   20906  0 20:57 ?        00:00:00 sudo -H -u daemon elasticsearch-8.11.1/bin/elast\n",
      "daemon     20909   20908 64 20:57 ?        00:00:17 /content/elasticsearch-8.11.1/jdk/bin/java -Xms4\n",
      "daemon     21043   20865 62 20:57 ?        00:00:05 /content/elasticsearch-8.11.1/jdk/bin/java -Des.\n",
      "daemon     21107   20909 39 20:57 ?        00:00:01 /content/elasticsearch-8.11.1/jdk/bin/java -Des.\n",
      "root       21124   21122  0 20:57 ?        00:00:00 grep elasticsearch\n"
     ]
    }
   ],
   "source": [
    "%%bash\n",
    "\n",
    "ps -ef | grep elasticsearch"
   ]
  },
  {
   "cell_type": "code",
   "execution_count": 22,
   "metadata": {
    "colab": {
     "base_uri": "https://localhost:8080/"
    },
    "id": "Bm2BpqxrbIKe",
    "outputId": "1391f807-9662-4b03-8717-ef2f1b870914"
   },
   "outputs": [
    {
     "name": "stdout",
     "output_type": "stream",
     "text": [
      "{\n",
      "  \"name\" : \"d80b960aa021\",\n",
      "  \"cluster_name\" : \"elasticsearch\",\n",
      "  \"cluster_uuid\" : \"mZfZACAoT_aWoiWZ-gLjrg\",\n",
      "  \"version\" : {\n",
      "    \"number\" : \"7.9.2\",\n",
      "    \"build_flavor\" : \"oss\",\n",
      "    \"build_type\" : \"tar\",\n",
      "    \"build_hash\" : \"d34da0ea4a966c4e49417f2da2f244e3e97b4e6e\",\n",
      "    \"build_date\" : \"2020-09-23T00:45:33.626720Z\",\n",
      "    \"build_snapshot\" : false,\n",
      "    \"lucene_version\" : \"8.6.2\",\n",
      "    \"minimum_wire_compatibility_version\" : \"6.8.0\",\n",
      "    \"minimum_index_compatibility_version\" : \"6.0.0-beta1\"\n",
      "  },\n",
      "  \"tagline\" : \"You Know, for Search\"\n",
      "}\n"
     ]
    }
   ],
   "source": [
    "%%bash\n",
    "\n",
    "curl -sX GET \"localhost:9200/\""
   ]
  },
  {
   "cell_type": "code",
   "execution_count": null,
   "metadata": {
    "id": "xh3p48dMbMUa"
   },
   "outputs": [],
   "source": []
  }
 ],
 "metadata": {
  "colab": {
   "name": "scratchpad",
   "provenance": []
  },
  "kernelspec": {
   "display_name": "Python 3 (ipykernel)",
   "language": "python",
   "name": "python3"
  },
  "language_info": {
   "codemirror_mode": {
    "name": "ipython",
    "version": 3
   },
   "file_extension": ".py",
   "mimetype": "text/x-python",
   "name": "python",
   "nbconvert_exporter": "python",
   "pygments_lexer": "ipython3",
   "version": "3.9.16"
  }
 },
 "nbformat": 4,
 "nbformat_minor": 4
}
