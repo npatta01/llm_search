{
 "cells": [
  {
   "cell_type": "code",
   "execution_count": null,
   "id": "c8f04c47-abf5-42c6-8543-c9da7d5a399d",
   "metadata": {},
   "outputs": [],
   "source": [
    "!pip install datasets py7zr"
   ]
  },
  {
   "cell_type": "code",
   "execution_count": 1,
   "id": "79e154f9-4e49-42cf-943a-e75f7fa707db",
   "metadata": {},
   "outputs": [],
   "source": [
    "# Important: install these dependencies first:\n",
    "# pip install datasets py7zr\n",
    "from datasets import load_dataset\n",
    "import os"
   ]
  },
  {
   "cell_type": "code",
   "execution_count": 2,
   "id": "ac2a19a1-246d-45f8-b954-9e1a206926f0",
   "metadata": {},
   "outputs": [],
   "source": [
    "os.environ[\"REPLICATE_API_TOKEN\"] = \"r8_XxUNPsB5I1iEJXo72xT2bhxqasc8oaQ3t1sOd\"\n"
   ]
  },
  {
   "cell_type": "code",
   "execution_count": 3,
   "id": "d9727ec0-4890-4bd1-a79c-eb2565ca9d1f",
   "metadata": {},
   "outputs": [],
   "source": [
    "PROMPT_TEMPLATE = \"[INST] <<SYS>>\\nUse the Input to provide a summary of a conversation.\\n<</SYS>>\\n\\nInput:\\n{message} [/INST]\\n\\nSummary: {summary}\"\n"
   ]
  },
  {
   "cell_type": "code",
   "execution_count": 4,
   "id": "5ba98a4c-9391-49cc-9a17-132985a7698f",
   "metadata": {},
   "outputs": [],
   "source": [
    "def format_instruction(sample):\n",
    "    return {\"text\": PROMPT_TEMPLATE.format(message=sample[\"dialogue\"], summary=sample[\"summary\"])}\n"
   ]
  },
  {
   "cell_type": "code",
   "execution_count": 5,
   "id": "6e644f37-73f4-4410-a13e-18082c068d1a",
   "metadata": {},
   "outputs": [
    {
     "name": "stderr",
     "output_type": "stream",
     "text": [
      "Reusing dataset samsum (/root/.cache/huggingface/datasets/samsum/samsum/0.0.0/f1d7c6b7353e6de335d444e424dc002ef70d1277109031327bc9cc6af5d3d46e)\n"
     ]
    },
    {
     "name": "stdout",
     "output_type": "stream",
     "text": [
      "[INST] <<SYS>>\n",
      "Use the Input to provide a summary of a conversation.\n",
      "<</SYS>>\n",
      "\n",
      "Input:\n",
      "Neville: Hi there, does anyone remember what date I got married on?\n",
      "Don: Are you serious?\n",
      "Neville: Dead serious. We're on vacation, and Tina's mad at me about something. I have a strange suspicion that this might have something to do with our wedding anniversary, but I have nowhere to check.\n",
      "Wyatt: Hang on, I'll ask my wife.\n",
      "Don: Haha, someone's in a lot of trouble :D\n",
      "Wyatt: September 17. I hope you remember the year ;) [/INST]\n",
      "\n",
      "Summary: Wyatt reminds Neville his wedding anniversary is on the 17th of September. Neville's wife is upset and it might be because Neville forgot about their anniversary.\n"
     ]
    }
   ],
   "source": [
    "ds = load_dataset(\"samsum\", split='train')\n",
    "print(format_instruction(ds[5])['text'])\n",
    "\n"
   ]
  },
  {
   "cell_type": "code",
   "execution_count": 6,
   "id": "99118b5e-2c9d-4ab5-a95a-71f6ce7cdd16",
   "metadata": {},
   "outputs": [
    {
     "name": "stderr",
     "output_type": "stream",
     "text": [
      "Loading cached processed dataset at /root/.cache/huggingface/datasets/samsum/samsum/0.0.0/f1d7c6b7353e6de335d444e424dc002ef70d1277109031327bc9cc6af5d3d46e/cache-0d383ff99652af18.arrow\n"
     ]
    },
    {
     "data": {
      "application/vnd.jupyter.widget-view+json": {
       "model_id": "51456eb9ac684324a2ba7aa7611843d8",
       "version_major": 2,
       "version_minor": 0
      },
      "text/plain": [
       "Creating json from Arrow format:   0%|          | 0/2 [00:00<?, ?ba/s]"
      ]
     },
     "metadata": {},
     "output_type": "display_data"
    },
    {
     "data": {
      "text/plain": [
       "11387086"
      ]
     },
     "execution_count": 6,
     "metadata": {},
     "output_type": "execute_result"
    }
   ],
   "source": [
    "ds = ds.map(format_instruction, remove_columns=['id', 'dialogue', 'summary'])\n",
    "ds.to_json(\"samsum.jsonl\")"
   ]
  },
  {
   "cell_type": "code",
   "execution_count": 7,
   "id": "7799c3fd-5c7f-425b-9429-7ff075c21196",
   "metadata": {},
   "outputs": [],
   "source": [
    "!cp samsum.jsonl data.jsonl"
   ]
  },
  {
   "cell_type": "code",
   "execution_count": null,
   "id": "e4a14176-8600-47af-9be8-aa3cb906b07f",
   "metadata": {},
   "outputs": [],
   "source": []
  },
  {
   "cell_type": "code",
   "execution_count": null,
   "id": "55ff4ad4-8b24-4b38-89da-b3237f884e93",
   "metadata": {},
   "outputs": [],
   "source": []
  },
  {
   "cell_type": "code",
   "execution_count": null,
   "id": "21685d96-52cc-4f35-be56-1aff06262a16",
   "metadata": {},
   "outputs": [],
   "source": [
    "%%bash\n",
    "\n",
    "export REPLICATE_API_TOKEN=\"r8_QpQZBY0Jc4rJDxfNt3CRqaJgAQIzfOP2frFLj\"\n",
    "\n",
    "RESPONSE=$(curl -s -X POST -H \"Authorization: Token $REPLICATE_API_TOKEN\" https://dreambooth-api-experimental.replicate.com/v1/upload/data.jsonl)\n",
    "\n",
    "curl -X PUT -H \"Content-Type: application/jsonl\" --upload-file data.jsonl \"$(jq -r \".upload_url\" <<< \"$RESPONSE\")\"\n",
    "\n",
    "SERVING_URL=$(jq -r \".serving_url\" <<< $RESPONSE)\n",
    "echo $SERVING_URL"
   ]
  },
  {
   "cell_type": "code",
   "execution_count": null,
   "id": "dd918f7f-0db2-4d44-b61f-8c366cf169fc",
   "metadata": {},
   "outputs": [],
   "source": [
    "!ls"
   ]
  },
  {
   "cell_type": "code",
   "execution_count": null,
   "id": "7c5734e8-f465-40d3-b7a8-20a75e4ebaa2",
   "metadata": {},
   "outputs": [],
   "source": []
  },
  {
   "cell_type": "code",
   "execution_count": 8,
   "id": "0c995d2b-d8e6-4806-83d4-b963f2d251d4",
   "metadata": {},
   "outputs": [],
   "source": [
    "import replicate"
   ]
  },
  {
   "cell_type": "code",
   "execution_count": null,
   "id": "7bdd05e7-3f89-4c5a-8ec7-35ac225b86b2",
   "metadata": {},
   "outputs": [],
   "source": [
    "??replicate.trainings.create"
   ]
  },
  {
   "cell_type": "code",
   "execution_count": null,
   "id": "ffd33c45-4389-4b08-a7f7-bad2e09818bf",
   "metadata": {},
   "outputs": [],
   "source": [
    "\n"
   ]
  },
  {
   "cell_type": "code",
   "execution_count": 10,
   "id": "19ae52ca-ed1f-4815-95cd-a848183c8d48",
   "metadata": {},
   "outputs": [
    {
     "name": "stdout",
     "output_type": "stream",
     "text": [
      "id='zvtkd63bsmknurzxbzun4trbma' model='meta/llama-2-7b' version='73001d654114dad81ec65da3b834e2f691af1e1526453189b7bf36fb3f32d0f9' destination=None status='starting' input={'num_train_epochs': 3, 'train_data': 'https://replicate.delivery/pbxt/JwjWHjg1vStUyR6i69dbwi5FxmmDyxonF4WTWjFHK8Vrl4Rp/data.jsonl'} output=None logs='' error=None created_at='2023-11-26T21:28:57.367643556Z' started_at=None completed_at=None urls={'cancel': 'https://api.replicate.com/v1/predictions/zvtkd63bsmknurzxbzun4trbma/cancel', 'get': 'https://api.replicate.com/v1/predictions/zvtkd63bsmknurzxbzun4trbma'}\n"
     ]
    }
   ],
   "source": [
    "\n",
    "\n",
    "training = replicate.trainings.create(\n",
    "  version=\"meta/llama-2-7b:73001d654114dad81ec65da3b834e2f691af1e1526453189b7bf36fb3f32d0f9\",\n",
    "  input={\n",
    "    \"train_data\": \"https://replicate.delivery/pbxt/JwjWHjg1vStUyR6i69dbwi5FxmmDyxonF4WTWjFHK8Vrl4Rp/data.jsonl\",\n",
    "    \"num_train_epochs\": 3\n",
    "  },\n",
    "  destination=\"npatta01/llama2-samsum\"\n",
    ")\n",
    "\n",
    "print(training)"
   ]
  },
  {
   "cell_type": "code",
   "execution_count": null,
   "id": "a7fa6699-038e-4928-ba9a-a9efafc9ab72",
   "metadata": {},
   "outputs": [],
   "source": []
  },
  {
   "cell_type": "code",
   "execution_count": null,
   "id": "b935821e-a2de-462e-96e6-4a4f39cb22ad",
   "metadata": {},
   "outputs": [],
   "source": []
  },
  {
   "cell_type": "code",
   "execution_count": null,
   "id": "7c8c5b45-3007-4d53-bbff-2910a16728a4",
   "metadata": {},
   "outputs": [],
   "source": []
  },
  {
   "cell_type": "code",
   "execution_count": 11,
   "id": "d22e0a79-93b4-4cba-a493-6b6dd6e2c130",
   "metadata": {},
   "outputs": [
    {
     "ename": "ReplicateError",
     "evalue": "Not found.",
     "output_type": "error",
     "traceback": [
      "\u001b[0;31m---------------------------------------------------------------------------\u001b[0m",
      "\u001b[0;31mReplicateError\u001b[0m                            Traceback (most recent call last)",
      "Cell \u001b[0;32mIn [11], line 5\u001b[0m\n\u001b[1;32m      2\u001b[0m training\u001b[38;5;241m.\u001b[39mreload()\n\u001b[1;32m      4\u001b[0m \u001b[38;5;66;03m# If you've got the training ID\u001b[39;00m\n\u001b[0;32m----> 5\u001b[0m training \u001b[38;5;241m=\u001b[39m \u001b[43mreplicate\u001b[49m\u001b[38;5;241;43m.\u001b[39;49m\u001b[43mtrainings\u001b[49m\u001b[38;5;241;43m.\u001b[39;49m\u001b[43mget\u001b[49m\u001b[43m(\u001b[49m\u001b[38;5;124;43m\"\u001b[39;49m\u001b[38;5;124;43mzz4ibbonubfz7carwiefibzgga\u001b[39;49m\u001b[38;5;124;43m\"\u001b[39;49m\u001b[43m)\u001b[49m\n\u001b[1;32m      7\u001b[0m \u001b[38;5;28;01mif\u001b[39;00m training\u001b[38;5;241m.\u001b[39mstatus \u001b[38;5;241m==\u001b[39m \u001b[38;5;124m\"\u001b[39m\u001b[38;5;124msucceeded\u001b[39m\u001b[38;5;124m\"\u001b[39m:\n\u001b[1;32m      8\u001b[0m     \u001b[38;5;28mprint\u001b[39m(training\u001b[38;5;241m.\u001b[39moutput)\n",
      "File \u001b[0;32m/usr/local/lib/python3.9/dist-packages/replicate/training.py:169\u001b[0m, in \u001b[0;36mTrainings.get\u001b[0;34m(self, id)\u001b[0m\n\u001b[1;32m    159\u001b[0m \u001b[38;5;28;01mdef\u001b[39;00m \u001b[38;5;21mget\u001b[39m(\u001b[38;5;28mself\u001b[39m, \u001b[38;5;28mid\u001b[39m: \u001b[38;5;28mstr\u001b[39m) \u001b[38;5;241m-\u001b[39m\u001b[38;5;241m>\u001b[39m Training:\n\u001b[1;32m    160\u001b[0m \u001b[38;5;250m    \u001b[39m\u001b[38;5;124;03m\"\"\"\u001b[39;00m\n\u001b[1;32m    161\u001b[0m \u001b[38;5;124;03m    Get a training by ID.\u001b[39;00m\n\u001b[1;32m    162\u001b[0m \n\u001b[0;32m   (...)\u001b[0m\n\u001b[1;32m    166\u001b[0m \u001b[38;5;124;03m        Training: The training object.\u001b[39;00m\n\u001b[1;32m    167\u001b[0m \u001b[38;5;124;03m    \"\"\"\u001b[39;00m\n\u001b[0;32m--> 169\u001b[0m     resp \u001b[38;5;241m=\u001b[39m \u001b[38;5;28;43mself\u001b[39;49m\u001b[38;5;241;43m.\u001b[39;49m\u001b[43m_client\u001b[49m\u001b[38;5;241;43m.\u001b[39;49m\u001b[43m_request\u001b[49m\u001b[43m(\u001b[49m\n\u001b[1;32m    170\u001b[0m \u001b[43m        \u001b[49m\u001b[38;5;124;43m\"\u001b[39;49m\u001b[38;5;124;43mGET\u001b[39;49m\u001b[38;5;124;43m\"\u001b[39;49m\u001b[43m,\u001b[49m\n\u001b[1;32m    171\u001b[0m \u001b[43m        \u001b[49m\u001b[38;5;124;43mf\u001b[39;49m\u001b[38;5;124;43m\"\u001b[39;49m\u001b[38;5;124;43m/v1/trainings/\u001b[39;49m\u001b[38;5;132;43;01m{\u001b[39;49;00m\u001b[38;5;28;43mid\u001b[39;49m\u001b[38;5;132;43;01m}\u001b[39;49;00m\u001b[38;5;124;43m\"\u001b[39;49m\u001b[43m,\u001b[49m\n\u001b[1;32m    172\u001b[0m \u001b[43m    \u001b[49m\u001b[43m)\u001b[49m\n\u001b[1;32m    174\u001b[0m     \u001b[38;5;28;01mreturn\u001b[39;00m _json_to_training(\u001b[38;5;28mself\u001b[39m\u001b[38;5;241m.\u001b[39m_client, resp\u001b[38;5;241m.\u001b[39mjson())\n",
      "File \u001b[0;32m/usr/local/lib/python3.9/dist-packages/replicate/client.py:79\u001b[0m, in \u001b[0;36mClient._request\u001b[0;34m(self, method, path, **kwargs)\u001b[0m\n\u001b[1;32m     77\u001b[0m \u001b[38;5;28;01mdef\u001b[39;00m \u001b[38;5;21m_request\u001b[39m(\u001b[38;5;28mself\u001b[39m, method: \u001b[38;5;28mstr\u001b[39m, path: \u001b[38;5;28mstr\u001b[39m, \u001b[38;5;241m*\u001b[39m\u001b[38;5;241m*\u001b[39mkwargs) \u001b[38;5;241m-\u001b[39m\u001b[38;5;241m>\u001b[39m httpx\u001b[38;5;241m.\u001b[39mResponse:\n\u001b[1;32m     78\u001b[0m     resp \u001b[38;5;241m=\u001b[39m \u001b[38;5;28mself\u001b[39m\u001b[38;5;241m.\u001b[39m_client\u001b[38;5;241m.\u001b[39mrequest(method, path, \u001b[38;5;241m*\u001b[39m\u001b[38;5;241m*\u001b[39mkwargs)\n\u001b[0;32m---> 79\u001b[0m     \u001b[43m_raise_for_status\u001b[49m\u001b[43m(\u001b[49m\u001b[43mresp\u001b[49m\u001b[43m)\u001b[49m\n\u001b[1;32m     81\u001b[0m     \u001b[38;5;28;01mreturn\u001b[39;00m resp\n",
      "File \u001b[0;32m/usr/local/lib/python3.9/dist-packages/replicate/client.py:328\u001b[0m, in \u001b[0;36m_raise_for_status\u001b[0;34m(resp)\u001b[0m\n\u001b[1;32m    326\u001b[0m \u001b[38;5;28;01mdef\u001b[39;00m \u001b[38;5;21m_raise_for_status\u001b[39m(resp: httpx\u001b[38;5;241m.\u001b[39mResponse) \u001b[38;5;241m-\u001b[39m\u001b[38;5;241m>\u001b[39m \u001b[38;5;28;01mNone\u001b[39;00m:\n\u001b[1;32m    327\u001b[0m     \u001b[38;5;28;01mif\u001b[39;00m \u001b[38;5;241m400\u001b[39m \u001b[38;5;241m<\u001b[39m\u001b[38;5;241m=\u001b[39m resp\u001b[38;5;241m.\u001b[39mstatus_code \u001b[38;5;241m<\u001b[39m \u001b[38;5;241m600\u001b[39m:\n\u001b[0;32m--> 328\u001b[0m         \u001b[38;5;28;01mraise\u001b[39;00m ReplicateError(resp\u001b[38;5;241m.\u001b[39mjson()[\u001b[38;5;124m\"\u001b[39m\u001b[38;5;124mdetail\u001b[39m\u001b[38;5;124m\"\u001b[39m])\n",
      "\u001b[0;31mReplicateError\u001b[0m: Not found."
     ]
    }
   ],
   "source": [
    "# If you've got a handle to the object returned by create()\n",
    "training.reload()\n",
    "\n",
    "# If you've got the training ID\n",
    "training = replicate.trainings.get(\"zz4ibbonubfz7carwiefibzgga\")\n",
    "\n",
    "if training.status == \"succeeded\":\n",
    "    print(training.output)\n",
    "    # {\"weights\": \"...\", \"version\": \"...\""
   ]
  },
  {
   "cell_type": "code",
   "execution_count": null,
   "id": "6caebad5-bb79-4dcc-8050-1c058e3864cc",
   "metadata": {},
   "outputs": [],
   "source": []
  }
 ],
 "metadata": {
  "kernelspec": {
   "display_name": "Python 3 (ipykernel)",
   "language": "python",
   "name": "python3"
  },
  "language_info": {
   "codemirror_mode": {
    "name": "ipython",
    "version": 3
   },
   "file_extension": ".py",
   "mimetype": "text/x-python",
   "name": "python",
   "nbconvert_exporter": "python",
   "pygments_lexer": "ipython3",
   "version": "3.9.16"
  }
 },
 "nbformat": 4,
 "nbformat_minor": 5
}
