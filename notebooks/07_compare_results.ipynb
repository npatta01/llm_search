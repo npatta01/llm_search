{
 "cells": [
  {
   "cell_type": "markdown",
   "id": "cc42f48d-6b74-41bf-ab57-507e5b44e64c",
   "metadata": {},
   "source": [
    "# About"
   ]
  },
  {
   "cell_type": "markdown",
   "id": "cd1e5e3e-be70-4a2e-b9d6-faa99c2661f4",
   "metadata": {},
   "source": [
    "in this notebook, we will compare original llama vs our finetuned llama model on the attribute extraction task"
   ]
  },
  {
   "cell_type": "markdown",
   "id": "529d49bc-439d-4479-bf4f-9f72b7226d17",
   "metadata": {},
   "source": [
    "# Imports"
   ]
  },
  {
   "cell_type": "code",
   "execution_count": 38,
   "id": "08017eee-4712-4cfd-bc58-35418cbfe574",
   "metadata": {},
   "outputs": [],
   "source": [
    "from dotenv import load_dotenv\n",
    "import os\n",
    "\n",
    "import os\n",
    "from langchain.chat_models import ChatOpenAI\n",
    "from langchain.llms import OpenAI\n",
    "from langchain import PromptTemplate\n",
    "from langchain import LLMChain\n",
    "from langchain.llms import Replicate\n",
    "\n",
    "from langchain.schema import StrOutputParser\n",
    "from langchain.cache import SQLiteCache\n",
    "from langchain.globals import set_llm_cache\n",
    "from langchain.callbacks import get_openai_callback\n",
    "\n",
    "from langchain.prompts import (\n",
    "    ChatPromptTemplate,\n",
    "    FewShotChatMessagePromptTemplate,\n",
    ")\n",
    "from langchain.output_parsers import CommaSeparatedListOutputParser\n",
    "import tiktoken\n",
    "from langchain.llms import CTransformers\n",
    "from langchain.llms.huggingface_pipeline import HuggingFacePipeline \n",
    "from langchain.llms import HuggingFaceHub\n",
    "from pydantic import BaseModel, Field\n",
    "\n",
    "\n",
    "from pydantic import BaseModel, Field\n",
    "from langchain.output_parsers import PydanticOutputParser\n",
    "from typing import Optional\n",
    "from typing_extensions import Annotated\n",
    "from enum import Enum\n",
    "from typing import Union\n",
    "import pandas as pd\n",
    "import rich\n",
    "import replicate"
   ]
  },
  {
   "cell_type": "code",
   "execution_count": null,
   "id": "fde653b0-a992-44e5-a232-60b184888cc3",
   "metadata": {},
   "outputs": [],
   "source": []
  },
  {
   "cell_type": "code",
   "execution_count": 2,
   "id": "df0573b1-b259-4b59-b22b-058ca9ede43d",
   "metadata": {},
   "outputs": [],
   "source": [
    "set_llm_cache(SQLiteCache(database_path=\".langchain.db\"))\n"
   ]
  },
  {
   "cell_type": "code",
   "execution_count": null,
   "id": "72841ae2-3300-4c29-b48f-6d58f0d75ec4",
   "metadata": {},
   "outputs": [],
   "source": []
  },
  {
   "cell_type": "code",
   "execution_count": 3,
   "id": "c79b4192-3852-4b15-9323-8a63380a1188",
   "metadata": {},
   "outputs": [
    {
     "data": {
      "text/plain": [
       "True"
      ]
     },
     "execution_count": 3,
     "metadata": {},
     "output_type": "execute_result"
    }
   ],
   "source": [
    "load_dotenv(\"../.env\") \n"
   ]
  },
  {
   "cell_type": "code",
   "execution_count": null,
   "id": "fa5e7e43-abe3-4854-b21f-e3bae9f9d4c7",
   "metadata": {},
   "outputs": [],
   "source": []
  },
  {
   "cell_type": "code",
   "execution_count": 4,
   "id": "043b65f8-5b67-4ddf-a5cd-eb0a8de58b70",
   "metadata": {},
   "outputs": [],
   "source": [
    "class Gender(str, Enum):\n",
    "    male = 'male'\n",
    "    female = 'female'\n",
    "    other = 'other'\n",
    "    not_given = 'not_given'\n",
    "\n",
    "\n",
    "class ProductUnderstanding(BaseModel):\n",
    "    brand: Optional[str] = Field(description=\"brand\", )\n",
    "    gender: Annotated[Union[Gender, None], Field(alias='Gender')] = None\n",
    "\n",
    "    #gender: Optional[str] = Field(description=\"gender\")\n",
    "    product_type: Optional[str] = Field(description=\"product_type\")\n",
    "    color: Optional[str] = Field(description=\"color\")\n",
    "    size: Optional[str] = Field(description=\"size\")"
   ]
  },
  {
   "cell_type": "code",
   "execution_count": 50,
   "id": "8c717ec9-a91d-4223-adc7-39b9f4cb8d7a",
   "metadata": {},
   "outputs": [],
   "source": [
    "prompt_template = \"\"\"\n",
    "Extract attributes from the given e-commerce customer query.\n",
    "Possible attributes are 'product type', 'brand', 'gender', 'color', 'size'.\n",
    "\n",
    "Input:\n",
    "{query} \n",
    "\n",
    "Output:\n",
    "\"\"\""
   ]
  },
  {
   "cell_type": "code",
   "execution_count": 51,
   "id": "cb68c151-9cb7-4f30-9250-3b2f9e56c35e",
   "metadata": {},
   "outputs": [],
   "source": [
    "parser = PydanticOutputParser(pydantic_object=ProductUnderstanding)\n"
   ]
  },
  {
   "cell_type": "code",
   "execution_count": 52,
   "id": "70c4dc9b-f8a6-4474-ac6e-c71c1c8d4e08",
   "metadata": {},
   "outputs": [],
   "source": [
    "prompt = PromptTemplate(template=prompt_template, input_variables=[\"query\"],\n",
    "                                 #partial_variables={\"format_instructions\":  parser.get_format_instructions()}\n",
    "                                 )\n"
   ]
  },
  {
   "cell_type": "code",
   "execution_count": null,
   "id": "6a6dc781-a663-4531-a4d1-ef9de66735c0",
   "metadata": {},
   "outputs": [],
   "source": []
  },
  {
   "cell_type": "code",
   "execution_count": null,
   "id": "ef1d9774-0d1c-4bb0-abcb-6f140c07020b",
   "metadata": {},
   "outputs": [],
   "source": []
  },
  {
   "cell_type": "code",
   "execution_count": 8,
   "id": "3490221c-dbd3-42eb-a98d-2ce347ba4710",
   "metadata": {},
   "outputs": [
    {
     "name": "stdout",
     "output_type": "stream",
     "text": [
      "\n",
      "Extract attributes from the given e-commerce customer query.\n",
      "Possible attributes are 'product type', 'brand', 'gender', 'color', 'size'.\n",
      "\n",
      "Input:\n",
      "nike men shoes \n",
      "\n",
      "Output:\n",
      "\n",
      "\n",
      "\n"
     ]
    }
   ],
   "source": [
    "print ( prompt.format(query = \"nike men shoes\" ) )\n"
   ]
  },
  {
   "cell_type": "code",
   "execution_count": 9,
   "id": "2dcc7081-4396-44af-b922-dc9d717feb95",
   "metadata": {},
   "outputs": [],
   "source": [
    "sample_product_title = \"nike black men shoes\"\n"
   ]
  },
  {
   "cell_type": "code",
   "execution_count": null,
   "id": "12c5cb39-022e-4c0b-ad87-5ba41b1ec8b3",
   "metadata": {},
   "outputs": [],
   "source": []
  },
  {
   "cell_type": "markdown",
   "id": "42e74a16-bd74-4e04-8da2-f05ccac2b860",
   "metadata": {},
   "source": [
    "## Gpt 4"
   ]
  },
  {
   "cell_type": "code",
   "execution_count": 10,
   "id": "b3a0be13-7e20-4003-9e8c-2b953d8bda67",
   "metadata": {},
   "outputs": [],
   "source": [
    "llm_openai = ChatOpenAI(model=\"gpt-4\")\n"
   ]
  },
  {
   "cell_type": "code",
   "execution_count": 11,
   "id": "a48d980d-484c-42b1-a653-663fe8820211",
   "metadata": {},
   "outputs": [],
   "source": [
    "#sample_product_title = \"MOERDENG Men's Waterproof Ski Jacket Warm Winter Snow Coat Mountain Windbreaker Hooded Raincoat\"\n",
    "\n",
    "chain = prompt | llm_openai \n",
    "\n",
    "output= chain.invoke({\"query\": sample_product_title})"
   ]
  },
  {
   "cell_type": "code",
   "execution_count": 12,
   "id": "97d6fa79-afae-4373-b58f-308953b72ba2",
   "metadata": {},
   "outputs": [
    {
     "data": {
      "text/plain": [
       "AIMessage(content=\"'product type': shoes,\\n'brand': nike,\\n'gender': men,\\n'color': black\")"
      ]
     },
     "execution_count": 12,
     "metadata": {},
     "output_type": "execute_result"
    }
   ],
   "source": [
    "output"
   ]
  },
  {
   "cell_type": "code",
   "execution_count": null,
   "id": "5822f2a4-9062-41ec-a4fc-85c5e9a52f1f",
   "metadata": {},
   "outputs": [],
   "source": []
  },
  {
   "cell_type": "code",
   "execution_count": null,
   "id": "606ef8fe-2f0e-42ff-bb97-041ac15ed6aa",
   "metadata": {},
   "outputs": [],
   "source": []
  },
  {
   "cell_type": "code",
   "execution_count": null,
   "id": "e7e6d4f7-69c1-4ee2-b165-43a7096d572f",
   "metadata": {},
   "outputs": [],
   "source": []
  },
  {
   "cell_type": "code",
   "execution_count": 58,
   "id": "39be3005-6700-434b-86ea-4bada99cfbf1",
   "metadata": {},
   "outputs": [],
   "source": [
    "llm_llama7b = Replicate(\n",
    "    model=\"meta/llama-2-7b:77dde5d6c56598691b9008f7d123a18d98f40e4b4978f8a72215ebfc2553ddd8\",\n",
    "    verbose=True\n",
    ")\n",
    "\n",
    "\n",
    "llm_llama7b_chat = Replicate(\n",
    "    model=\"meta/llama-2-7b-chat:13c3cdee13ee059ab779f0291d29054dab00a47dad8261375654de5540165fb0\",\n",
    "    verbose=True\n",
    ")\n",
    "\n",
    "\n",
    "\n",
    "llm_llama7b_finetuned = Replicate(\n",
    "    model=\"npatta01/llama2-ecommerce-st:caf9251ac6bff5756b7e33d361af4def27aeded696bbaa45e1cc690b849c13ea\",\n",
    "    verbose=True,\n",
    "     model_kwargs={\"temperature\": 0.75, \"max_new_tokens\": 128, \"top_p\": 0.9, \"min_new_tokens\": -1, \"top_k\": 50 },\n",
    ")\n",
    "\n"
   ]
  },
  {
   "cell_type": "markdown",
   "id": "7d4e7b9a-90fd-458b-b616-914d50474a89",
   "metadata": {},
   "source": [
    "gpt4"
   ]
  },
  {
   "cell_type": "code",
   "execution_count": 59,
   "id": "952aaf6c-9fb9-4b9a-8f92-a2928985b594",
   "metadata": {},
   "outputs": [
    {
     "name": "stdout",
     "output_type": "stream",
     "text": [
      "content=\"'product type': shoes, 'brand': nike, 'gender': men, 'color': black\"\n"
     ]
    }
   ],
   "source": [
    "chain = prompt | llm_openai \n",
    "\n",
    "print ( chain.invoke({\"query\": sample_product_title}) )"
   ]
  },
  {
   "cell_type": "markdown",
   "id": "fa885071-a8c2-4c7a-9d49-7c81f90cb47d",
   "metadata": {},
   "source": [
    "llama 7b"
   ]
  },
  {
   "cell_type": "code",
   "execution_count": 60,
   "id": "9f9be93b-84d7-4547-8e1c-47f7098373f7",
   "metadata": {},
   "outputs": [
    {
     "name": "stdout",
     "output_type": "stream",
     "text": [
      "{'type': 'product_type', 'brand': 'nike', 'gender': 'men', 'color': 'black'}\n",
      "\"\"\"\n",
      "def extract(customerQuery):\n",
      "   \"\"\"Returns dictionary of extracted attributes.\"\"\"\n",
      "   \n",
      "   # Extract product type, brand and gender\n",
      "   if \"nike\" in customerQuery or \"adidas\" in customerQuery \\\n",
      "       or \"puma\" in customerQuery or \"vans\" in customerQuery \\\n",
      "       or \"converse\" in customerQuery:\n",
      "       return {'type': 'product_type', 'brand': 'shoes\n"
     ]
    }
   ],
   "source": [
    "chain = prompt | llm_llama7b \n",
    "\n",
    "print ( chain.invoke({\"query\": sample_product_title}) )"
   ]
  },
  {
   "cell_type": "markdown",
   "id": "d1650045-158b-4c94-b494-7ffbbacc4196",
   "metadata": {},
   "source": [
    "7b chat"
   ]
  },
  {
   "cell_type": "code",
   "execution_count": 61,
   "id": "0f783b8a-aeac-4ef7-9929-cad5a7beca13",
   "metadata": {},
   "outputs": [
    {
     "name": "stdout",
     "output_type": "stream",
     "text": [
      "Great, I'd be happy to help! Based on the given query \"nike black men shoes\", here are some attributes that can be extracted:\n",
      "\n",
      "1. Product type: Shoes\n",
      "2. Brand: Nike\n",
      "3. Gender: Men\n",
      "4. Color: Black\n",
      "5. Size: None specified (as it is not mentioned in the query)\n",
      "\n",
      "Is there anything else you would like me to assist you with?\n"
     ]
    }
   ],
   "source": [
    "chain = prompt | llm_llama7b_chat \n",
    "\n",
    "print ( chain.invoke({\"query\": sample_product_title}) )"
   ]
  },
  {
   "cell_type": "code",
   "execution_count": null,
   "id": "5070f482-092b-4a39-8b66-7b5fbd7fc930",
   "metadata": {},
   "outputs": [],
   "source": []
  },
  {
   "cell_type": "code",
   "execution_count": null,
   "id": "3f161710-8978-4686-8e9a-000fa2366ca0",
   "metadata": {},
   "outputs": [],
   "source": []
  },
  {
   "cell_type": "markdown",
   "id": "38533d2a-d7fe-4d1a-a748-41f8b5c2562d",
   "metadata": {},
   "source": [
    "7b finetuned model"
   ]
  },
  {
   "cell_type": "code",
   "execution_count": 93,
   "id": "c64f8460-de35-47c0-aa8a-7a3d5e07fa50",
   "metadata": {},
   "outputs": [],
   "source": [
    "# chain = prompt | llm_llama7b_finetuned \n",
    "\n",
    "# print ( chain.invoke({\"query\": sample_product_title}) )"
   ]
  },
  {
   "cell_type": "code",
   "execution_count": 94,
   "id": "53dbdc3b-0745-46d5-b1d5-aaea832ff9d5",
   "metadata": {},
   "outputs": [],
   "source": [
    "# print ( prompt.format(query= sample_product_title) )"
   ]
  },
  {
   "cell_type": "code",
   "execution_count": null,
   "id": "2d456f8a-491d-4671-a5a4-7b81989f6b14",
   "metadata": {},
   "outputs": [],
   "source": []
  },
  {
   "cell_type": "code",
   "execution_count": null,
   "id": "4001352d-024b-4a8c-97e3-510603ae8603",
   "metadata": {},
   "outputs": [],
   "source": [
    "\n",
    "# output = replicate.run(\n",
    "#   \"npatta01/llama2-ecommerce-st:caf9251ac6bff5756b7e33d361af4def27aeded696bbaa45e1cc690b849c13ea\",\n",
    "#   input={\n",
    "#     \"debug\": False,\n",
    "#     \"top_k\": 50,\n",
    "#     \"top_p\": 0.9,\n",
    "#     \"prompt\": prompt.format(query= sample_product_title),\n",
    "#     \"temperature\": 0.75,\n",
    "#     \"max_new_tokens\": 128,\n",
    "#     \"min_new_tokens\": -1\n",
    "#   }\n",
    "# )\n",
    "# print(\"\".join(list(output) ) )"
   ]
  },
  {
   "cell_type": "markdown",
   "id": "038a0f8f-5131-4c13-8352-b048e1b11730",
   "metadata": {},
   "source": [
    "![stuff](assets/finetuned_llm.jpg)\n"
   ]
  },
  {
   "cell_type": "code",
   "execution_count": null,
   "id": "bb605138-3374-49f0-a94c-b6c2402a0dac",
   "metadata": {},
   "outputs": [],
   "source": []
  }
 ],
 "metadata": {
  "kernelspec": {
   "display_name": "Python 3 (ipykernel)",
   "language": "python",
   "name": "python3"
  },
  "language_info": {
   "codemirror_mode": {
    "name": "ipython",
    "version": 3
   },
   "file_extension": ".py",
   "mimetype": "text/x-python",
   "name": "python",
   "nbconvert_exporter": "python",
   "pygments_lexer": "ipython3",
   "version": "3.9.16"
  }
 },
 "nbformat": 4,
 "nbformat_minor": 5
}
