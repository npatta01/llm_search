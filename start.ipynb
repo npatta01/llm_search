{
 "cells": [
  {
   "cell_type": "markdown",
   "id": "104ea83d-a889-4b2d-939e-253cbb859799",
   "metadata": {
    "tags": []
   },
   "source": [
    "# Setup"
   ]
  },
  {
   "cell_type": "markdown",
   "id": "aad9bce9-c16c-4cff-8591-84ae8bb09dac",
   "metadata": {},
   "source": [
    "\n",
    "\n",
    "<a target=\"_blank\" href=\"https://colab.research.google.com/github/npatta01/llm_search/blob/initial/notebooks/01_setup.ipynb\">\n",
    "  <img src=\"https://colab.research.google.com/assets/colab-badge.svg\" alt=\"Open In Colab\"/>\n",
    "</a>"
   ]
  },
  {
   "cell_type": "markdown",
   "id": "1b8fa416-7203-4111-a746-2a04e417c697",
   "metadata": {},
   "source": [
    "## About"
   ]
  },
  {
   "cell_type": "markdown",
   "id": "8ba7b0d5-476d-4e24-8b9b-2ea1bb91b1ee",
   "metadata": {},
   "source": [
    "This notebook sets up for google colab for the workshop"
   ]
  },
  {
   "cell_type": "code",
   "execution_count": null,
   "id": "6108d7dd-a58f-46fb-a1ed-7651ad848b3f",
   "metadata": {},
   "outputs": [],
   "source": []
  },
  {
   "cell_type": "code",
   "execution_count": 1,
   "id": "e7c1f96c-21ff-4d66-8deb-375050e77954",
   "metadata": {},
   "outputs": [],
   "source": [
    "import time"
   ]
  },
  {
   "cell_type": "markdown",
   "id": "5dd2590c-c078-48f6-8edc-36eb72c9fd45",
   "metadata": {},
   "source": [
    "## Code"
   ]
  },
  {
   "cell_type": "markdown",
   "id": "5ba1ec4e-e511-406b-a7f3-8f26e27f51fb",
   "metadata": {},
   "source": [
    "clone the code and install requirements"
   ]
  },
  {
   "cell_type": "code",
   "execution_count": null,
   "id": "10515012-d92a-4fbf-8e6c-a5f460d1beea",
   "metadata": {},
   "outputs": [],
   "source": [
    "%%bash\n",
    "git clone https://github.com/npatta01/llm_search.git\n",
    "\n"
   ]
  },
  {
   "cell_type": "code",
   "execution_count": 7,
   "id": "be5d1ef7-1be0-4bb2-8613-de2553dc4da3",
   "metadata": {},
   "outputs": [
    {
     "name": "stdout",
     "output_type": "stream",
     "text": [
      "Collecting ipyplot\n",
      "  Downloading ipyplot-1.1.1-py3-none-any.whl (13 kB)\n",
      "Collecting rank_bm25\n",
      "  Downloading rank_bm25-0.2.2-py3-none-any.whl (8.6 kB)\n",
      "Collecting elasticsearch==7.9.*\n",
      "  Downloading elasticsearch-7.9.1-py2.py3-none-any.whl (219 kB)\n",
      "\u001b[2K     \u001b[90m━━━━━━━━━━━━━━━━━━━━━━━━━━━━━━━━━━━━━━\u001b[0m \u001b[32m219.2/219.2 kB\u001b[0m \u001b[31m27.9 MB/s\u001b[0m eta \u001b[36m0:00:00\u001b[0m\n",
      "\u001b[?25hRequirement already satisfied: urllib3>=1.21.1 in /usr/local/lib/python3.9/dist-packages (from elasticsearch==7.9.*->-r requirements.txt (line 3)) (1.26.14)\n",
      "Requirement already satisfied: certifi in /usr/lib/python3/dist-packages (from elasticsearch==7.9.*->-r requirements.txt (line 3)) (2019.11.28)\n",
      "Requirement already satisfied: IPython in /usr/local/lib/python3.9/dist-packages (from ipyplot->-r requirements.txt (line 1)) (8.5.0)\n",
      "Requirement already satisfied: numpy in /usr/local/lib/python3.9/dist-packages (from ipyplot->-r requirements.txt (line 1)) (1.23.4)\n",
      "Requirement already satisfied: shortuuid in /usr/local/lib/python3.9/dist-packages (from ipyplot->-r requirements.txt (line 1)) (1.0.11)\n",
      "Requirement already satisfied: pillow in /usr/local/lib/python3.9/dist-packages (from ipyplot->-r requirements.txt (line 1)) (9.2.0)\n",
      "Requirement already satisfied: prompt-toolkit<3.1.0,>3.0.1 in /usr/local/lib/python3.9/dist-packages (from IPython->ipyplot->-r requirements.txt (line 1)) (3.0.36)\n",
      "Requirement already satisfied: jedi>=0.16 in /usr/local/lib/python3.9/dist-packages (from IPython->ipyplot->-r requirements.txt (line 1)) (0.18.2)\n",
      "Requirement already satisfied: pygments>=2.4.0 in /usr/local/lib/python3.9/dist-packages (from IPython->ipyplot->-r requirements.txt (line 1)) (2.14.0)\n",
      "Requirement already satisfied: decorator in /usr/local/lib/python3.9/dist-packages (from IPython->ipyplot->-r requirements.txt (line 1)) (5.1.1)\n",
      "Requirement already satisfied: matplotlib-inline in /usr/local/lib/python3.9/dist-packages (from IPython->ipyplot->-r requirements.txt (line 1)) (0.1.6)\n",
      "Requirement already satisfied: pickleshare in /usr/local/lib/python3.9/dist-packages (from IPython->ipyplot->-r requirements.txt (line 1)) (0.7.5)\n",
      "Requirement already satisfied: backcall in /usr/local/lib/python3.9/dist-packages (from IPython->ipyplot->-r requirements.txt (line 1)) (0.2.0)\n",
      "Requirement already satisfied: stack-data in /usr/local/lib/python3.9/dist-packages (from IPython->ipyplot->-r requirements.txt (line 1)) (0.6.2)\n",
      "Requirement already satisfied: traitlets>=5 in /usr/local/lib/python3.9/dist-packages (from IPython->ipyplot->-r requirements.txt (line 1)) (5.8.1)\n",
      "Requirement already satisfied: pexpect>4.3 in /usr/local/lib/python3.9/dist-packages (from IPython->ipyplot->-r requirements.txt (line 1)) (4.8.0)\n",
      "Requirement already satisfied: parso<0.9.0,>=0.8.0 in /usr/local/lib/python3.9/dist-packages (from jedi>=0.16->IPython->ipyplot->-r requirements.txt (line 1)) (0.8.3)\n",
      "Requirement already satisfied: ptyprocess>=0.5 in /usr/local/lib/python3.9/dist-packages (from pexpect>4.3->IPython->ipyplot->-r requirements.txt (line 1)) (0.7.0)\n",
      "Requirement already satisfied: wcwidth in /usr/local/lib/python3.9/dist-packages (from prompt-toolkit<3.1.0,>3.0.1->IPython->ipyplot->-r requirements.txt (line 1)) (0.2.6)\n",
      "Requirement already satisfied: executing>=1.2.0 in /usr/local/lib/python3.9/dist-packages (from stack-data->IPython->ipyplot->-r requirements.txt (line 1)) (1.2.0)\n",
      "Requirement already satisfied: pure-eval in /usr/local/lib/python3.9/dist-packages (from stack-data->IPython->ipyplot->-r requirements.txt (line 1)) (0.2.2)\n",
      "Requirement already satisfied: asttokens>=2.1.0 in /usr/local/lib/python3.9/dist-packages (from stack-data->IPython->ipyplot->-r requirements.txt (line 1)) (2.2.1)\n",
      "Requirement already satisfied: six in /usr/lib/python3/dist-packages (from asttokens>=2.1.0->stack-data->IPython->ipyplot->-r requirements.txt (line 1)) (1.14.0)\n",
      "Installing collected packages: rank_bm25, elasticsearch, ipyplot\n",
      "Successfully installed elasticsearch-7.9.1 ipyplot-1.1.1 rank_bm25-0.2.2\n",
      "\u001b[33mWARNING: Running pip as the 'root' user can result in broken permissions and conflicting behaviour with the system package manager. It is recommended to use a virtual environment instead: https://pip.pypa.io/warnings/venv\u001b[0m\u001b[33m\n",
      "\u001b[0m"
     ]
    }
   ],
   "source": [
    "!pip install -r llm_search/requirements.txt"
   ]
  },
  {
   "cell_type": "code",
   "execution_count": null,
   "id": "6cf251df-ab7f-471a-ae68-aad1bfa38dc6",
   "metadata": {},
   "outputs": [],
   "source": []
  },
  {
   "cell_type": "markdown",
   "id": "d49746ec-1a74-4993-ae1f-3d2ff29bcc78",
   "metadata": {},
   "source": [
    "## Elastic Search"
   ]
  },
  {
   "cell_type": "markdown",
   "id": "9adeb6bd-6fed-48b5-8a9a-b0cf8c77d600",
   "metadata": {},
   "source": [
    "download elastic search"
   ]
  },
  {
   "cell_type": "code",
   "execution_count": 2,
   "id": "27a934b5-5277-4463-b615-248bae084262",
   "metadata": {},
   "outputs": [
    {
     "name": "stdout",
     "output_type": "stream",
     "text": [
      "elasticsearch-7.9.2-linux-x86_64.tar.gz: OK\n"
     ]
    }
   ],
   "source": [
    "%%bash\n",
    "\n",
    "wget -q https://artifacts.elastic.co/downloads/elasticsearch/elasticsearch-7.9.2-linux-x86_64.tar.gz\n",
    "wget -q https://artifacts.elastic.co/downloads/elasticsearch/elasticsearch-7.9.2-linux-x86_64.tar.gz.sha512\n",
    "tar -xzf elasticsearch-7.9.2-linux-x86_64.tar.gz\n",
    "sudo chown -R daemon:daemon elasticsearch-7.9.2/\n",
    "shasum -a 512 -c elasticsearch-7.9.2-linux-x86_64.tar.gz.sha512"
   ]
  },
  {
   "cell_type": "markdown",
   "id": "d4f6efb9-290e-45e4-925f-76fe056efef8",
   "metadata": {},
   "source": [
    "start elastic search"
   ]
  },
  {
   "cell_type": "code",
   "execution_count": 2,
   "id": "367c1d03-f8f7-45ad-9ba2-bfded857b0b3",
   "metadata": {},
   "outputs": [],
   "source": [
    "%%bash --bg\n",
    "\n",
    "sudo -H -u daemon elasticsearch-7.9.2/bin/elasticsearch"
   ]
  },
  {
   "cell_type": "markdown",
   "id": "a70b7aa9-6139-4d0e-8f70-7f0bba58fdcf",
   "metadata": {},
   "source": [
    "Sleep for few seconds to let the instance start."
   ]
  },
  {
   "cell_type": "code",
   "execution_count": 3,
   "id": "54bcb7e2-b0fd-4359-b505-6e8e1a6f100c",
   "metadata": {},
   "outputs": [],
   "source": [
    "time.sleep(60)"
   ]
  },
  {
   "cell_type": "code",
   "execution_count": null,
   "id": "2fb16b0d-c9aa-4131-8028-b2bae377b544",
   "metadata": {},
   "outputs": [],
   "source": []
  },
  {
   "cell_type": "code",
   "execution_count": 4,
   "id": "3c7baf0c-77e4-47d8-a125-d55c44708cc4",
   "metadata": {},
   "outputs": [
    {
     "name": "stdout",
     "output_type": "stream",
     "text": [
      "root         190     188  0 13:54 ?        00:00:00 sudo -H -u daemon elasticsearch-7.9.2/bin/elasticsearch\n",
      "daemon       191     190 81 13:54 ?        00:00:49 /notebooks/llm_search/elasticsearch-7.9.2/jdk/bin/java -Xshare:auto -Des.networkaddress.cache.ttl=60 -Des.networkaddress.cache.negative.ttl=10 -XX:+AlwaysPreTouch -Xss1m -Djava.awt.headless=true -Dfile.encoding=UTF-8 -Djna.nosys=true -XX:-OmitStackTraceInFastThrow -XX:+ShowCodeDetailsInExceptionMessages -Dio.netty.noUnsafe=true -Dio.netty.noKeySetOptimization=true -Dio.netty.recycler.maxCapacityPerThread=0 -Dio.netty.allocator.numDirectArenas=0 -Dlog4j.shutdownHookEnabled=false -Dlog4j2.disable.jmx=true -Djava.locale.providers=SPI,COMPAT -Xms1g -Xmx1g -XX:+UseG1GC -XX:G1ReservePercent=25 -XX:InitiatingHeapOccupancyPercent=30 -Djava.io.tmpdir=/tmp/elasticsearch-17661606483839017121 -XX:+HeapDumpOnOutOfMemoryError -XX:HeapDumpPath=data -XX:ErrorFile=logs/hs_err_pid%p.log -Xlog:gc*,gc+age=trace,safepoint:file=logs/gc.log:utctime,pid,tags:filecount=32,filesize=64m -XX:MaxDirectMemorySize=536870912 -Des.path.home=/notebooks/llm_search/elasticsearch-7.9.2 -Des.path.conf=/notebooks/llm_search/elasticsearch-7.9.2/config -Des.distribution.flavor=default -Des.distribution.type=tar -Des.bundled_jdk=true -cp /notebooks/llm_search/elasticsearch-7.9.2/lib/* org.elasticsearch.bootstrap.Elasticsearch\n",
      "daemon       395     191  0 13:54 ?        00:00:00 /notebooks/llm_search/elasticsearch-7.9.2/modules/x-pack-ml/platform/linux-x86_64/bin/controller\n",
      "root         465     462  0 13:55 ?        00:00:00 grep elasticsearch\n"
     ]
    }
   ],
   "source": [
    "%%bash\n",
    "\n",
    "ps -ef | grep elasticsearch"
   ]
  },
  {
   "cell_type": "code",
   "execution_count": null,
   "id": "c7348502-0cbc-4d4d-b9ac-7f66baccb9f4",
   "metadata": {},
   "outputs": [],
   "source": []
  },
  {
   "cell_type": "code",
   "execution_count": null,
   "id": "0cc5b85c-c3ea-43b8-b00b-9b528ab85fc7",
   "metadata": {},
   "outputs": [],
   "source": []
  },
  {
   "cell_type": "markdown",
   "id": "f14cb9f9-ed8e-4356-a448-f8de16128c9c",
   "metadata": {},
   "source": [
    "check if elastic search is running"
   ]
  },
  {
   "cell_type": "code",
   "execution_count": 5,
   "id": "5a8a86ae-6f82-4b00-8f6c-f98bf3f38b99",
   "metadata": {},
   "outputs": [
    {
     "name": "stdout",
     "output_type": "stream",
     "text": [
      "{\n",
      "  \"name\" : \"n099d5e4t1\",\n",
      "  \"cluster_name\" : \"elasticsearch\",\n",
      "  \"cluster_uuid\" : \"XRuFoetgQ-a5r2oh6zfbxQ\",\n",
      "  \"version\" : {\n",
      "    \"number\" : \"7.9.2\",\n",
      "    \"build_flavor\" : \"default\",\n",
      "    \"build_type\" : \"tar\",\n",
      "    \"build_hash\" : \"d34da0ea4a966c4e49417f2da2f244e3e97b4e6e\",\n",
      "    \"build_date\" : \"2020-09-23T00:45:33.626720Z\",\n",
      "    \"build_snapshot\" : false,\n",
      "    \"lucene_version\" : \"8.6.2\",\n",
      "    \"minimum_wire_compatibility_version\" : \"6.8.0\",\n",
      "    \"minimum_index_compatibility_version\" : \"6.0.0-beta1\"\n",
      "  },\n",
      "  \"tagline\" : \"You Know, for Search\"\n",
      "}\n"
     ]
    }
   ],
   "source": [
    "%%bash\n",
    "\n",
    "curl -sX GET \"localhost:9200/\""
   ]
  },
  {
   "cell_type": "code",
   "execution_count": null,
   "id": "ac05a6ca-ba1f-424c-8edd-8c2ebf85ec6a",
   "metadata": {},
   "outputs": [],
   "source": []
  },
  {
   "cell_type": "markdown",
   "id": "b46fe88a-9160-491a-b90d-3de739bc9be1",
   "metadata": {},
   "source": [
    "## TODO: Tokens"
   ]
  },
  {
   "cell_type": "markdown",
   "id": "913a730c-667b-480f-992d-49709cd97bee",
   "metadata": {},
   "source": [
    "Download .env file containing api keys. \n"
   ]
  },
  {
   "cell_type": "code",
   "execution_count": null,
   "id": "467313f2-8b77-46b0-9809-83846740a01c",
   "metadata": {},
   "outputs": [],
   "source": []
  },
  {
   "cell_type": "markdown",
   "id": "6db9db93-a3a7-43ae-a9c6-23b0daffb552",
   "metadata": {},
   "source": [
    "Note (for future):    \n",
    "The keys in the `.env` file wont be valid outside a workshop. \n",
    "\n",
    "For future, use the `.env_sample` as a template and replace with your own keys.\n"
   ]
  },
  {
   "cell_type": "code",
   "execution_count": null,
   "id": "679fbd5d-0c8c-4887-8626-bf8b271232b2",
   "metadata": {},
   "outputs": [],
   "source": []
  }
 ],
 "metadata": {
  "kernelspec": {
   "display_name": "Python 3 (ipykernel)",
   "language": "python",
   "name": "python3"
  },
  "language_info": {
   "codemirror_mode": {
    "name": "ipython",
    "version": 3
   },
   "file_extension": ".py",
   "mimetype": "text/x-python",
   "name": "python",
   "nbconvert_exporter": "python",
   "pygments_lexer": "ipython3",
   "version": "3.9.16"
  }
 },
 "nbformat": 4,
 "nbformat_minor": 5
}
